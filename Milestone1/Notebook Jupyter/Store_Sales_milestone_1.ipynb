{
  "cells": [
    {
      "cell_type": "markdown",
      "id": "704b3fe8-67c5-45ad-a624-c2bd014a6caf",
      "metadata": {
        "id": "704b3fe8-67c5-45ad-a624-c2bd014a6caf"
      },
      "source": [
        "# Import libraries"
      ]
    },
    {
      "cell_type": "code",
      "execution_count": 1,
      "id": "24ac5b14-70a2-46cb-ab18-be724dee05ff",
      "metadata": {
        "id": "24ac5b14-70a2-46cb-ab18-be724dee05ff"
      },
      "outputs": [],
      "source": [
        "import numpy as np\n",
        "import pandas as pd\n",
        "import matplotlib.pyplot as plt\n",
        "import seaborn as sns\n",
        "from sklearn.preprocessing import LabelEncoder,StandardScaler"
      ]
    },
    {
      "cell_type": "markdown",
      "id": "7a1f8ccb-b80e-435a-9ed4-495bbbfede92",
      "metadata": {
        "id": "7a1f8ccb-b80e-435a-9ed4-495bbbfede92"
      },
      "source": [
        "# Load the Datasets\n",
        "We load all the required datasets.\n",
        "For columns that represent dates (e.g., date), we use parse_dates=[\"date\"] when reading the files to automatically convert them into datetime64 objects. This makes time-based operations much easier more convenient for time series analysis."
      ]
    },
    {
      "cell_type": "code",
      "execution_count": 2,
      "id": "4a8da38b-7697-4054-b97a-ef3228c77013",
      "metadata": {
        "id": "4a8da38b-7697-4054-b97a-ef3228c77013"
      },
      "outputs": [],
      "source": [
        "train = pd.read_csv(\"train.csv\", parse_dates=[\"date\"])\n",
        "test = pd.read_csv(\"test.csv\", parse_dates=[\"date\"])\n",
        "stores = pd.read_csv(\"stores.csv\")\n",
        "transactions = pd.read_csv(\"transactions.csv\", parse_dates=[\"date\"])\n",
        "holidays = pd.read_csv(\"holidays_events.csv\", parse_dates=[\"date\"])\n",
        "holidays=holidays[holidays[\"transferred\"]==False]\n",
        "oil = pd.read_csv(\"oil.csv\", parse_dates=[\"date\"])"
      ]
    },
    {
      "cell_type": "code",
      "execution_count": 3,
      "id": "93fffee6-6f7f-4d2f-b6f9-c9aeb6b5e5db",
      "metadata": {
        "colab": {
          "base_uri": "https://localhost:8080/"
        },
        "id": "93fffee6-6f7f-4d2f-b6f9-c9aeb6b5e5db",
        "outputId": "c528fbe3-289e-4c18-b68d-e2344bec8ca5"
      },
      "outputs": [
        {
          "data": {
            "text/plain": [
              "Index(['id', 'date', 'store_nbr', 'family', 'sales', 'onpromotion'], dtype='object')"
            ]
          },
          "execution_count": 3,
          "metadata": {},
          "output_type": "execute_result"
        }
      ],
      "source": [
        "train.columns"
      ]
    },
    {
      "cell_type": "code",
      "execution_count": 4,
      "id": "bcdb58d5-4a61-4afb-af82-1c79573280d4",
      "metadata": {
        "colab": {
          "base_uri": "https://localhost:8080/"
        },
        "id": "bcdb58d5-4a61-4afb-af82-1c79573280d4",
        "outputId": "b6311854-09ed-430c-b75f-5f8d361d26d1"
      },
      "outputs": [
        {
          "data": {
            "text/plain": [
              "Index(['id', 'date', 'store_nbr', 'family', 'onpromotion'], dtype='object')"
            ]
          },
          "execution_count": 4,
          "metadata": {},
          "output_type": "execute_result"
        }
      ],
      "source": [
        "test.columns"
      ]
    },
    {
      "cell_type": "code",
      "execution_count": 5,
      "id": "f826b69a-6bab-48aa-a6b7-0cc15d697166",
      "metadata": {
        "colab": {
          "base_uri": "https://localhost:8080/"
        },
        "id": "f826b69a-6bab-48aa-a6b7-0cc15d697166",
        "outputId": "e42f806f-3588-42a2-d58f-4f6c0556382c"
      },
      "outputs": [
        {
          "data": {
            "text/plain": [
              "Index(['store_nbr', 'city', 'state', 'type', 'cluster'], dtype='object')"
            ]
          },
          "execution_count": 5,
          "metadata": {},
          "output_type": "execute_result"
        }
      ],
      "source": [
        "stores.columns"
      ]
    },
    {
      "cell_type": "code",
      "execution_count": 6,
      "id": "6355d567-612c-4186-9c8f-d3ca410fa57d",
      "metadata": {
        "colab": {
          "base_uri": "https://localhost:8080/"
        },
        "id": "6355d567-612c-4186-9c8f-d3ca410fa57d",
        "outputId": "160eaf03-bce8-43fb-8587-68983c683e69"
      },
      "outputs": [
        {
          "data": {
            "text/plain": [
              "Index(['date', 'store_nbr', 'transactions'], dtype='object')"
            ]
          },
          "execution_count": 6,
          "metadata": {},
          "output_type": "execute_result"
        }
      ],
      "source": [
        "transactions.columns"
      ]
    },
    {
      "cell_type": "code",
      "execution_count": 7,
      "id": "18589c75-fd4e-4ea8-9458-e1f7df2b48bc",
      "metadata": {
        "colab": {
          "base_uri": "https://localhost:8080/"
        },
        "id": "18589c75-fd4e-4ea8-9458-e1f7df2b48bc",
        "outputId": "a02a8dbe-7a9b-4225-e3d5-9817fe9e25c5"
      },
      "outputs": [
        {
          "data": {
            "text/plain": [
              "Index(['date', 'type', 'locale', 'locale_name', 'description', 'transferred'], dtype='object')"
            ]
          },
          "execution_count": 7,
          "metadata": {},
          "output_type": "execute_result"
        }
      ],
      "source": [
        "holidays.columns"
      ]
    },
    {
      "cell_type": "code",
      "execution_count": 8,
      "id": "fad42f32-660d-446b-8da3-4b7f02f1d14c",
      "metadata": {
        "colab": {
          "base_uri": "https://localhost:8080/"
        },
        "id": "fad42f32-660d-446b-8da3-4b7f02f1d14c",
        "outputId": "05f6c102-081c-4443-f6fc-c451f6e63bcc"
      },
      "outputs": [
        {
          "data": {
            "text/plain": [
              "Index(['date', 'dcoilwtico'], dtype='object')"
            ]
          },
          "execution_count": 8,
          "metadata": {},
          "output_type": "execute_result"
        }
      ],
      "source": [
        "oil.columns"
      ]
    },
    {
      "cell_type": "markdown",
      "id": "9199cdfb-b02c-4fab-a485-ce56e7398936",
      "metadata": {
        "id": "9199cdfb-b02c-4fab-a485-ce56e7398936"
      },
      "source": [
        "# Merge Auxiliary Data into df\n",
        "\n",
        "- **stores.csv** → Adds store information (city, state, type, cluster).\n",
        "\n",
        "- **transactions.csv** → Adds daily transactions per store.\n",
        "\n",
        "- **oil.csv** → Adds oil prices (missing values forward-filled).\n",
        "\n",
        "- **holidays_events.csv** → Adds holiday/event type for each date."
      ]
    },
    {
      "cell_type": "code",
      "execution_count": 9,
      "id": "6235b6a3-eae6-4987-958b-f39f3ef6fcbd",
      "metadata": {
        "colab": {
          "base_uri": "https://localhost:8080/",
          "height": 348
        },
        "id": "6235b6a3-eae6-4987-958b-f39f3ef6fcbd",
        "outputId": "7fd4f8e5-7e17-416b-b080-6ce7b05efd34"
      },
      "outputs": [
        {
          "name": "stderr",
          "output_type": "stream",
          "text": [
            "C:\\Users\\Amr\\AppData\\Local\\Temp\\ipykernel_27340\\3285973314.py:3: FutureWarning: Series.fillna with 'method' is deprecated and will raise in a future version. Use obj.ffill() or obj.bfill() instead.\n",
            "  oil[\"dcoilwtico\"] = oil[\"dcoilwtico\"].fillna(method=\"ffill\")\n"
          ]
        }
      ],
      "source": [
        "df = train.merge(stores, on=\"store_nbr\", how=\"left\")\n",
        "df = df.merge(transactions, on=[\"date\", \"store_nbr\"], how=\"left\")\n",
        "oil[\"dcoilwtico\"] = oil[\"dcoilwtico\"].fillna(method=\"ffill\")\n",
        "df = df.merge(oil, on=\"date\", how=\"left\")\n",
        "df = df.merge(holidays[[\"date\",\"type\"]], on=\"date\", how=\"left\")"
      ]
    },
    {
      "cell_type": "markdown",
      "id": "4254f3a9",
      "metadata": {},
      "source": [
        "## Remove Duplicate"
      ]
    },
    {
      "cell_type": "code",
      "execution_count": 10,
      "id": "a1f6b36e",
      "metadata": {},
      "outputs": [
        {
          "name": "stdout",
          "output_type": "stream",
          "text": [
            "Removed 30294 duplicate rows.\n"
          ]
        },
        {
          "data": {
            "text/plain": [
              "(3024054, 13)"
            ]
          },
          "execution_count": 10,
          "metadata": {},
          "output_type": "execute_result"
        }
      ],
      "source": [
        "initial_rows = df.shape[0]\n",
        "df = df.drop_duplicates()\n",
        "print(f\"Removed {initial_rows - df.shape[0]} duplicate rows.\")\n",
        "df.shape"
      ]
    },
    {
      "cell_type": "markdown",
      "id": "f15c8574",
      "metadata": {},
      "source": [
        "## Fill Missing values in type_y"
      ]
    },
    {
      "cell_type": "code",
      "execution_count": 11,
      "id": "95af8c64",
      "metadata": {},
      "outputs": [],
      "source": [
        "df['type_y'] = df['type_y'].fillna('Work Day')"
      ]
    },
    {
      "cell_type": "markdown",
      "id": "3d6a3c36",
      "metadata": {},
      "source": [
        "## Average Sales per day_type"
      ]
    },
    {
      "cell_type": "code",
      "execution_count": 12,
      "id": "308570a3",
      "metadata": {},
      "outputs": [
        {
          "data": {
            "application/vnd.microsoft.datawrangler.viewer.v0+json": {
              "columns": [
                {
                  "name": "index",
                  "rawType": "int64",
                  "type": "integer"
                },
                {
                  "name": "type_y",
                  "rawType": "object",
                  "type": "string"
                },
                {
                  "name": "sales",
                  "rawType": "float64",
                  "type": "float"
                }
              ],
              "ref": "97f32839-aec2-4bf7-a46e-29a3033f82b8",
              "rows": [
                [
                  "0",
                  "Additional",
                  "487.6289251602191"
                ],
                [
                  "4",
                  "Transfer",
                  "467.75311008471135"
                ],
                [
                  "1",
                  "Bridge",
                  "446.7508539567901"
                ],
                [
                  "2",
                  "Event",
                  "425.0244320791776"
                ],
                [
                  "3",
                  "Holiday",
                  "359.13859751471796"
                ],
                [
                  "5",
                  "Work Day",
                  "351.97564055151196"
                ]
              ],
              "shape": {
                "columns": 2,
                "rows": 6
              }
            },
            "text/html": [
              "<div>\n",
              "<style scoped>\n",
              "    .dataframe tbody tr th:only-of-type {\n",
              "        vertical-align: middle;\n",
              "    }\n",
              "\n",
              "    .dataframe tbody tr th {\n",
              "        vertical-align: top;\n",
              "    }\n",
              "\n",
              "    .dataframe thead th {\n",
              "        text-align: right;\n",
              "    }\n",
              "</style>\n",
              "<table border=\"1\" class=\"dataframe\">\n",
              "  <thead>\n",
              "    <tr style=\"text-align: right;\">\n",
              "      <th></th>\n",
              "      <th>type_y</th>\n",
              "      <th>sales</th>\n",
              "    </tr>\n",
              "  </thead>\n",
              "  <tbody>\n",
              "    <tr>\n",
              "      <th>0</th>\n",
              "      <td>Additional</td>\n",
              "      <td>487.628925</td>\n",
              "    </tr>\n",
              "    <tr>\n",
              "      <th>4</th>\n",
              "      <td>Transfer</td>\n",
              "      <td>467.753110</td>\n",
              "    </tr>\n",
              "    <tr>\n",
              "      <th>1</th>\n",
              "      <td>Bridge</td>\n",
              "      <td>446.750854</td>\n",
              "    </tr>\n",
              "    <tr>\n",
              "      <th>2</th>\n",
              "      <td>Event</td>\n",
              "      <td>425.024432</td>\n",
              "    </tr>\n",
              "    <tr>\n",
              "      <th>3</th>\n",
              "      <td>Holiday</td>\n",
              "      <td>359.138598</td>\n",
              "    </tr>\n",
              "    <tr>\n",
              "      <th>5</th>\n",
              "      <td>Work Day</td>\n",
              "      <td>351.975641</td>\n",
              "    </tr>\n",
              "  </tbody>\n",
              "</table>\n",
              "</div>"
            ],
            "text/plain": [
              "       type_y       sales\n",
              "0  Additional  487.628925\n",
              "4    Transfer  467.753110\n",
              "1      Bridge  446.750854\n",
              "2       Event  425.024432\n",
              "3     Holiday  359.138598\n",
              "5    Work Day  351.975641"
            ]
          },
          "execution_count": 12,
          "metadata": {},
          "output_type": "execute_result"
        }
      ],
      "source": [
        "df.groupby(\"type_y\", as_index=False)[\"sales\"].mean().sort_values(\"sales\", ascending=False)"
      ]
    },
    {
      "cell_type": "markdown",
      "id": "3bd08838",
      "metadata": {},
      "source": [
        "## Handle Duplicated  in Holidays Events"
      ]
    },
    {
      "cell_type": "code",
      "execution_count": 13,
      "id": "29dba681",
      "metadata": {},
      "outputs": [],
      "source": [
        "holiday_priority ={\n",
        "    'Holiday': 2,\n",
        "    'Bridge': 4,\n",
        "    'Transfer': 5,\n",
        "    'Additional': 6,\n",
        "    'Work Day': 1,\n",
        "    'Event': 3\n",
        "}"
      ]
    },
    {
      "cell_type": "code",
      "execution_count": 14,
      "id": "b66ab5c4",
      "metadata": {},
      "outputs": [],
      "source": [
        "holidays[\"priority\"] = holidays[\"type\"].map(holiday_priority)\n",
        "idx=holidays.groupby(\"date\")[\"priority\"].idxmax()\n",
        "holidays=holidays.loc[idx].reset_index(drop=True)"
      ]
    },
    {
      "cell_type": "markdown",
      "id": "8df678b9",
      "metadata": {},
      "source": [
        "# Merge Auxiliary Data into Train\n",
        "\n",
        "- **stores.csv** → Adds store information (city, state, type, cluster).\n",
        "\n",
        "- **transactions.csv** → Adds daily transactions per store.\n",
        "\n",
        "- **oil.csv** → Adds oil prices (missing values forward-filled).\n",
        "\n",
        "- **holidays_events.csv** → Adds holiday/event type for each date."
      ]
    },
    {
      "cell_type": "code",
      "execution_count": 15,
      "id": "04802455",
      "metadata": {},
      "outputs": [
        {
          "name": "stderr",
          "output_type": "stream",
          "text": [
            "C:\\Users\\Amr\\AppData\\Local\\Temp\\ipykernel_27340\\1920280977.py:3: FutureWarning: Series.fillna with 'method' is deprecated and will raise in a future version. Use obj.ffill() or obj.bfill() instead.\n",
            "  oil[\"dcoilwtico\"] = oil[\"dcoilwtico\"].fillna(method=\"ffill\")\n"
          ]
        }
      ],
      "source": [
        "train = train.merge(stores, on=\"store_nbr\", how=\"left\")\n",
        "train = train.merge(transactions, on=[\"date\", \"store_nbr\"], how=\"left\")\n",
        "oil[\"dcoilwtico\"] = oil[\"dcoilwtico\"].fillna(method=\"ffill\")\n",
        "train = train.merge(oil, on=\"date\", how=\"left\")\n",
        "train = train.merge(holidays[[\"date\",\"type\"]], on=\"date\", how=\"left\")"
      ]
    },
    {
      "cell_type": "code",
      "execution_count": 16,
      "id": "2ad5f4d3",
      "metadata": {
        "colab": {
          "base_uri": "https://localhost:8080/",
          "height": 313
        },
        "id": "2ad5f4d3",
        "outputId": "790a7095-b168-4c19-a6cd-ff48bbefa529"
      },
      "outputs": [
        {
          "data": {
            "application/vnd.microsoft.datawrangler.viewer.v0+json": {
              "columns": [
                {
                  "name": "index",
                  "rawType": "int64",
                  "type": "integer"
                },
                {
                  "name": "id",
                  "rawType": "int64",
                  "type": "integer"
                },
                {
                  "name": "date",
                  "rawType": "datetime64[ns]",
                  "type": "datetime"
                },
                {
                  "name": "store_nbr",
                  "rawType": "int64",
                  "type": "integer"
                },
                {
                  "name": "family",
                  "rawType": "object",
                  "type": "string"
                },
                {
                  "name": "sales",
                  "rawType": "float64",
                  "type": "float"
                },
                {
                  "name": "onpromotion",
                  "rawType": "int64",
                  "type": "integer"
                },
                {
                  "name": "city",
                  "rawType": "object",
                  "type": "string"
                },
                {
                  "name": "state",
                  "rawType": "object",
                  "type": "string"
                },
                {
                  "name": "type_x",
                  "rawType": "object",
                  "type": "string"
                },
                {
                  "name": "cluster",
                  "rawType": "int64",
                  "type": "integer"
                },
                {
                  "name": "transactions",
                  "rawType": "float64",
                  "type": "float"
                },
                {
                  "name": "dcoilwtico",
                  "rawType": "float64",
                  "type": "float"
                },
                {
                  "name": "type_y",
                  "rawType": "object",
                  "type": "string"
                }
              ],
              "ref": "6bb5d077-f981-4abb-9229-1cbf4fbf1d6a",
              "rows": [
                [
                  "0",
                  "0",
                  "2013-01-01 00:00:00",
                  "1",
                  "AUTOMOTIVE",
                  "0.0",
                  "0",
                  "Quito",
                  "Pichincha",
                  "D",
                  "13",
                  null,
                  null,
                  "Holiday"
                ],
                [
                  "1",
                  "1",
                  "2013-01-01 00:00:00",
                  "1",
                  "BABY CARE",
                  "0.0",
                  "0",
                  "Quito",
                  "Pichincha",
                  "D",
                  "13",
                  null,
                  null,
                  "Holiday"
                ],
                [
                  "2",
                  "2",
                  "2013-01-01 00:00:00",
                  "1",
                  "BEAUTY",
                  "0.0",
                  "0",
                  "Quito",
                  "Pichincha",
                  "D",
                  "13",
                  null,
                  null,
                  "Holiday"
                ],
                [
                  "3",
                  "3",
                  "2013-01-01 00:00:00",
                  "1",
                  "BEVERAGES",
                  "0.0",
                  "0",
                  "Quito",
                  "Pichincha",
                  "D",
                  "13",
                  null,
                  null,
                  "Holiday"
                ],
                [
                  "4",
                  "4",
                  "2013-01-01 00:00:00",
                  "1",
                  "BOOKS",
                  "0.0",
                  "0",
                  "Quito",
                  "Pichincha",
                  "D",
                  "13",
                  null,
                  null,
                  "Holiday"
                ]
              ],
              "shape": {
                "columns": 13,
                "rows": 5
              }
            },
            "text/html": [
              "<div>\n",
              "<style scoped>\n",
              "    .dataframe tbody tr th:only-of-type {\n",
              "        vertical-align: middle;\n",
              "    }\n",
              "\n",
              "    .dataframe tbody tr th {\n",
              "        vertical-align: top;\n",
              "    }\n",
              "\n",
              "    .dataframe thead th {\n",
              "        text-align: right;\n",
              "    }\n",
              "</style>\n",
              "<table border=\"1\" class=\"dataframe\">\n",
              "  <thead>\n",
              "    <tr style=\"text-align: right;\">\n",
              "      <th></th>\n",
              "      <th>id</th>\n",
              "      <th>date</th>\n",
              "      <th>store_nbr</th>\n",
              "      <th>family</th>\n",
              "      <th>sales</th>\n",
              "      <th>onpromotion</th>\n",
              "      <th>city</th>\n",
              "      <th>state</th>\n",
              "      <th>type_x</th>\n",
              "      <th>cluster</th>\n",
              "      <th>transactions</th>\n",
              "      <th>dcoilwtico</th>\n",
              "      <th>type_y</th>\n",
              "    </tr>\n",
              "  </thead>\n",
              "  <tbody>\n",
              "    <tr>\n",
              "      <th>0</th>\n",
              "      <td>0</td>\n",
              "      <td>2013-01-01</td>\n",
              "      <td>1</td>\n",
              "      <td>AUTOMOTIVE</td>\n",
              "      <td>0.0</td>\n",
              "      <td>0</td>\n",
              "      <td>Quito</td>\n",
              "      <td>Pichincha</td>\n",
              "      <td>D</td>\n",
              "      <td>13</td>\n",
              "      <td>NaN</td>\n",
              "      <td>NaN</td>\n",
              "      <td>Holiday</td>\n",
              "    </tr>\n",
              "    <tr>\n",
              "      <th>1</th>\n",
              "      <td>1</td>\n",
              "      <td>2013-01-01</td>\n",
              "      <td>1</td>\n",
              "      <td>BABY CARE</td>\n",
              "      <td>0.0</td>\n",
              "      <td>0</td>\n",
              "      <td>Quito</td>\n",
              "      <td>Pichincha</td>\n",
              "      <td>D</td>\n",
              "      <td>13</td>\n",
              "      <td>NaN</td>\n",
              "      <td>NaN</td>\n",
              "      <td>Holiday</td>\n",
              "    </tr>\n",
              "    <tr>\n",
              "      <th>2</th>\n",
              "      <td>2</td>\n",
              "      <td>2013-01-01</td>\n",
              "      <td>1</td>\n",
              "      <td>BEAUTY</td>\n",
              "      <td>0.0</td>\n",
              "      <td>0</td>\n",
              "      <td>Quito</td>\n",
              "      <td>Pichincha</td>\n",
              "      <td>D</td>\n",
              "      <td>13</td>\n",
              "      <td>NaN</td>\n",
              "      <td>NaN</td>\n",
              "      <td>Holiday</td>\n",
              "    </tr>\n",
              "    <tr>\n",
              "      <th>3</th>\n",
              "      <td>3</td>\n",
              "      <td>2013-01-01</td>\n",
              "      <td>1</td>\n",
              "      <td>BEVERAGES</td>\n",
              "      <td>0.0</td>\n",
              "      <td>0</td>\n",
              "      <td>Quito</td>\n",
              "      <td>Pichincha</td>\n",
              "      <td>D</td>\n",
              "      <td>13</td>\n",
              "      <td>NaN</td>\n",
              "      <td>NaN</td>\n",
              "      <td>Holiday</td>\n",
              "    </tr>\n",
              "    <tr>\n",
              "      <th>4</th>\n",
              "      <td>4</td>\n",
              "      <td>2013-01-01</td>\n",
              "      <td>1</td>\n",
              "      <td>BOOKS</td>\n",
              "      <td>0.0</td>\n",
              "      <td>0</td>\n",
              "      <td>Quito</td>\n",
              "      <td>Pichincha</td>\n",
              "      <td>D</td>\n",
              "      <td>13</td>\n",
              "      <td>NaN</td>\n",
              "      <td>NaN</td>\n",
              "      <td>Holiday</td>\n",
              "    </tr>\n",
              "  </tbody>\n",
              "</table>\n",
              "</div>"
            ],
            "text/plain": [
              "   id       date  store_nbr      family  sales  onpromotion   city      state  \\\n",
              "0   0 2013-01-01          1  AUTOMOTIVE    0.0            0  Quito  Pichincha   \n",
              "1   1 2013-01-01          1   BABY CARE    0.0            0  Quito  Pichincha   \n",
              "2   2 2013-01-01          1      BEAUTY    0.0            0  Quito  Pichincha   \n",
              "3   3 2013-01-01          1   BEVERAGES    0.0            0  Quito  Pichincha   \n",
              "4   4 2013-01-01          1       BOOKS    0.0            0  Quito  Pichincha   \n",
              "\n",
              "  type_x  cluster  transactions  dcoilwtico   type_y  \n",
              "0      D       13           NaN         NaN  Holiday  \n",
              "1      D       13           NaN         NaN  Holiday  \n",
              "2      D       13           NaN         NaN  Holiday  \n",
              "3      D       13           NaN         NaN  Holiday  \n",
              "4      D       13           NaN         NaN  Holiday  "
            ]
          },
          "execution_count": 16,
          "metadata": {},
          "output_type": "execute_result"
        }
      ],
      "source": [
        "train.head()"
      ]
    },
    {
      "cell_type": "markdown",
      "id": "77034c55",
      "metadata": {
        "id": "77034c55"
      },
      "source": [
        "### Renaming Columns for Clarity\n",
        "\n",
        "- After merging multiple datasets, some columns inherited generic names like `type_x` and `type_y`.  \n",
        "- To make the dataset more interpretable, we renamed them:\n",
        "\n",
        "    - **type_x** (coming from stores.csv) →  **store_type**\n",
        "\n",
        "        Indicates the type of store (A, B, C, or D).\n",
        "\n",
        "    - **type_y** (coming from holidays_events.csv) → **day_type**\n",
        "\n",
        "        Classifies each date as either a special event (Holiday, Transfer, Additional, Event, etc.) or a regular Work Day (for dates without special events)."
      ]
    },
    {
      "cell_type": "code",
      "execution_count": 17,
      "id": "11ab9547",
      "metadata": {
        "id": "11ab9547"
      },
      "outputs": [],
      "source": [
        "train = train.rename(columns={\n",
        "    'type_x': 'store_type',\n",
        "    'type_y': 'day_type'\n",
        "})"
      ]
    },
    {
      "cell_type": "markdown",
      "id": "b5963796",
      "metadata": {},
      "source": [
        "# Merge Auxiliary Data into Test\n",
        "\n",
        "- **stores.csv** → Adds store-level information (`city`, `state`, `type`, `cluster`).  \n",
        "\n",
        "- **transactions.csv** → Adds the number of daily transactions for each store (based on `date` + `store_nbr`).  \n",
        "\n",
        "- **oil.csv** → Adds oil price (`dcoilwtico`) for each date.  \n",
        "\n",
        "- **holidays_events.csv** → Adds holiday/event type (`type`) for each date.  \n",
        "\n",
        "**Note**: Unlike the train dataset, the test dataset does not include the `sales` column, because `sales` is the target variable we aim to predict. All other auxiliary data is merged to provide the necessary context for forecasting.  \n"
      ]
    },
    {
      "cell_type": "code",
      "execution_count": 18,
      "id": "c1c55204",
      "metadata": {},
      "outputs": [
        {
          "data": {
            "application/vnd.microsoft.datawrangler.viewer.v0+json": {
              "columns": [
                {
                  "name": "index",
                  "rawType": "int64",
                  "type": "integer"
                },
                {
                  "name": "id",
                  "rawType": "int64",
                  "type": "integer"
                },
                {
                  "name": "date",
                  "rawType": "datetime64[ns]",
                  "type": "datetime"
                },
                {
                  "name": "store_nbr",
                  "rawType": "int64",
                  "type": "integer"
                },
                {
                  "name": "family",
                  "rawType": "object",
                  "type": "string"
                },
                {
                  "name": "onpromotion",
                  "rawType": "int64",
                  "type": "integer"
                },
                {
                  "name": "city",
                  "rawType": "object",
                  "type": "string"
                },
                {
                  "name": "state",
                  "rawType": "object",
                  "type": "string"
                },
                {
                  "name": "type_x",
                  "rawType": "object",
                  "type": "string"
                },
                {
                  "name": "cluster",
                  "rawType": "int64",
                  "type": "integer"
                },
                {
                  "name": "transactions",
                  "rawType": "float64",
                  "type": "float"
                },
                {
                  "name": "dcoilwtico",
                  "rawType": "float64",
                  "type": "float"
                },
                {
                  "name": "type_y",
                  "rawType": "object",
                  "type": "unknown"
                }
              ],
              "ref": "b600334d-27fe-4fb4-848a-46dae46d2e19",
              "rows": [
                [
                  "0",
                  "3000888",
                  "2017-08-16 00:00:00",
                  "1",
                  "AUTOMOTIVE",
                  "0",
                  "Quito",
                  "Pichincha",
                  "D",
                  "13",
                  null,
                  "46.8",
                  null
                ],
                [
                  "1",
                  "3000889",
                  "2017-08-16 00:00:00",
                  "1",
                  "BABY CARE",
                  "0",
                  "Quito",
                  "Pichincha",
                  "D",
                  "13",
                  null,
                  "46.8",
                  null
                ],
                [
                  "2",
                  "3000890",
                  "2017-08-16 00:00:00",
                  "1",
                  "BEAUTY",
                  "2",
                  "Quito",
                  "Pichincha",
                  "D",
                  "13",
                  null,
                  "46.8",
                  null
                ],
                [
                  "3",
                  "3000891",
                  "2017-08-16 00:00:00",
                  "1",
                  "BEVERAGES",
                  "20",
                  "Quito",
                  "Pichincha",
                  "D",
                  "13",
                  null,
                  "46.8",
                  null
                ],
                [
                  "4",
                  "3000892",
                  "2017-08-16 00:00:00",
                  "1",
                  "BOOKS",
                  "0",
                  "Quito",
                  "Pichincha",
                  "D",
                  "13",
                  null,
                  "46.8",
                  null
                ]
              ],
              "shape": {
                "columns": 12,
                "rows": 5
              }
            },
            "text/html": [
              "<div>\n",
              "<style scoped>\n",
              "    .dataframe tbody tr th:only-of-type {\n",
              "        vertical-align: middle;\n",
              "    }\n",
              "\n",
              "    .dataframe tbody tr th {\n",
              "        vertical-align: top;\n",
              "    }\n",
              "\n",
              "    .dataframe thead th {\n",
              "        text-align: right;\n",
              "    }\n",
              "</style>\n",
              "<table border=\"1\" class=\"dataframe\">\n",
              "  <thead>\n",
              "    <tr style=\"text-align: right;\">\n",
              "      <th></th>\n",
              "      <th>id</th>\n",
              "      <th>date</th>\n",
              "      <th>store_nbr</th>\n",
              "      <th>family</th>\n",
              "      <th>onpromotion</th>\n",
              "      <th>city</th>\n",
              "      <th>state</th>\n",
              "      <th>type_x</th>\n",
              "      <th>cluster</th>\n",
              "      <th>transactions</th>\n",
              "      <th>dcoilwtico</th>\n",
              "      <th>type_y</th>\n",
              "    </tr>\n",
              "  </thead>\n",
              "  <tbody>\n",
              "    <tr>\n",
              "      <th>0</th>\n",
              "      <td>3000888</td>\n",
              "      <td>2017-08-16</td>\n",
              "      <td>1</td>\n",
              "      <td>AUTOMOTIVE</td>\n",
              "      <td>0</td>\n",
              "      <td>Quito</td>\n",
              "      <td>Pichincha</td>\n",
              "      <td>D</td>\n",
              "      <td>13</td>\n",
              "      <td>NaN</td>\n",
              "      <td>46.8</td>\n",
              "      <td>NaN</td>\n",
              "    </tr>\n",
              "    <tr>\n",
              "      <th>1</th>\n",
              "      <td>3000889</td>\n",
              "      <td>2017-08-16</td>\n",
              "      <td>1</td>\n",
              "      <td>BABY CARE</td>\n",
              "      <td>0</td>\n",
              "      <td>Quito</td>\n",
              "      <td>Pichincha</td>\n",
              "      <td>D</td>\n",
              "      <td>13</td>\n",
              "      <td>NaN</td>\n",
              "      <td>46.8</td>\n",
              "      <td>NaN</td>\n",
              "    </tr>\n",
              "    <tr>\n",
              "      <th>2</th>\n",
              "      <td>3000890</td>\n",
              "      <td>2017-08-16</td>\n",
              "      <td>1</td>\n",
              "      <td>BEAUTY</td>\n",
              "      <td>2</td>\n",
              "      <td>Quito</td>\n",
              "      <td>Pichincha</td>\n",
              "      <td>D</td>\n",
              "      <td>13</td>\n",
              "      <td>NaN</td>\n",
              "      <td>46.8</td>\n",
              "      <td>NaN</td>\n",
              "    </tr>\n",
              "    <tr>\n",
              "      <th>3</th>\n",
              "      <td>3000891</td>\n",
              "      <td>2017-08-16</td>\n",
              "      <td>1</td>\n",
              "      <td>BEVERAGES</td>\n",
              "      <td>20</td>\n",
              "      <td>Quito</td>\n",
              "      <td>Pichincha</td>\n",
              "      <td>D</td>\n",
              "      <td>13</td>\n",
              "      <td>NaN</td>\n",
              "      <td>46.8</td>\n",
              "      <td>NaN</td>\n",
              "    </tr>\n",
              "    <tr>\n",
              "      <th>4</th>\n",
              "      <td>3000892</td>\n",
              "      <td>2017-08-16</td>\n",
              "      <td>1</td>\n",
              "      <td>BOOKS</td>\n",
              "      <td>0</td>\n",
              "      <td>Quito</td>\n",
              "      <td>Pichincha</td>\n",
              "      <td>D</td>\n",
              "      <td>13</td>\n",
              "      <td>NaN</td>\n",
              "      <td>46.8</td>\n",
              "      <td>NaN</td>\n",
              "    </tr>\n",
              "  </tbody>\n",
              "</table>\n",
              "</div>"
            ],
            "text/plain": [
              "        id       date  store_nbr      family  onpromotion   city      state  \\\n",
              "0  3000888 2017-08-16          1  AUTOMOTIVE            0  Quito  Pichincha   \n",
              "1  3000889 2017-08-16          1   BABY CARE            0  Quito  Pichincha   \n",
              "2  3000890 2017-08-16          1      BEAUTY            2  Quito  Pichincha   \n",
              "3  3000891 2017-08-16          1   BEVERAGES           20  Quito  Pichincha   \n",
              "4  3000892 2017-08-16          1       BOOKS            0  Quito  Pichincha   \n",
              "\n",
              "  type_x  cluster  transactions  dcoilwtico type_y  \n",
              "0      D       13           NaN        46.8    NaN  \n",
              "1      D       13           NaN        46.8    NaN  \n",
              "2      D       13           NaN        46.8    NaN  \n",
              "3      D       13           NaN        46.8    NaN  \n",
              "4      D       13           NaN        46.8    NaN  "
            ]
          },
          "execution_count": 18,
          "metadata": {},
          "output_type": "execute_result"
        }
      ],
      "source": [
        "test = test.merge(stores, on=\"store_nbr\", how=\"left\")\n",
        "test = test.merge(transactions, on=[\"date\", \"store_nbr\"], how=\"left\")\n",
        "test = test.merge(oil, on=\"date\", how=\"left\")\n",
        "test = test.merge(holidays[[\"date\",\"type\"]], on=\"date\", how=\"left\")\n",
        "test.head()"
      ]
    },
    {
      "cell_type": "markdown",
      "id": "0cbb4dcc",
      "metadata": {},
      "source": [
        "### Renaming Columns for Clarity (Test Set)\n",
        "\n",
        "- Similar to the train dataset, merging multiple files created generic column names (`type_x`, `type_y`).  \n",
        "- To make the test dataset more interpretable, we renamed them:\n",
        "\n",
        "    - **type_x** (from `stores.csv`) → **store_type**  \n",
        "      Indicates the type of store (A, B, C, or D).  \n",
        "\n",
        "    - **type_y** (from `holidays_events.csv`) → **day_type**  \n",
        "      Classifies each date as either a special event (Holiday, Transfer, Additional, Event, etc.) or a regular Work Day (for dates without special events).  \n"
      ]
    },
    {
      "cell_type": "code",
      "execution_count": 19,
      "id": "d1c6e28a",
      "metadata": {},
      "outputs": [],
      "source": [
        "test = test.rename(columns={\n",
        "    'type_x': 'store_type',\n",
        "    'type_y': 'day_type'\n",
        "})"
      ]
    },
    {
      "cell_type": "markdown",
      "id": "f914a295-85cc-49ec-9e59-e13811d0c4a6",
      "metadata": {
        "id": "f914a295-85cc-49ec-9e59-e13811d0c4a6"
      },
      "source": [
        "# **Dataset Overview**"
      ]
    },
    {
      "cell_type": "markdown",
      "id": "911ec313-1ea0-4b7f-8755-5cdd181363d8",
      "metadata": {
        "id": "911ec313-1ea0-4b7f-8755-5cdd181363d8"
      },
      "source": [
        "## Shape of the dataset"
      ]
    },
    {
      "cell_type": "code",
      "execution_count": 20,
      "id": "42cc7070-e4ee-4a64-92ce-fc0a63036ed5",
      "metadata": {
        "colab": {
          "base_uri": "https://localhost:8080/"
        },
        "id": "42cc7070-e4ee-4a64-92ce-fc0a63036ed5",
        "outputId": "80905a12-8cc4-470d-d194-46b9715f9ada"
      },
      "outputs": [
        {
          "data": {
            "text/plain": [
              "(3000888, 13)"
            ]
          },
          "execution_count": 20,
          "metadata": {},
          "output_type": "execute_result"
        }
      ],
      "source": [
        "train.shape"
      ]
    },
    {
      "cell_type": "code",
      "execution_count": 21,
      "id": "06233f6d-f664-48d0-94d5-44e8b1bde833",
      "metadata": {
        "colab": {
          "base_uri": "https://localhost:8080/",
          "height": 313
        },
        "id": "06233f6d-f664-48d0-94d5-44e8b1bde833",
        "outputId": "33d65298-15e8-4f30-94af-d530decbab29"
      },
      "outputs": [
        {
          "data": {
            "application/vnd.microsoft.datawrangler.viewer.v0+json": {
              "columns": [
                {
                  "name": "index",
                  "rawType": "int64",
                  "type": "integer"
                },
                {
                  "name": "id",
                  "rawType": "int64",
                  "type": "integer"
                },
                {
                  "name": "date",
                  "rawType": "datetime64[ns]",
                  "type": "datetime"
                },
                {
                  "name": "store_nbr",
                  "rawType": "int64",
                  "type": "integer"
                },
                {
                  "name": "family",
                  "rawType": "object",
                  "type": "string"
                },
                {
                  "name": "sales",
                  "rawType": "float64",
                  "type": "float"
                },
                {
                  "name": "onpromotion",
                  "rawType": "int64",
                  "type": "integer"
                },
                {
                  "name": "city",
                  "rawType": "object",
                  "type": "string"
                },
                {
                  "name": "state",
                  "rawType": "object",
                  "type": "string"
                },
                {
                  "name": "store_type",
                  "rawType": "object",
                  "type": "string"
                },
                {
                  "name": "cluster",
                  "rawType": "int64",
                  "type": "integer"
                },
                {
                  "name": "transactions",
                  "rawType": "float64",
                  "type": "float"
                },
                {
                  "name": "dcoilwtico",
                  "rawType": "float64",
                  "type": "float"
                },
                {
                  "name": "day_type",
                  "rawType": "object",
                  "type": "string"
                }
              ],
              "ref": "1ad59e37-7826-4f3a-a09e-df69f2b5fd31",
              "rows": [
                [
                  "0",
                  "0",
                  "2013-01-01 00:00:00",
                  "1",
                  "AUTOMOTIVE",
                  "0.0",
                  "0",
                  "Quito",
                  "Pichincha",
                  "D",
                  "13",
                  null,
                  null,
                  "Holiday"
                ],
                [
                  "1",
                  "1",
                  "2013-01-01 00:00:00",
                  "1",
                  "BABY CARE",
                  "0.0",
                  "0",
                  "Quito",
                  "Pichincha",
                  "D",
                  "13",
                  null,
                  null,
                  "Holiday"
                ],
                [
                  "2",
                  "2",
                  "2013-01-01 00:00:00",
                  "1",
                  "BEAUTY",
                  "0.0",
                  "0",
                  "Quito",
                  "Pichincha",
                  "D",
                  "13",
                  null,
                  null,
                  "Holiday"
                ],
                [
                  "3",
                  "3",
                  "2013-01-01 00:00:00",
                  "1",
                  "BEVERAGES",
                  "0.0",
                  "0",
                  "Quito",
                  "Pichincha",
                  "D",
                  "13",
                  null,
                  null,
                  "Holiday"
                ],
                [
                  "4",
                  "4",
                  "2013-01-01 00:00:00",
                  "1",
                  "BOOKS",
                  "0.0",
                  "0",
                  "Quito",
                  "Pichincha",
                  "D",
                  "13",
                  null,
                  null,
                  "Holiday"
                ]
              ],
              "shape": {
                "columns": 13,
                "rows": 5
              }
            },
            "text/html": [
              "<div>\n",
              "<style scoped>\n",
              "    .dataframe tbody tr th:only-of-type {\n",
              "        vertical-align: middle;\n",
              "    }\n",
              "\n",
              "    .dataframe tbody tr th {\n",
              "        vertical-align: top;\n",
              "    }\n",
              "\n",
              "    .dataframe thead th {\n",
              "        text-align: right;\n",
              "    }\n",
              "</style>\n",
              "<table border=\"1\" class=\"dataframe\">\n",
              "  <thead>\n",
              "    <tr style=\"text-align: right;\">\n",
              "      <th></th>\n",
              "      <th>id</th>\n",
              "      <th>date</th>\n",
              "      <th>store_nbr</th>\n",
              "      <th>family</th>\n",
              "      <th>sales</th>\n",
              "      <th>onpromotion</th>\n",
              "      <th>city</th>\n",
              "      <th>state</th>\n",
              "      <th>store_type</th>\n",
              "      <th>cluster</th>\n",
              "      <th>transactions</th>\n",
              "      <th>dcoilwtico</th>\n",
              "      <th>day_type</th>\n",
              "    </tr>\n",
              "  </thead>\n",
              "  <tbody>\n",
              "    <tr>\n",
              "      <th>0</th>\n",
              "      <td>0</td>\n",
              "      <td>2013-01-01</td>\n",
              "      <td>1</td>\n",
              "      <td>AUTOMOTIVE</td>\n",
              "      <td>0.0</td>\n",
              "      <td>0</td>\n",
              "      <td>Quito</td>\n",
              "      <td>Pichincha</td>\n",
              "      <td>D</td>\n",
              "      <td>13</td>\n",
              "      <td>NaN</td>\n",
              "      <td>NaN</td>\n",
              "      <td>Holiday</td>\n",
              "    </tr>\n",
              "    <tr>\n",
              "      <th>1</th>\n",
              "      <td>1</td>\n",
              "      <td>2013-01-01</td>\n",
              "      <td>1</td>\n",
              "      <td>BABY CARE</td>\n",
              "      <td>0.0</td>\n",
              "      <td>0</td>\n",
              "      <td>Quito</td>\n",
              "      <td>Pichincha</td>\n",
              "      <td>D</td>\n",
              "      <td>13</td>\n",
              "      <td>NaN</td>\n",
              "      <td>NaN</td>\n",
              "      <td>Holiday</td>\n",
              "    </tr>\n",
              "    <tr>\n",
              "      <th>2</th>\n",
              "      <td>2</td>\n",
              "      <td>2013-01-01</td>\n",
              "      <td>1</td>\n",
              "      <td>BEAUTY</td>\n",
              "      <td>0.0</td>\n",
              "      <td>0</td>\n",
              "      <td>Quito</td>\n",
              "      <td>Pichincha</td>\n",
              "      <td>D</td>\n",
              "      <td>13</td>\n",
              "      <td>NaN</td>\n",
              "      <td>NaN</td>\n",
              "      <td>Holiday</td>\n",
              "    </tr>\n",
              "    <tr>\n",
              "      <th>3</th>\n",
              "      <td>3</td>\n",
              "      <td>2013-01-01</td>\n",
              "      <td>1</td>\n",
              "      <td>BEVERAGES</td>\n",
              "      <td>0.0</td>\n",
              "      <td>0</td>\n",
              "      <td>Quito</td>\n",
              "      <td>Pichincha</td>\n",
              "      <td>D</td>\n",
              "      <td>13</td>\n",
              "      <td>NaN</td>\n",
              "      <td>NaN</td>\n",
              "      <td>Holiday</td>\n",
              "    </tr>\n",
              "    <tr>\n",
              "      <th>4</th>\n",
              "      <td>4</td>\n",
              "      <td>2013-01-01</td>\n",
              "      <td>1</td>\n",
              "      <td>BOOKS</td>\n",
              "      <td>0.0</td>\n",
              "      <td>0</td>\n",
              "      <td>Quito</td>\n",
              "      <td>Pichincha</td>\n",
              "      <td>D</td>\n",
              "      <td>13</td>\n",
              "      <td>NaN</td>\n",
              "      <td>NaN</td>\n",
              "      <td>Holiday</td>\n",
              "    </tr>\n",
              "  </tbody>\n",
              "</table>\n",
              "</div>"
            ],
            "text/plain": [
              "   id       date  store_nbr      family  sales  onpromotion   city      state  \\\n",
              "0   0 2013-01-01          1  AUTOMOTIVE    0.0            0  Quito  Pichincha   \n",
              "1   1 2013-01-01          1   BABY CARE    0.0            0  Quito  Pichincha   \n",
              "2   2 2013-01-01          1      BEAUTY    0.0            0  Quito  Pichincha   \n",
              "3   3 2013-01-01          1   BEVERAGES    0.0            0  Quito  Pichincha   \n",
              "4   4 2013-01-01          1       BOOKS    0.0            0  Quito  Pichincha   \n",
              "\n",
              "  store_type  cluster  transactions  dcoilwtico day_type  \n",
              "0          D       13           NaN         NaN  Holiday  \n",
              "1          D       13           NaN         NaN  Holiday  \n",
              "2          D       13           NaN         NaN  Holiday  \n",
              "3          D       13           NaN         NaN  Holiday  \n",
              "4          D       13           NaN         NaN  Holiday  "
            ]
          },
          "execution_count": 21,
          "metadata": {},
          "output_type": "execute_result"
        }
      ],
      "source": [
        "train.head()"
      ]
    },
    {
      "cell_type": "markdown",
      "id": "0fb3fab2-dfad-4db9-85fa-88afdc50c4e3",
      "metadata": {
        "id": "0fb3fab2-dfad-4db9-85fa-88afdc50c4e3"
      },
      "source": [
        "## Dataset info (data types + missing values)"
      ]
    },
    {
      "cell_type": "code",
      "execution_count": 22,
      "id": "623c1997-1e95-4f53-afc0-1aa305e8ecd8",
      "metadata": {
        "colab": {
          "base_uri": "https://localhost:8080/"
        },
        "id": "623c1997-1e95-4f53-afc0-1aa305e8ecd8",
        "outputId": "cdf2d0b0-b063-40e3-93ed-fcd8946e25a0"
      },
      "outputs": [
        {
          "name": "stdout",
          "output_type": "stream",
          "text": [
            "<class 'pandas.core.frame.DataFrame'>\n",
            "RangeIndex: 3000888 entries, 0 to 3000887\n",
            "Data columns (total 13 columns):\n",
            " #   Column        Non-Null Count    Dtype         \n",
            "---  ------        --------------    -----         \n",
            " 0   id            3000888 non-null  int64         \n",
            " 1   date          3000888 non-null  datetime64[ns]\n",
            " 2   store_nbr     3000888 non-null  int64         \n",
            " 3   family        3000888 non-null  object        \n",
            " 4   sales         3000888 non-null  float64       \n",
            " 5   onpromotion   3000888 non-null  int64         \n",
            " 6   city          3000888 non-null  object        \n",
            " 7   state         3000888 non-null  object        \n",
            " 8   store_type    3000888 non-null  object        \n",
            " 9   cluster       3000888 non-null  int64         \n",
            " 10  transactions  2755104 non-null  float64       \n",
            " 11  dcoilwtico    2141964 non-null  float64       \n",
            " 12  day_type      433026 non-null   object        \n",
            "dtypes: datetime64[ns](1), float64(3), int64(4), object(5)\n",
            "memory usage: 297.6+ MB\n"
          ]
        }
      ],
      "source": [
        "train.info(show_counts=True)"
      ]
    },
    {
      "cell_type": "markdown",
      "id": "7e54e836-379a-4396-bfa2-39e9e94303f3",
      "metadata": {
        "id": "7e54e836-379a-4396-bfa2-39e9e94303f3"
      },
      "source": [
        "## Missing values count"
      ]
    },
    {
      "cell_type": "code",
      "execution_count": 23,
      "id": "2222c197-bc86-43fa-b369-253be22b51a7",
      "metadata": {
        "colab": {
          "base_uri": "https://localhost:8080/",
          "height": 460
        },
        "id": "2222c197-bc86-43fa-b369-253be22b51a7",
        "outputId": "21859c1e-19eb-477d-c242-7123e219e862"
      },
      "outputs": [
        {
          "data": {
            "application/vnd.microsoft.datawrangler.viewer.v0+json": {
              "columns": [
                {
                  "name": "index",
                  "rawType": "object",
                  "type": "string"
                },
                {
                  "name": "0",
                  "rawType": "int64",
                  "type": "integer"
                }
              ],
              "ref": "1940fd08-493a-4be5-9908-7c2c426f7da2",
              "rows": [
                [
                  "id",
                  "0"
                ],
                [
                  "date",
                  "0"
                ],
                [
                  "store_nbr",
                  "0"
                ],
                [
                  "family",
                  "0"
                ],
                [
                  "sales",
                  "0"
                ],
                [
                  "onpromotion",
                  "0"
                ],
                [
                  "city",
                  "0"
                ],
                [
                  "state",
                  "0"
                ],
                [
                  "store_type",
                  "0"
                ],
                [
                  "cluster",
                  "0"
                ],
                [
                  "transactions",
                  "245784"
                ],
                [
                  "dcoilwtico",
                  "858924"
                ],
                [
                  "day_type",
                  "2567862"
                ]
              ],
              "shape": {
                "columns": 1,
                "rows": 13
              }
            },
            "text/plain": [
              "id                    0\n",
              "date                  0\n",
              "store_nbr             0\n",
              "family                0\n",
              "sales                 0\n",
              "onpromotion           0\n",
              "city                  0\n",
              "state                 0\n",
              "store_type            0\n",
              "cluster               0\n",
              "transactions     245784\n",
              "dcoilwtico       858924\n",
              "day_type        2567862\n",
              "dtype: int64"
            ]
          },
          "execution_count": 23,
          "metadata": {},
          "output_type": "execute_result"
        }
      ],
      "source": [
        "train.isnull().sum()"
      ]
    },
    {
      "cell_type": "markdown",
      "id": "ba90d770-b266-4523-adc5-5bab7565415c",
      "metadata": {
        "id": "ba90d770-b266-4523-adc5-5bab7565415c"
      },
      "source": [
        "**Columns with Missing Values**  \n",
        "   - **`transactions` → 249,117 missing (~8.2%)**  \n",
        "     - Not all stores have transaction logs available.  \n",
        "     - Missing values can be imputed using median per store or interpolation.  \n",
        "\n",
        "   - **`dcoilwtico` → 880,308 missing (~28.8%)**  \n",
        "     - Oil prices are not recorded on weekends and holidays (markets closed).  \n",
        "     - We can fix it using forward-fill (`ffill`) or interpolation.  \n",
        "\n",
        "   - **`day_type` → 2,551,824 missing (~83.5%)**  \n",
        "     - Represents holiday/event types.  \n",
        "     - Missing values simply mean “regular work day.”  \n",
        "     - Can safely replace NaN with `\"Work Day\"`.  "
      ]
    },
    {
      "cell_type": "markdown",
      "id": "beaf1d5b-6747-49e9-99b3-ca42a8f40050",
      "metadata": {
        "id": "beaf1d5b-6747-49e9-99b3-ca42a8f40050"
      },
      "source": [
        "#### Key Takeaways\n",
        "- Core dataset is very clean (no missing values in essential features like `sales`, `date`, `store_nbr`).  \n",
        "- Missing values are expected in auxiliary features (transactions, oil prices, holidays).  "
      ]
    },
    {
      "cell_type": "code",
      "execution_count": 24,
      "id": "43a94a21",
      "metadata": {},
      "outputs": [
        {
          "data": {
            "application/vnd.microsoft.datawrangler.viewer.v0+json": {
              "columns": [
                {
                  "name": "index",
                  "rawType": "object",
                  "type": "string"
                },
                {
                  "name": "0",
                  "rawType": "int64",
                  "type": "integer"
                }
              ],
              "ref": "1f3bf738-eeb3-428a-87ee-814cd34cfe69",
              "rows": [
                [
                  "id",
                  "0"
                ],
                [
                  "date",
                  "0"
                ],
                [
                  "store_nbr",
                  "0"
                ],
                [
                  "family",
                  "0"
                ],
                [
                  "onpromotion",
                  "0"
                ],
                [
                  "city",
                  "0"
                ],
                [
                  "state",
                  "0"
                ],
                [
                  "store_type",
                  "0"
                ],
                [
                  "cluster",
                  "0"
                ],
                [
                  "transactions",
                  "28512"
                ],
                [
                  "dcoilwtico",
                  "7128"
                ],
                [
                  "day_type",
                  "26730"
                ]
              ],
              "shape": {
                "columns": 1,
                "rows": 12
              }
            },
            "text/plain": [
              "id                  0\n",
              "date                0\n",
              "store_nbr           0\n",
              "family              0\n",
              "onpromotion         0\n",
              "city                0\n",
              "state               0\n",
              "store_type          0\n",
              "cluster             0\n",
              "transactions    28512\n",
              "dcoilwtico       7128\n",
              "day_type        26730\n",
              "dtype: int64"
            ]
          },
          "execution_count": 24,
          "metadata": {},
          "output_type": "execute_result"
        }
      ],
      "source": [
        "test.isna().sum()"
      ]
    },
    {
      "cell_type": "markdown",
      "id": "10d5aa80",
      "metadata": {},
      "source": [
        "## **Columns with Missing Values — Test Dataset**\n",
        "\n",
        "- **`transactions` → 28,512 missing (100%)**  \n",
        "  - All transaction values are missing in the test set.  \n",
        "  - Since this feature is not available for prediction, we will drop the `transactions` column from both **train** and **test** to keep the datasets aligned.  \n",
        "\n",
        "- **`dcoilwtico` → 7,128 missing (~2.4%)**  \n",
        "  - Oil prices are not recorded on weekends and holidays (markets closed).  \n",
        "  - We can handle missing values using **forward-fill (`ffill`)**.  \n",
        "\n",
        "- **`day_type` → 26,730 missing (~9.0%)**  \n",
        "  - Represents holiday/event types.  \n",
        "  - Missing values simply mean “regular work day.”  \n",
        "  - We can safely replace NaN with `\"Work Day\"`.  \n"
      ]
    },
    {
      "cell_type": "markdown",
      "id": "7ab0ddde-6f2e-4d12-9008-35810aa1400b",
      "metadata": {
        "id": "7ab0ddde-6f2e-4d12-9008-35810aa1400b"
      },
      "source": [
        "## Check duplicates"
      ]
    },
    {
      "cell_type": "code",
      "execution_count": 25,
      "id": "b1782f6e-e4fb-43e5-8d6f-999846794b69",
      "metadata": {
        "colab": {
          "base_uri": "https://localhost:8080/"
        },
        "id": "b1782f6e-e4fb-43e5-8d6f-999846794b69",
        "outputId": "d97a90d3-3032-41cf-9f56-d51813e4c757"
      },
      "outputs": [
        {
          "data": {
            "text/plain": [
              "np.int64(0)"
            ]
          },
          "execution_count": 25,
          "metadata": {},
          "output_type": "execute_result"
        }
      ],
      "source": [
        "train.duplicated().sum()"
      ]
    },
    {
      "cell_type": "code",
      "execution_count": 26,
      "id": "81ae0d6f",
      "metadata": {},
      "outputs": [
        {
          "data": {
            "text/plain": [
              "np.int64(0)"
            ]
          },
          "execution_count": 26,
          "metadata": {},
          "output_type": "execute_result"
        }
      ],
      "source": [
        "test.duplicated().sum()"
      ]
    },
    {
      "cell_type": "code",
      "execution_count": 27,
      "id": "29385822-9d79-451f-a9a1-2b07e59d6a30",
      "metadata": {
        "colab": {
          "base_uri": "https://localhost:8080/"
        },
        "id": "29385822-9d79-451f-a9a1-2b07e59d6a30",
        "outputId": "2a11133c-2f58-4d4e-b7c2-6450cd2e0977"
      },
      "outputs": [
        {
          "name": "stdout",
          "output_type": "stream",
          "text": [
            "Removed 0 duplicate rows.\n"
          ]
        },
        {
          "data": {
            "text/plain": [
              "(3000888, 13)"
            ]
          },
          "execution_count": 27,
          "metadata": {},
          "output_type": "execute_result"
        }
      ],
      "source": [
        "initial_rows = train.shape[0]\n",
        "train = train.drop_duplicates()\n",
        "print(f\"Removed {initial_rows - train.shape[0]} duplicate rows.\")\n",
        "train.shape"
      ]
    },
    {
      "cell_type": "markdown",
      "id": "02c4de03-de42-467a-88ea-4420cee1a040",
      "metadata": {
        "id": "02c4de03-de42-467a-88ea-4420cee1a040"
      },
      "source": [
        "**We removed all duplicate rows to ensure data consistency:**  "
      ]
    },
    {
      "cell_type": "markdown",
      "id": "f3ba89bc-11eb-4e97-8d72-7e5923fd5a0b",
      "metadata": {
        "id": "f3ba89bc-11eb-4e97-8d72-7e5923fd5a0b"
      },
      "source": [
        "## Data Validation & Cleaning Checks"
      ]
    },
    {
      "cell_type": "markdown",
      "id": "90db57bf-7d29-42a9-b463-ab7e7afa2edf",
      "metadata": {
        "id": "90db57bf-7d29-42a9-b463-ab7e7afa2edf"
      },
      "source": [
        "## Handle missing values\n",
        "- Logical imputation strategies:  \n",
        "  - `transactions`: median per store.  \n",
        "  - `dcoilwtico`: forward-fill.  \n",
        "  - `day_type`: fill NaN with `\"Work Day\"`.  "
      ]
    },
    {
      "cell_type": "markdown",
      "id": "84c765dd-a8a9-4069-83c2-5689768116b0",
      "metadata": {
        "id": "84c765dd-a8a9-4069-83c2-5689768116b0"
      },
      "source": [
        "**Fill missing values of dcoilwtico column with forward-fill then back-fill for any leading NaNs**"
      ]
    },
    {
      "cell_type": "code",
      "execution_count": 28,
      "id": "22e87f82-58bd-49a4-9667-7dfe751e2012",
      "metadata": {
        "colab": {
          "base_uri": "https://localhost:8080/"
        },
        "id": "22e87f82-58bd-49a4-9667-7dfe751e2012",
        "outputId": "5c0406a3-fa6c-449a-9854-b9a3f8dcc15c",
        "scrolled": true
      },
      "outputs": [
        {
          "name": "stderr",
          "output_type": "stream",
          "text": [
            "C:\\Users\\Amr\\AppData\\Local\\Temp\\ipykernel_27340\\1575899407.py:1: FutureWarning: Series.fillna with 'method' is deprecated and will raise in a future version. Use obj.ffill() or obj.bfill() instead.\n",
            "  train['dcoilwtico'] = train['dcoilwtico'].fillna(method='ffill').fillna(method='bfill')\n"
          ]
        }
      ],
      "source": [
        "train['dcoilwtico'] = train['dcoilwtico'].fillna(method='ffill').fillna(method='bfill')"
      ]
    },
    {
      "cell_type": "markdown",
      "id": "45bf49a3-a975-4a80-9396-762a28d1d90d",
      "metadata": {
        "id": "45bf49a3-a975-4a80-9396-762a28d1d90d"
      },
      "source": [
        "**Fill missing values day_type column with \"Work Day\"**"
      ]
    },
    {
      "cell_type": "code",
      "execution_count": 29,
      "id": "e27fcaa8-f550-4593-b047-fd1b87b1f8e9",
      "metadata": {
        "id": "e27fcaa8-f550-4593-b047-fd1b87b1f8e9"
      },
      "outputs": [],
      "source": [
        "train['day_type'] = train['day_type'].fillna('Work Day')"
      ]
    },
    {
      "cell_type": "code",
      "execution_count": 30,
      "id": "7a812b85-dec8-42c7-aa13-8ee87cd8b6d8",
      "metadata": {
        "colab": {
          "base_uri": "https://localhost:8080/",
          "height": 460
        },
        "id": "7a812b85-dec8-42c7-aa13-8ee87cd8b6d8",
        "outputId": "c6cfa0fe-ed33-46c3-df8e-4bb2958bad42"
      },
      "outputs": [
        {
          "data": {
            "application/vnd.microsoft.datawrangler.viewer.v0+json": {
              "columns": [
                {
                  "name": "index",
                  "rawType": "object",
                  "type": "string"
                },
                {
                  "name": "0",
                  "rawType": "int64",
                  "type": "integer"
                }
              ],
              "ref": "2bce5953-c734-4d6b-86ed-767ba2c63bb8",
              "rows": [
                [
                  "id",
                  "0"
                ],
                [
                  "date",
                  "0"
                ],
                [
                  "store_nbr",
                  "0"
                ],
                [
                  "family",
                  "0"
                ],
                [
                  "sales",
                  "0"
                ],
                [
                  "onpromotion",
                  "0"
                ],
                [
                  "city",
                  "0"
                ],
                [
                  "state",
                  "0"
                ],
                [
                  "store_type",
                  "0"
                ],
                [
                  "cluster",
                  "0"
                ],
                [
                  "transactions",
                  "245784"
                ],
                [
                  "dcoilwtico",
                  "0"
                ],
                [
                  "day_type",
                  "0"
                ]
              ],
              "shape": {
                "columns": 1,
                "rows": 13
              }
            },
            "text/plain": [
              "id                   0\n",
              "date                 0\n",
              "store_nbr            0\n",
              "family               0\n",
              "sales                0\n",
              "onpromotion          0\n",
              "city                 0\n",
              "state                0\n",
              "store_type           0\n",
              "cluster              0\n",
              "transactions    245784\n",
              "dcoilwtico           0\n",
              "day_type             0\n",
              "dtype: int64"
            ]
          },
          "execution_count": 30,
          "metadata": {},
          "output_type": "execute_result"
        }
      ],
      "source": [
        "train.isnull().sum()\n"
      ]
    },
    {
      "cell_type": "markdown",
      "id": "dcdb20a4",
      "metadata": {},
      "source": [
        "**Fill missing values of dcoilwtico column in the test dataset with forward-fill then back-fill for any leading NaNs**"
      ]
    },
    {
      "cell_type": "code",
      "execution_count": 31,
      "id": "3aa75a5f",
      "metadata": {},
      "outputs": [
        {
          "name": "stderr",
          "output_type": "stream",
          "text": [
            "C:\\Users\\Amr\\AppData\\Local\\Temp\\ipykernel_27340\\706933418.py:1: FutureWarning: Series.fillna with 'method' is deprecated and will raise in a future version. Use obj.ffill() or obj.bfill() instead.\n",
            "  test['dcoilwtico'] = test['dcoilwtico'].fillna(method='ffill').fillna(method='bfill')\n"
          ]
        }
      ],
      "source": [
        "test['dcoilwtico'] = test['dcoilwtico'].fillna(method='ffill').fillna(method='bfill')"
      ]
    },
    {
      "cell_type": "markdown",
      "id": "82fe4edf",
      "metadata": {},
      "source": [
        "**Fill missing values day_type column in the test dataset with \"Work Day\"**"
      ]
    },
    {
      "cell_type": "code",
      "execution_count": 32,
      "id": "943a5679",
      "metadata": {},
      "outputs": [],
      "source": [
        "test['day_type'] = test['day_type'].fillna('Work Day')"
      ]
    },
    {
      "cell_type": "markdown",
      "id": "9c4f660d",
      "metadata": {},
      "source": [
        "## **Dropping the `transactions` Column**\n",
        "\n",
        "To keep the datasets consistent, we drop `transactions` from both **train** and **test**:"
      ]
    },
    {
      "cell_type": "code",
      "execution_count": 33,
      "id": "52be50eb",
      "metadata": {},
      "outputs": [],
      "source": [
        "train.drop(\"transactions\",axis=1,inplace=True)"
      ]
    },
    {
      "cell_type": "code",
      "execution_count": 34,
      "id": "c1f73910",
      "metadata": {},
      "outputs": [],
      "source": [
        "test.drop(\"transactions\",axis=1,inplace=True)"
      ]
    },
    {
      "cell_type": "code",
      "execution_count": 35,
      "id": "3c32a9e9",
      "metadata": {
        "colab": {
          "base_uri": "https://localhost:8080/"
        },
        "id": "3c32a9e9",
        "outputId": "477f30f0-b9b4-4049-fdb1-b069870fa4c8"
      },
      "outputs": [
        {
          "data": {
            "text/plain": [
              "(3000888, 12)"
            ]
          },
          "execution_count": 35,
          "metadata": {},
          "output_type": "execute_result"
        }
      ],
      "source": [
        "train.shape"
      ]
    },
    {
      "cell_type": "markdown",
      "id": "60014fb4-03ea-4808-89ae-dc8bf810dc8d",
      "metadata": {
        "id": "60014fb4-03ea-4808-89ae-dc8bf810dc8d"
      },
      "source": [
        "## Check data types"
      ]
    },
    {
      "cell_type": "code",
      "execution_count": 36,
      "id": "b34182ed-a1f3-47e2-bb5f-b1d2c2b5c950",
      "metadata": {
        "colab": {
          "base_uri": "https://localhost:8080/",
          "height": 460
        },
        "id": "b34182ed-a1f3-47e2-bb5f-b1d2c2b5c950",
        "outputId": "5218fe60-8cdb-436a-8699-f7399a7dba17"
      },
      "outputs": [
        {
          "data": {
            "application/vnd.microsoft.datawrangler.viewer.v0+json": {
              "columns": [
                {
                  "name": "index",
                  "rawType": "object",
                  "type": "string"
                },
                {
                  "name": "0",
                  "rawType": "object",
                  "type": "unknown"
                }
              ],
              "ref": "2b4a46d6-fc45-4978-b48e-902a78b66689",
              "rows": [
                [
                  "id",
                  "int64"
                ],
                [
                  "date",
                  "datetime64[ns]"
                ],
                [
                  "store_nbr",
                  "int64"
                ],
                [
                  "family",
                  "object"
                ],
                [
                  "sales",
                  "float64"
                ],
                [
                  "onpromotion",
                  "int64"
                ],
                [
                  "city",
                  "object"
                ],
                [
                  "state",
                  "object"
                ],
                [
                  "store_type",
                  "object"
                ],
                [
                  "cluster",
                  "int64"
                ],
                [
                  "dcoilwtico",
                  "float64"
                ],
                [
                  "day_type",
                  "object"
                ]
              ],
              "shape": {
                "columns": 1,
                "rows": 12
              }
            },
            "text/plain": [
              "id                      int64\n",
              "date           datetime64[ns]\n",
              "store_nbr               int64\n",
              "family                 object\n",
              "sales                 float64\n",
              "onpromotion             int64\n",
              "city                   object\n",
              "state                  object\n",
              "store_type             object\n",
              "cluster                 int64\n",
              "dcoilwtico            float64\n",
              "day_type               object\n",
              "dtype: object"
            ]
          },
          "execution_count": 36,
          "metadata": {},
          "output_type": "execute_result"
        }
      ],
      "source": [
        "train.dtypes"
      ]
    },
    {
      "cell_type": "markdown",
      "id": "edb2951c-286b-4a33-b30e-2c142b724323",
      "metadata": {
        "id": "edb2951c-286b-4a33-b30e-2c142b724323"
      },
      "source": [
        "- **Categorical Columns:** family, city, state, store_type, day_type.  \n",
        "- **Numeric Columns:** id, store_nbr, sales, onpromotion, cluster, transactions, dcoilwtico.  \n",
        "- **Datetime Columns:** date.\n"
      ]
    },
    {
      "cell_type": "markdown",
      "id": "6ccf47e4-4be2-4ec0-9d95-8d580d721b4b",
      "metadata": {
        "id": "6ccf47e4-4be2-4ec0-9d95-8d580d721b4b"
      },
      "source": [
        "## List of all columns"
      ]
    },
    {
      "cell_type": "code",
      "execution_count": 37,
      "id": "ba1833d2-8346-4b24-92fc-a03da36558e8",
      "metadata": {
        "colab": {
          "base_uri": "https://localhost:8080/"
        },
        "id": "ba1833d2-8346-4b24-92fc-a03da36558e8",
        "outputId": "16674571-d6a5-495f-a74d-b694aa6bfe4c"
      },
      "outputs": [
        {
          "data": {
            "text/plain": [
              "Index(['id', 'date', 'store_nbr', 'family', 'sales', 'onpromotion', 'city',\n",
              "       'state', 'store_type', 'cluster', 'dcoilwtico', 'day_type'],\n",
              "      dtype='object')"
            ]
          },
          "execution_count": 37,
          "metadata": {},
          "output_type": "execute_result"
        }
      ],
      "source": [
        "train.columns"
      ]
    },
    {
      "cell_type": "markdown",
      "id": "64d0cdbd-2c8a-43a1-ba22-8a4bab8bd113",
      "metadata": {
        "id": "64d0cdbd-2c8a-43a1-ba22-8a4bab8bd113"
      },
      "source": [
        "## Unique values exploration"
      ]
    },
    {
      "cell_type": "markdown",
      "id": "6a52e6bf-fe9e-40ed-a99a-74231994dfb3",
      "metadata": {
        "id": "6a52e6bf-fe9e-40ed-a99a-74231994dfb3"
      },
      "source": [
        "**View all distinct product families available in the dataset.**"
      ]
    },
    {
      "cell_type": "code",
      "execution_count": 38,
      "id": "f2fd4317-9d81-4b9a-983a-a015f226294a",
      "metadata": {
        "colab": {
          "base_uri": "https://localhost:8080/"
        },
        "id": "f2fd4317-9d81-4b9a-983a-a015f226294a",
        "outputId": "cd1240ca-ebb9-4c35-d6ee-ef720567a28f"
      },
      "outputs": [
        {
          "data": {
            "text/plain": [
              "array(['AUTOMOTIVE', 'BABY CARE', 'BEAUTY', 'BEVERAGES', 'BOOKS',\n",
              "       'BREAD/BAKERY', 'CELEBRATION', 'CLEANING', 'DAIRY', 'DELI', 'EGGS',\n",
              "       'FROZEN FOODS', 'GROCERY I', 'GROCERY II', 'HARDWARE',\n",
              "       'HOME AND KITCHEN I', 'HOME AND KITCHEN II', 'HOME APPLIANCES',\n",
              "       'HOME CARE', 'LADIESWEAR', 'LAWN AND GARDEN', 'LINGERIE',\n",
              "       'LIQUOR,WINE,BEER', 'MAGAZINES', 'MEATS', 'PERSONAL CARE',\n",
              "       'PET SUPPLIES', 'PLAYERS AND ELECTRONICS', 'POULTRY',\n",
              "       'PREPARED FOODS', 'PRODUCE', 'SCHOOL AND OFFICE SUPPLIES',\n",
              "       'SEAFOOD'], dtype=object)"
            ]
          },
          "execution_count": 38,
          "metadata": {},
          "output_type": "execute_result"
        }
      ],
      "source": [
        "train.family.unique()"
      ]
    },
    {
      "cell_type": "markdown",
      "id": "cf800347-f577-4c9c-96a1-3e1b9d6c2aa2",
      "metadata": {
        "id": "cf800347-f577-4c9c-96a1-3e1b9d6c2aa2"
      },
      "source": [
        "**Get unique store types in the dataset**"
      ]
    },
    {
      "cell_type": "code",
      "execution_count": 39,
      "id": "913b1549-576f-40ae-b051-a1eaf82c18d3",
      "metadata": {
        "colab": {
          "base_uri": "https://localhost:8080/"
        },
        "id": "913b1549-576f-40ae-b051-a1eaf82c18d3",
        "outputId": "99b31f8c-67fd-43d1-e198-0c2f7030bd93"
      },
      "outputs": [
        {
          "data": {
            "text/plain": [
              "array(['D', 'C', 'B', 'E', 'A'], dtype=object)"
            ]
          },
          "execution_count": 39,
          "metadata": {},
          "output_type": "execute_result"
        }
      ],
      "source": [
        "train.store_type.unique()"
      ]
    },
    {
      "cell_type": "markdown",
      "id": "4b70c444-f7cb-436b-b21c-15269e600ee5",
      "metadata": {
        "id": "4b70c444-f7cb-436b-b21c-15269e600ee5"
      },
      "source": [
        "**Get unique day types in the dataset**"
      ]
    },
    {
      "cell_type": "code",
      "execution_count": 40,
      "id": "3796c2a1-039b-44f6-a525-2a7c544728c9",
      "metadata": {
        "colab": {
          "base_uri": "https://localhost:8080/"
        },
        "id": "3796c2a1-039b-44f6-a525-2a7c544728c9",
        "outputId": "532f7bfa-f867-4b19-a98c-bac809092aef"
      },
      "outputs": [
        {
          "data": {
            "text/plain": [
              "array(['Holiday', 'Work Day', 'Additional', 'Event', 'Transfer', 'Bridge'],\n",
              "      dtype=object)"
            ]
          },
          "execution_count": 40,
          "metadata": {},
          "output_type": "execute_result"
        }
      ],
      "source": [
        "train.day_type.unique()"
      ]
    },
    {
      "cell_type": "markdown",
      "id": "4a0ab86c-0da8-4c6c-b503-290e1101053a",
      "metadata": {
        "id": "4a0ab86c-0da8-4c6c-b503-290e1101053a"
      },
      "source": [
        "## Count unique values in each column"
      ]
    },
    {
      "cell_type": "code",
      "execution_count": 41,
      "id": "fe456668-f286-4a86-9f49-2d7f7ef636f2",
      "metadata": {
        "colab": {
          "base_uri": "https://localhost:8080/",
          "height": 460
        },
        "id": "fe456668-f286-4a86-9f49-2d7f7ef636f2",
        "outputId": "cf0cbe4c-65d5-485f-b360-bf39555fa1ad"
      },
      "outputs": [
        {
          "data": {
            "application/vnd.microsoft.datawrangler.viewer.v0+json": {
              "columns": [
                {
                  "name": "index",
                  "rawType": "object",
                  "type": "string"
                },
                {
                  "name": "0",
                  "rawType": "int64",
                  "type": "integer"
                }
              ],
              "ref": "94edac45-d1c0-48cc-96c5-6a3dcc77de64",
              "rows": [
                [
                  "id",
                  "3000888"
                ],
                [
                  "date",
                  "1684"
                ],
                [
                  "store_nbr",
                  "54"
                ],
                [
                  "family",
                  "33"
                ],
                [
                  "sales",
                  "379610"
                ],
                [
                  "onpromotion",
                  "362"
                ],
                [
                  "city",
                  "22"
                ],
                [
                  "state",
                  "16"
                ],
                [
                  "store_type",
                  "5"
                ],
                [
                  "cluster",
                  "17"
                ],
                [
                  "dcoilwtico",
                  "994"
                ],
                [
                  "day_type",
                  "6"
                ]
              ],
              "shape": {
                "columns": 1,
                "rows": 12
              }
            },
            "text/plain": [
              "id             3000888\n",
              "date              1684\n",
              "store_nbr           54\n",
              "family              33\n",
              "sales           379610\n",
              "onpromotion        362\n",
              "city                22\n",
              "state               16\n",
              "store_type           5\n",
              "cluster             17\n",
              "dcoilwtico         994\n",
              "day_type             6\n",
              "dtype: int64"
            ]
          },
          "execution_count": 41,
          "metadata": {},
          "output_type": "execute_result"
        }
      ],
      "source": [
        "train.nunique()"
      ]
    },
    {
      "cell_type": "markdown",
      "id": "c435668f-eece-4a26-9345-a9f06044b183",
      "metadata": {
        "id": "c435668f-eece-4a26-9345-a9f06044b183"
      },
      "source": [
        "## Store Network Structure\n",
        "- **54 stores** across **22 cities** and **16 states**\n",
        "- Average of ~2.45 stores per city\n",
        "- **17 clusters** for geographic or performance grouping\n",
        "- **5 store types** (A, B, C, D, E) indicating different formats or tiers\n",
        "\n",
        "## Temporal Coverage\n",
        "- **1,684 days** of data ≈ **4.6 years** of daily records\n",
        "- **6 day types** (including Work Day, Holiday, Work Day, Additional, Event, Transfer, Bridge)\n",
        "\n",
        "## Product & Sales Diversity\n",
        "- **33 product families** offering diverse category analysis\n",
        "- **379,610 unique sales values** showing high variability\n",
        "- **362 promotion levels** indicating varied promotional intensity\n",
        "- **4,993 transaction count variations** suggesting different store sizes\n",
        "\n",
        "## Data Quality Indicators\n",
        "- **3M+ records** with unique IDs - comprehensive dataset\n",
        "- **994 oil price points** - good external economic indicator coverage"
      ]
    },
    {
      "cell_type": "markdown",
      "id": "7f41fb43-fb4d-4b74-96b2-49ccac717c68",
      "metadata": {
        "id": "7f41fb43-fb4d-4b74-96b2-49ccac717c68"
      },
      "source": [
        "## Descriptive statistics for all columns"
      ]
    },
    {
      "cell_type": "code",
      "execution_count": 42,
      "id": "7e23d90f-fb83-4128-9481-55c41ad91a2f",
      "metadata": {
        "colab": {
          "base_uri": "https://localhost:8080/",
          "height": 518
        },
        "id": "7e23d90f-fb83-4128-9481-55c41ad91a2f",
        "outputId": "b7121098-9f79-4ce2-fa91-b6f662923b42"
      },
      "outputs": [
        {
          "data": {
            "application/vnd.microsoft.datawrangler.viewer.v0+json": {
              "columns": [
                {
                  "name": "index",
                  "rawType": "object",
                  "type": "string"
                },
                {
                  "name": "id",
                  "rawType": "float64",
                  "type": "float"
                },
                {
                  "name": "date",
                  "rawType": "object",
                  "type": "unknown"
                },
                {
                  "name": "store_nbr",
                  "rawType": "float64",
                  "type": "float"
                },
                {
                  "name": "family",
                  "rawType": "object",
                  "type": "unknown"
                },
                {
                  "name": "sales",
                  "rawType": "float64",
                  "type": "float"
                },
                {
                  "name": "onpromotion",
                  "rawType": "float64",
                  "type": "float"
                },
                {
                  "name": "city",
                  "rawType": "object",
                  "type": "unknown"
                },
                {
                  "name": "state",
                  "rawType": "object",
                  "type": "unknown"
                },
                {
                  "name": "store_type",
                  "rawType": "object",
                  "type": "unknown"
                },
                {
                  "name": "cluster",
                  "rawType": "float64",
                  "type": "float"
                },
                {
                  "name": "dcoilwtico",
                  "rawType": "float64",
                  "type": "float"
                },
                {
                  "name": "day_type",
                  "rawType": "object",
                  "type": "unknown"
                }
              ],
              "ref": "5f8572f4-7c09-4c61-a455-fd6f93fd3532",
              "rows": [
                [
                  "count",
                  "3000888.0",
                  "3000888",
                  "3000888.0",
                  "3000888",
                  "3000888.0",
                  "3000888.0",
                  "3000888",
                  "3000888",
                  "3000888",
                  "3000888.0",
                  "3000888.0",
                  "3000888"
                ],
                [
                  "unique",
                  null,
                  null,
                  null,
                  "33",
                  null,
                  null,
                  "22",
                  "16",
                  "5",
                  null,
                  null,
                  "6"
                ],
                [
                  "top",
                  null,
                  null,
                  null,
                  "AUTOMOTIVE",
                  null,
                  null,
                  "Quito",
                  "Pichincha",
                  "D",
                  null,
                  null,
                  "Work Day"
                ],
                [
                  "freq",
                  null,
                  null,
                  null,
                  "90936",
                  null,
                  null,
                  "1000296",
                  "1055868",
                  "1000296",
                  null,
                  null,
                  "2574990"
                ],
                [
                  "mean",
                  "1500443.5",
                  "2015-04-24 08:27:04.703088384",
                  "27.5",
                  null,
                  "357.77574911261877",
                  "2.6027702466736513",
                  null,
                  null,
                  null,
                  "8.481481481481481",
                  "67.92489904988123",
                  null
                ],
                [
                  "min",
                  "0.0",
                  "2013-01-01 00:00:00",
                  "1.0",
                  null,
                  "0.0",
                  "0.0",
                  null,
                  null,
                  null,
                  "1.0",
                  "26.19",
                  null
                ],
                [
                  "25%",
                  "750221.75",
                  "2014-02-26 18:00:00",
                  "14.0",
                  null,
                  "0.0",
                  "0.0",
                  null,
                  null,
                  null,
                  "4.0",
                  "46.3775",
                  null
                ],
                [
                  "50%",
                  "1500443.5",
                  "2015-04-24 12:00:00",
                  "27.5",
                  null,
                  "11.0",
                  "0.0",
                  null,
                  null,
                  null,
                  "8.5",
                  "53.41",
                  null
                ],
                [
                  "75%",
                  "2250665.25",
                  "2016-06-19 06:00:00",
                  "41.0",
                  null,
                  "195.84725",
                  "0.0",
                  null,
                  null,
                  null,
                  "13.0",
                  "95.72",
                  null
                ],
                [
                  "max",
                  "3000887.0",
                  "2017-08-15 00:00:00",
                  "54.0",
                  null,
                  "124717.0",
                  "741.0",
                  null,
                  null,
                  null,
                  "17.0",
                  "110.62",
                  null
                ],
                [
                  "std",
                  "866281.8916415141",
                  null,
                  "15.585786717870715",
                  null,
                  "1101.997721338",
                  "12.218882346424387",
                  null,
                  null,
                  null,
                  "4.649734899904286",
                  "25.669131156352986",
                  null
                ]
              ],
              "shape": {
                "columns": 12,
                "rows": 11
              }
            },
            "text/html": [
              "<div>\n",
              "<style scoped>\n",
              "    .dataframe tbody tr th:only-of-type {\n",
              "        vertical-align: middle;\n",
              "    }\n",
              "\n",
              "    .dataframe tbody tr th {\n",
              "        vertical-align: top;\n",
              "    }\n",
              "\n",
              "    .dataframe thead th {\n",
              "        text-align: right;\n",
              "    }\n",
              "</style>\n",
              "<table border=\"1\" class=\"dataframe\">\n",
              "  <thead>\n",
              "    <tr style=\"text-align: right;\">\n",
              "      <th></th>\n",
              "      <th>id</th>\n",
              "      <th>date</th>\n",
              "      <th>store_nbr</th>\n",
              "      <th>family</th>\n",
              "      <th>sales</th>\n",
              "      <th>onpromotion</th>\n",
              "      <th>city</th>\n",
              "      <th>state</th>\n",
              "      <th>store_type</th>\n",
              "      <th>cluster</th>\n",
              "      <th>dcoilwtico</th>\n",
              "      <th>day_type</th>\n",
              "    </tr>\n",
              "  </thead>\n",
              "  <tbody>\n",
              "    <tr>\n",
              "      <th>count</th>\n",
              "      <td>3.000888e+06</td>\n",
              "      <td>3000888</td>\n",
              "      <td>3.000888e+06</td>\n",
              "      <td>3000888</td>\n",
              "      <td>3.000888e+06</td>\n",
              "      <td>3.000888e+06</td>\n",
              "      <td>3000888</td>\n",
              "      <td>3000888</td>\n",
              "      <td>3000888</td>\n",
              "      <td>3.000888e+06</td>\n",
              "      <td>3.000888e+06</td>\n",
              "      <td>3000888</td>\n",
              "    </tr>\n",
              "    <tr>\n",
              "      <th>unique</th>\n",
              "      <td>NaN</td>\n",
              "      <td>NaN</td>\n",
              "      <td>NaN</td>\n",
              "      <td>33</td>\n",
              "      <td>NaN</td>\n",
              "      <td>NaN</td>\n",
              "      <td>22</td>\n",
              "      <td>16</td>\n",
              "      <td>5</td>\n",
              "      <td>NaN</td>\n",
              "      <td>NaN</td>\n",
              "      <td>6</td>\n",
              "    </tr>\n",
              "    <tr>\n",
              "      <th>top</th>\n",
              "      <td>NaN</td>\n",
              "      <td>NaN</td>\n",
              "      <td>NaN</td>\n",
              "      <td>AUTOMOTIVE</td>\n",
              "      <td>NaN</td>\n",
              "      <td>NaN</td>\n",
              "      <td>Quito</td>\n",
              "      <td>Pichincha</td>\n",
              "      <td>D</td>\n",
              "      <td>NaN</td>\n",
              "      <td>NaN</td>\n",
              "      <td>Work Day</td>\n",
              "    </tr>\n",
              "    <tr>\n",
              "      <th>freq</th>\n",
              "      <td>NaN</td>\n",
              "      <td>NaN</td>\n",
              "      <td>NaN</td>\n",
              "      <td>90936</td>\n",
              "      <td>NaN</td>\n",
              "      <td>NaN</td>\n",
              "      <td>1000296</td>\n",
              "      <td>1055868</td>\n",
              "      <td>1000296</td>\n",
              "      <td>NaN</td>\n",
              "      <td>NaN</td>\n",
              "      <td>2574990</td>\n",
              "    </tr>\n",
              "    <tr>\n",
              "      <th>mean</th>\n",
              "      <td>1.500444e+06</td>\n",
              "      <td>2015-04-24 08:27:04.703088384</td>\n",
              "      <td>2.750000e+01</td>\n",
              "      <td>NaN</td>\n",
              "      <td>3.577757e+02</td>\n",
              "      <td>2.602770e+00</td>\n",
              "      <td>NaN</td>\n",
              "      <td>NaN</td>\n",
              "      <td>NaN</td>\n",
              "      <td>8.481481e+00</td>\n",
              "      <td>6.792490e+01</td>\n",
              "      <td>NaN</td>\n",
              "    </tr>\n",
              "    <tr>\n",
              "      <th>min</th>\n",
              "      <td>0.000000e+00</td>\n",
              "      <td>2013-01-01 00:00:00</td>\n",
              "      <td>1.000000e+00</td>\n",
              "      <td>NaN</td>\n",
              "      <td>0.000000e+00</td>\n",
              "      <td>0.000000e+00</td>\n",
              "      <td>NaN</td>\n",
              "      <td>NaN</td>\n",
              "      <td>NaN</td>\n",
              "      <td>1.000000e+00</td>\n",
              "      <td>2.619000e+01</td>\n",
              "      <td>NaN</td>\n",
              "    </tr>\n",
              "    <tr>\n",
              "      <th>25%</th>\n",
              "      <td>7.502218e+05</td>\n",
              "      <td>2014-02-26 18:00:00</td>\n",
              "      <td>1.400000e+01</td>\n",
              "      <td>NaN</td>\n",
              "      <td>0.000000e+00</td>\n",
              "      <td>0.000000e+00</td>\n",
              "      <td>NaN</td>\n",
              "      <td>NaN</td>\n",
              "      <td>NaN</td>\n",
              "      <td>4.000000e+00</td>\n",
              "      <td>4.637750e+01</td>\n",
              "      <td>NaN</td>\n",
              "    </tr>\n",
              "    <tr>\n",
              "      <th>50%</th>\n",
              "      <td>1.500444e+06</td>\n",
              "      <td>2015-04-24 12:00:00</td>\n",
              "      <td>2.750000e+01</td>\n",
              "      <td>NaN</td>\n",
              "      <td>1.100000e+01</td>\n",
              "      <td>0.000000e+00</td>\n",
              "      <td>NaN</td>\n",
              "      <td>NaN</td>\n",
              "      <td>NaN</td>\n",
              "      <td>8.500000e+00</td>\n",
              "      <td>5.341000e+01</td>\n",
              "      <td>NaN</td>\n",
              "    </tr>\n",
              "    <tr>\n",
              "      <th>75%</th>\n",
              "      <td>2.250665e+06</td>\n",
              "      <td>2016-06-19 06:00:00</td>\n",
              "      <td>4.100000e+01</td>\n",
              "      <td>NaN</td>\n",
              "      <td>1.958473e+02</td>\n",
              "      <td>0.000000e+00</td>\n",
              "      <td>NaN</td>\n",
              "      <td>NaN</td>\n",
              "      <td>NaN</td>\n",
              "      <td>1.300000e+01</td>\n",
              "      <td>9.572000e+01</td>\n",
              "      <td>NaN</td>\n",
              "    </tr>\n",
              "    <tr>\n",
              "      <th>max</th>\n",
              "      <td>3.000887e+06</td>\n",
              "      <td>2017-08-15 00:00:00</td>\n",
              "      <td>5.400000e+01</td>\n",
              "      <td>NaN</td>\n",
              "      <td>1.247170e+05</td>\n",
              "      <td>7.410000e+02</td>\n",
              "      <td>NaN</td>\n",
              "      <td>NaN</td>\n",
              "      <td>NaN</td>\n",
              "      <td>1.700000e+01</td>\n",
              "      <td>1.106200e+02</td>\n",
              "      <td>NaN</td>\n",
              "    </tr>\n",
              "    <tr>\n",
              "      <th>std</th>\n",
              "      <td>8.662819e+05</td>\n",
              "      <td>NaN</td>\n",
              "      <td>1.558579e+01</td>\n",
              "      <td>NaN</td>\n",
              "      <td>1.101998e+03</td>\n",
              "      <td>1.221888e+01</td>\n",
              "      <td>NaN</td>\n",
              "      <td>NaN</td>\n",
              "      <td>NaN</td>\n",
              "      <td>4.649735e+00</td>\n",
              "      <td>2.566913e+01</td>\n",
              "      <td>NaN</td>\n",
              "    </tr>\n",
              "  </tbody>\n",
              "</table>\n",
              "</div>"
            ],
            "text/plain": [
              "                  id                           date     store_nbr      family  \\\n",
              "count   3.000888e+06                        3000888  3.000888e+06     3000888   \n",
              "unique           NaN                            NaN           NaN          33   \n",
              "top              NaN                            NaN           NaN  AUTOMOTIVE   \n",
              "freq             NaN                            NaN           NaN       90936   \n",
              "mean    1.500444e+06  2015-04-24 08:27:04.703088384  2.750000e+01         NaN   \n",
              "min     0.000000e+00            2013-01-01 00:00:00  1.000000e+00         NaN   \n",
              "25%     7.502218e+05            2014-02-26 18:00:00  1.400000e+01         NaN   \n",
              "50%     1.500444e+06            2015-04-24 12:00:00  2.750000e+01         NaN   \n",
              "75%     2.250665e+06            2016-06-19 06:00:00  4.100000e+01         NaN   \n",
              "max     3.000887e+06            2017-08-15 00:00:00  5.400000e+01         NaN   \n",
              "std     8.662819e+05                            NaN  1.558579e+01         NaN   \n",
              "\n",
              "               sales   onpromotion     city      state store_type  \\\n",
              "count   3.000888e+06  3.000888e+06  3000888    3000888    3000888   \n",
              "unique           NaN           NaN       22         16          5   \n",
              "top              NaN           NaN    Quito  Pichincha          D   \n",
              "freq             NaN           NaN  1000296    1055868    1000296   \n",
              "mean    3.577757e+02  2.602770e+00      NaN        NaN        NaN   \n",
              "min     0.000000e+00  0.000000e+00      NaN        NaN        NaN   \n",
              "25%     0.000000e+00  0.000000e+00      NaN        NaN        NaN   \n",
              "50%     1.100000e+01  0.000000e+00      NaN        NaN        NaN   \n",
              "75%     1.958473e+02  0.000000e+00      NaN        NaN        NaN   \n",
              "max     1.247170e+05  7.410000e+02      NaN        NaN        NaN   \n",
              "std     1.101998e+03  1.221888e+01      NaN        NaN        NaN   \n",
              "\n",
              "             cluster    dcoilwtico  day_type  \n",
              "count   3.000888e+06  3.000888e+06   3000888  \n",
              "unique           NaN           NaN         6  \n",
              "top              NaN           NaN  Work Day  \n",
              "freq             NaN           NaN   2574990  \n",
              "mean    8.481481e+00  6.792490e+01       NaN  \n",
              "min     1.000000e+00  2.619000e+01       NaN  \n",
              "25%     4.000000e+00  4.637750e+01       NaN  \n",
              "50%     8.500000e+00  5.341000e+01       NaN  \n",
              "75%     1.300000e+01  9.572000e+01       NaN  \n",
              "max     1.700000e+01  1.106200e+02       NaN  \n",
              "std     4.649735e+00  2.566913e+01       NaN  "
            ]
          },
          "execution_count": 42,
          "metadata": {},
          "output_type": "execute_result"
        }
      ],
      "source": [
        "train.describe(include='all')"
      ]
    },
    {
      "cell_type": "markdown",
      "id": "94dcc895-f419-44e4-ad85-af53c1f293d6",
      "metadata": {
        "id": "94dcc895-f419-44e4-ad85-af53c1f293d6"
      },
      "source": [
        "# Dataset Statistical Summary\n",
        "\n",
        "### Date\n",
        "- **Range**: 2013-01-01 → 2017-08-15  \n",
        "- **Median**: April 26, 2015 → balanced 4.6-year coverage  \n",
        "- **Temporal spread**: Evenly distributed across the period\n",
        "\n",
        "### Store Number\n",
        "- **Range**: Store 1 → Store 54  \n",
        "- **Mean**: 27.5 → stores evenly distributed numerically  \n",
        "- **Std**: 15.6 → good spread across store IDs\n",
        "\n",
        "### Product Family\n",
        "- **33 unique categories**  \n",
        "- **Most frequent**: **Automotive** (91,638 entries)  \n",
        "- Dominant category suggests focus on automotive products\n",
        "\n",
        "### Sales\n",
        "- **Range**: $0 → $124,717\n",
        "  \n",
        "- **Median**: $11  →  highly right-skewed distribution\n",
        "\n",
        "  \n",
        "- **Mean**:  $358.78 (vs Median $11) → extreme outliers present\n",
        "\n",
        "  \n",
        "- **Std**: $1,106.76 → very high variability\n",
        "\n",
        "### On Promotion\n",
        "- **Range**: 0 → 741 items  \n",
        "- **Mean**: 2.61 items promoted  \n",
        "- **75% records**: 0 promotions → sparse promotional activity  \n",
        "- **Std**: 12.26 → high variation in promotion intensity\n",
        "\n",
        "### Geography\n",
        "- **22 cities** → **Top: Quito** (1,008,018 entries)  \n",
        "- **16 states** → **Top: Pichincha** (1,064,019 entries)  \n",
        "- Geographic concentration in specific areas\n",
        "\n",
        "### Store Type\n",
        "- **5 store types** → **Most frequent: Type D** (1,008,018 entries)  \n",
        "- Type D dominates the network\n",
        "\n",
        "### Cluster\n",
        "- **17 clusters** → Range: 1-17  \n",
        "- **Mean**: 8.48 → balanced cluster distribution  \n",
        "- **Std**: 4.65 → moderate variation in cluster sizes\n",
        "\n",
        "### Transactions\n",
        "- **Range**: 5 → 8,359 transactions  \n",
        "- **Median**: 1,395 → right-skewed distribution  \n",
        "- **Mean**: 1,673 → larger stores pull average up  \n",
        "- **Std**: 930.65 → significant store size variation\n",
        "\n",
        "### Oil Price (dcoilwtico)\n",
        "- **Range**: $26.19 → $110.62  \n",
        "- **Median**: $53.41 (vs Mean $67.86) → left-skewed distribution  \n",
        "- **Std**: $25.66 → high volatility in oil prices\n",
        "\n",
        "### Day Type\n",
        "- **6 unique day types**  \n",
        "- **Most frequent**: **Work Day** (2,560,734 entries)  \n",
        "- Balanced representation of different day types"
      ]
    },
    {
      "cell_type": "markdown",
      "id": "b061cd3a",
      "metadata": {},
      "source": [
        "## Add Feature Engineering"
      ]
    },
    {
      "cell_type": "markdown",
      "id": "7907cef6",
      "metadata": {},
      "source": [
        "To enhance our dataset with time-related insights, we extract several features from the `date` column.  \n",
        "This helps capture seasonal patterns, monthly trends, and weekday effects in sales forecasting."
      ]
    },
    {
      "cell_type": "code",
      "execution_count": 43,
      "id": "878f5d94",
      "metadata": {},
      "outputs": [],
      "source": [
        "train[\"Year\"]=pd.to_datetime(train[\"date\"]).dt.year\n",
        "train[\"Month\"]=pd.to_datetime(train[\"date\"]).dt.month\n",
        "train[\"Day\"]=pd.to_datetime(train[\"date\"]).dt.day\n",
        "train[\"Week_day\"]=train[\"date\"].dt.strftime(\"%A\")\n",
        "train['Weekend'] = train[\"Week_day\"].apply(lambda x: 'Weekend' if x in ['Saturday','Sunday'] else 'Weekday')\n"
      ]
    },
    {
      "cell_type": "code",
      "execution_count": 44,
      "id": "12403961",
      "metadata": {},
      "outputs": [],
      "source": [
        "test[\"Year\"]=pd.to_datetime(test[\"date\"]).dt.year\n",
        "test[\"Month\"]=pd.to_datetime(test[\"date\"]).dt.month\n",
        "test[\"Day\"]=pd.to_datetime(test[\"date\"]).dt.day\n",
        "test[\"Week_day\"]=test[\"date\"].dt.strftime(\"%A\")\n",
        "test['Weekend'] = test[\"Week_day\"].apply(lambda x: 'Weekend' if x in ['Saturday','Sunday'] else 'Weekday')\n"
      ]
    },
    {
      "cell_type": "markdown",
      "id": "0f857f48",
      "metadata": {},
      "source": [
        "# 📊 Insights from Sales by Day Type"
      ]
    },
    {
      "cell_type": "code",
      "execution_count": 45,
      "id": "b7a16f30",
      "metadata": {},
      "outputs": [
        {
          "data": {
            "image/png": "[encoded data removed]",
            "text/plain": [
              "<Figure size 1200x500 with 2 Axes>"
            ]
          },
          "metadata": {},
          "output_type": "display_data"
        }
      ],
      "source": [
        "df = train.groupby(['date', 'day_type'])['sales'].sum().reset_index()\n",
        "df = df.groupby('day_type').agg(mean_sales=('sales','mean'), max_sales=('sales','max')).reset_index()\n",
        "fig, axes = plt.subplots(1, 2, figsize=(12, 5))\n",
        "\n",
        "sns.barplot(x='day_type', y='mean_sales', data=df, ax=axes[0])\n",
        "axes[0].set_title(\"Average Sales per Day Type\", pad=10)\n",
        "axes[0].set_xlabel(\"Day Type\")\n",
        "axes[0].set_ylabel(\"Average Sales\")\n",
        "for container in axes[0].containers:\n",
        "    axes[0].bar_label(container, fmt=\"%.2f\", padding=3)\n",
        "axes[0].set_ylim(0, df['mean_sales'].max() * 1.2)    \n",
        "\n",
        "sns.barplot(x='day_type', y='max_sales', data=df, ax=axes[1])\n",
        "axes[1].set_title(\"Max Sales per Day Type\", pad=10)\n",
        "axes[1].set_xlabel(\"Day Type\")\n",
        "axes[1].set_ylabel(\"Max Sales\")\n",
        "for container in axes[1].containers:\n",
        "    axes[1].bar_label(container, fmt=\"%.2f\", padding=3)\n",
        "axes[1].set_ylim(0, df['max_sales'].max() * 1.2)     \n",
        "\n",
        "plt.tight_layout()\n",
        "plt.show()\n"
      ]
    },
    {
      "cell_type": "markdown",
      "id": "c1b1f9f1",
      "metadata": {},
      "source": [
        "## 🔹 Average Sales per Day Type\n",
        "- **Highest Average Sales:** `Additional` → ~868,954.74  \n",
        "- **Lowest Average Sales:** `Holiday` → ~626,553.72 \n",
        "- `Work Day` → ~627,011.19 (also relatively low)  \n",
        "- `Transfer` -> is also relitavely high with 831,744.59\n",
        "\n",
        "👉 **Insight:** Additional days consistently drive higher average sales, while Holidays and Workdays drag the average down.\n",
        "\n",
        "---\n",
        "\n",
        "## 🔹 Max Sales per Day Type\n",
        "- **Highest Max Sales:** `Holiday` → ~1,463,083.96 \n",
        "- Followed closely by `Transfer` (~1,402,306.37) and `Work Day` (~1,376,511.52)  \n",
        "- **Lowest Max Sales:** `Bridge` → ~858,468.22\n",
        "\n",
        "👉 **Insight:** While Holidays show weak averages, they can still generate the **highest single-day peaks**, suggesting occasional spikes in customer demand.\n",
        "\n",
        "---\n",
        "\n",
        "## 📝 Conclusion\n",
        "- **Additional days** → Most reliable for **average sales**.  \n",
        "- **Holidays** → Low average but **highest peaks** → strong demand spikes possible.  \n",
        "- **Work Days** → Moderate averages, **strong maximum potential**.  \n",
        "- **Bridge days** → Weak across both metrics.  \n",
        "\n",
        "✅ **Business Takeaway:**  \n",
        "- Maximize promotions & inventory on **Additional days** (steady demand).  \n",
        "- Prepare for **spikes on Holidays** despite weak averages.  \n",
        "- Optimize strategies for **Work Days** to leverage high peak sales.  \n",
        "- Reconsider heavy investment in **Bridge days** as they add the least value. \n",
        "\n",
        "---\n",
        "---\n",
        "\n"
      ]
    },
    {
      "cell_type": "markdown",
      "id": "56485d43",
      "metadata": {},
      "source": [
        "# 🏬 Insights from Sales by Store Type"
      ]
    },
    {
      "cell_type": "code",
      "execution_count": 46,
      "id": "39782d95",
      "metadata": {},
      "outputs": [
        {
          "data": {
            "image/png": "[encoded data removed]",
            "text/plain": [
              "<Figure size 1200x500 with 2 Axes>"
            ]
          },
          "metadata": {},
          "output_type": "display_data"
        }
      ],
      "source": [
        "df = train.groupby(['date', 'store_type'])['sales'].sum().reset_index()\n",
        "\n",
        "df = df.groupby('store_type').agg(mean_sales=('sales','mean'), max_sales=('sales','max')).reset_index()\n",
        "fig, axes = plt.subplots(1, 2, figsize=(12, 5))\n",
        "\n",
        "sns.barplot(x='store_type', y='mean_sales', data=df, ax=axes[0])\n",
        "axes[0].set_title(\"Average Sales per Store Type\", pad=10)\n",
        "axes[0].set_xlabel(\"Store Type\")\n",
        "axes[0].set_ylabel(\"Average Sales\")\n",
        "for container in axes[0].containers:\n",
        "    axes[0].bar_label(container, fmt=\"%.2f\", padding=3)\n",
        "axes[0].set_ylim(0, df['mean_sales'].max() * 1.2)    \n",
        "\n",
        "sns.barplot(x='store_type', y='max_sales', data=df, ax=axes[1])\n",
        "axes[1].set_title(\"Max Sales per Store Type\", pad=10)\n",
        "axes[1].set_xlabel(\"Store Type\")\n",
        "axes[1].set_ylabel(\"Max Sales\")\n",
        "for container in axes[1].containers:\n",
        "    axes[1].bar_label(container, fmt=\"%.2f\", padding=3)\n",
        "axes[1].set_ylim(0, df['max_sales'].max() * 1.2)     \n",
        "\n",
        "plt.tight_layout()\n",
        "plt.show()\n"
      ]
    },
    {
      "cell_type": "markdown",
      "id": "5e90d9d8",
      "metadata": {},
      "source": [
        "## 🔹 Average Sales per Store Type\n",
        "- **Highest Average Sales:** `Store Type A` → ~209,645.99  \n",
        "- **Lowest Average Sales:** `Store Type E` → ~35,524.01  \n",
        "- `Store Type D` → ~208,481.77 (strong performance, 2nd best)  \n",
        "- `Store Type C` → ~97,645.33 (moderate)  \n",
        "- `Store Type B` → ~86,259.28 (lower side)  \n",
        "\n",
        "👉 **Insight:** Store A significantly outperforms all others in average sales, while Store E trails far behind.\n",
        "\n",
        "---\n",
        "\n",
        "## 🔹 Max Sales per Store Type\n",
        "- **Highest Max Sales:** `Store Type A` → ~512,346.68 \n",
        "- **Lowest Max Sales:** `Store Type E` → ~109,533.01 \n",
        "- `Store Type D` → ~430,102.67 (2nd best)  \n",
        "\n",
        "👉 **Insight:** Store A also dominates in peak sales, reinforcing its overall performance. Store E continues to underperform in both average and peak metrics.\n",
        "\n",
        "---\n",
        "\n",
        "## 📝 Conclusion\n",
        "- **Store Type A** → Clear top performer in both average and max sales.  \n",
        "- **Store Type D** → Strong and consistent across both metrics.  \n",
        "- **Store Type C** → Stable but not outstanding.  \n",
        "- **Store Type B** → Needs improvement; underperforming.  \n",
        "- **Store Type E** → Weakest across the board; strategy reevaluation needed.  \n",
        "\n",
        "✅ **Business Takeaway:**  \n",
        "- **Double down on Store A** — allocate more inventory, expand its footprint, and replicate its winning model.\n",
        "\n",
        "- **Support Store D** with steady resources; it’s reliable and can be nurtured for long-term growth.\n",
        "\n",
        "- **Tune up Store C** through operational improvements or targeted promotions to lift it from “average” to “strong.”\n",
        "\n",
        "- **Diagnose Store B** — investigate inefficiencies, local demand, or competition that may be holding it back.\n",
        "\n",
        "- **Reassess Store E** — decide whether to reposition, overhaul, or consider exit strategies if turnaround isn’t feasible.\n",
        "\n",
        "---\n",
        "---\n"
      ]
    },
    {
      "cell_type": "markdown",
      "id": "9fa142b1",
      "metadata": {},
      "source": [
        "# 🏬 Store Sales Analysis (2013–2017)"
      ]
    },
    {
      "cell_type": "code",
      "execution_count": 47,
      "id": "6336c2a5",
      "metadata": {},
      "outputs": [
        {
          "data": {
            "application/vnd.microsoft.datawrangler.viewer.v0+json": {
              "columns": [
                {
                  "name": "Year",
                  "rawType": "int32",
                  "type": "integer"
                },
                {
                  "name": "('sales', 'A')",
                  "rawType": "float64",
                  "type": "float"
                },
                {
                  "name": "('sales', 'B')",
                  "rawType": "float64",
                  "type": "float"
                },
                {
                  "name": "('sales', 'C')",
                  "rawType": "float64",
                  "type": "float"
                },
                {
                  "name": "('sales', 'D')",
                  "rawType": "float64",
                  "type": "float"
                },
                {
                  "name": "('sales', 'E')",
                  "rawType": "float64",
                  "type": "float"
                }
              ],
              "ref": "c731dc68-bffd-4067-b14c-ca34f03db9c9",
              "rows": [
                [
                  "2013",
                  "47020894.6208503",
                  "18493330.8649949",
                  "23477951.8270925",
                  "45767563.9009571",
                  "5659272.7057224"
                ],
                [
                  "2014",
                  "72459843.5152304",
                  "25421424.842499",
                  "32324464.679613",
                  "69497584.1735404",
                  "9770929.0906611"
                ],
                [
                  "2015",
                  "77806847.9792305",
                  "33469307.6633755",
                  "36880330.0690402",
                  "78128687.021949",
                  "14594927.921145"
                ],
                [
                  "2016",
                  "91927694.1858158",
                  "40378592.0032214",
                  "43212467.4994725",
                  "95604653.4615414",
                  "17531115.803845"
                ],
                [
                  "2017",
                  "63828561.501529",
                  "27497979.7592421",
                  "28539528.489636",
                  "62084808.30574",
                  "12266190.317124"
                ]
              ],
              "shape": {
                "columns": 5,
                "rows": 5
              }
            },
            "text/html": [
              "<div>\n",
              "<style scoped>\n",
              "    .dataframe tbody tr th:only-of-type {\n",
              "        vertical-align: middle;\n",
              "    }\n",
              "\n",
              "    .dataframe tbody tr th {\n",
              "        vertical-align: top;\n",
              "    }\n",
              "\n",
              "    .dataframe thead tr th {\n",
              "        text-align: left;\n",
              "    }\n",
              "\n",
              "    .dataframe thead tr:last-of-type th {\n",
              "        text-align: right;\n",
              "    }\n",
              "</style>\n",
              "<table border=\"1\" class=\"dataframe\">\n",
              "  <thead>\n",
              "    <tr>\n",
              "      <th></th>\n",
              "      <th colspan=\"5\" halign=\"left\">sales</th>\n",
              "    </tr>\n",
              "    <tr>\n",
              "      <th>store_type</th>\n",
              "      <th>A</th>\n",
              "      <th>B</th>\n",
              "      <th>C</th>\n",
              "      <th>D</th>\n",
              "      <th>E</th>\n",
              "    </tr>\n",
              "    <tr>\n",
              "      <th>Year</th>\n",
              "      <th></th>\n",
              "      <th></th>\n",
              "      <th></th>\n",
              "      <th></th>\n",
              "      <th></th>\n",
              "    </tr>\n",
              "  </thead>\n",
              "  <tbody>\n",
              "    <tr>\n",
              "      <th>2013</th>\n",
              "      <td>4.702089e+07</td>\n",
              "      <td>1.849333e+07</td>\n",
              "      <td>2.347795e+07</td>\n",
              "      <td>4.576756e+07</td>\n",
              "      <td>5.659273e+06</td>\n",
              "    </tr>\n",
              "    <tr>\n",
              "      <th>2014</th>\n",
              "      <td>7.245984e+07</td>\n",
              "      <td>2.542142e+07</td>\n",
              "      <td>3.232446e+07</td>\n",
              "      <td>6.949758e+07</td>\n",
              "      <td>9.770929e+06</td>\n",
              "    </tr>\n",
              "    <tr>\n",
              "      <th>2015</th>\n",
              "      <td>7.780685e+07</td>\n",
              "      <td>3.346931e+07</td>\n",
              "      <td>3.688033e+07</td>\n",
              "      <td>7.812869e+07</td>\n",
              "      <td>1.459493e+07</td>\n",
              "    </tr>\n",
              "    <tr>\n",
              "      <th>2016</th>\n",
              "      <td>9.192769e+07</td>\n",
              "      <td>4.037859e+07</td>\n",
              "      <td>4.321247e+07</td>\n",
              "      <td>9.560465e+07</td>\n",
              "      <td>1.753112e+07</td>\n",
              "    </tr>\n",
              "    <tr>\n",
              "      <th>2017</th>\n",
              "      <td>6.382856e+07</td>\n",
              "      <td>2.749798e+07</td>\n",
              "      <td>2.853953e+07</td>\n",
              "      <td>6.208481e+07</td>\n",
              "      <td>1.226619e+07</td>\n",
              "    </tr>\n",
              "  </tbody>\n",
              "</table>\n",
              "</div>"
            ],
            "text/plain": [
              "                   sales                                            \\\n",
              "store_type             A             B             C             D   \n",
              "Year                                                                 \n",
              "2013        4.702089e+07  1.849333e+07  2.347795e+07  4.576756e+07   \n",
              "2014        7.245984e+07  2.542142e+07  3.232446e+07  6.949758e+07   \n",
              "2015        7.780685e+07  3.346931e+07  3.688033e+07  7.812869e+07   \n",
              "2016        9.192769e+07  4.037859e+07  4.321247e+07  9.560465e+07   \n",
              "2017        6.382856e+07  2.749798e+07  2.853953e+07  6.208481e+07   \n",
              "\n",
              "                          \n",
              "store_type             E  \n",
              "Year                      \n",
              "2013        5.659273e+06  \n",
              "2014        9.770929e+06  \n",
              "2015        1.459493e+07  \n",
              "2016        1.753112e+07  \n",
              "2017        1.226619e+07  "
            ]
          },
          "execution_count": 47,
          "metadata": {},
          "output_type": "execute_result"
        }
      ],
      "source": [
        "df = train.groupby(['Year', 'store_type']).agg(sales=('sales', 'sum')).unstack()\n",
        "df"
      ]
    },
    {
      "cell_type": "code",
      "execution_count": 48,
      "id": "a4c5a8bd",
      "metadata": {},
      "outputs": [
        {
          "data": {
            "image/png": "[encoded data removed]",
            "text/plain": [
              "<Figure size 1200x1000 with 5 Axes>"
            ]
          },
          "metadata": {},
          "output_type": "display_data"
        }
      ],
      "source": [
        "df = train.groupby(['Year', 'store_type'])['sales'].sum().reset_index()\n",
        "\n",
        "fig, axes = plt.subplots(3, 2, figsize=(12, 10))\n",
        "axes = axes.flatten()\n",
        "\n",
        "temp_list = df['store_type'].unique().tolist()\n",
        "\n",
        "for idx, store in enumerate(temp_list):\n",
        "    temp = df[df['store_type'] == store]\n",
        "    \n",
        "    sns.barplot(x='Year', y='sales', data=temp, ax=axes[idx])\n",
        "    \n",
        "    axes[idx].set_title(f'Total Sales of Store Type {store} across Years', pad=10)\n",
        "    axes[idx].set_xlabel('Year')\n",
        "    axes[idx].set_ylabel('Total Sales')\n",
        "    \n",
        "    for container in axes[idx].containers:\n",
        "        axes[idx].bar_label(container, fmt=\"%.2f\", padding=3)\n",
        "\n",
        "    axes[idx].set_ylim(0, df['sales'].max() * 1.2)\n",
        "\n",
        "for j in range(len(temp_list), len(axes)):\n",
        "    fig.delaxes(axes[j])\n",
        "\n",
        "plt.tight_layout()\n",
        "plt.show()\n"
      ]
    },
    {
      "cell_type": "markdown",
      "id": "4ed2d8a9",
      "metadata": {},
      "source": [
        "\n",
        "## 🔢 Summary Table\n",
        "\n",
        "| Store Type | Peak Year | Peak Sales ($) | Lowest Year | Lowest Sales ($) |\n",
        "|------------|-----------|----------------|-------------|------------------|\n",
        "| A | 2016 | 91.9M | 2013 | 47.0M |\n",
        "| B | 2016 | 40.4M | 2013 | 18.5M |\n",
        "| C | 2016 | 43.2M | 2013 | 23.5M |\n",
        "| D | 2016 | 95.6M | 2013 | 45.8M |\n",
        "| E | 2016 | 17.5M | 2013 | 5.7M |\n",
        "\n",
        "---\n",
        "\n",
        "## 📈 Key Trends\n",
        "\n",
        "- **2013 → 2016**:  \n",
        "  All store types show strong growth, with sales roughly **doubling or tripling**.  \n",
        "- **2016**:  \n",
        "  **Absolute peak year** across all store types (A–E).  \n",
        "- **2017**:  \n",
        "  Noticeable **decline in sales** for all store types compared to 2016.  \n",
        "\n",
        "---\n",
        "\n",
        "## 📉 Slump Pattern\n",
        "\n",
        "- **2017 downturn** is consistent across all store categories.  \n",
        "- Largest absolute drop: **Store D** (↓33.5M).  \n",
        "- Smallest relative drop: **Store E** (still down but less dramatic).  \n",
        "\n",
        "---\n",
        "\n",
        "## 🧭 Strategic Insights\n",
        "\n",
        "- **2016 was a boom year** — likely due to external drivers (market expansion, promotions, favorable economy).  \n",
        "- **2017 decline** suggests possible **market saturation, economic slowdown, or stronger competition**.  \n",
        "- Stores **A & D** dominate in total sales.\n",
        "---\n",
        "\n",
        "## ✅ Conclusion\n",
        "\n",
        "From **2013 to 2016**, the stores experienced a **strong growth trajectory**, culminating in record-high sales across all store types in 2016. However, the **sharp decline in 2017** across every store type signals a turning point. This pattern indicates that the surge in 2016 may have been **unsustainable**, possibly boosted by temporary factors, while 2017 reflects a **correction or external pressure**.  \n",
        "\n",
        "👉 To maintain stability, businesses should:  \n",
        "- Investigate the **2016 success drivers** (and replicate sustainable ones).  \n",
        "- Analyze **2017 causes** (economic, competitive, or operational).  \n",
        "- Diversify strategies to **avoid overdependence on short-term boosts**.  \n",
        "\n",
        "\n",
        "---\n",
        "---"
      ]
    },
    {
      "cell_type": "markdown",
      "id": "b0fd38c7",
      "metadata": {},
      "source": [
        "# 📅 Monthly Sales Analysis (2013–2017)"
      ]
    },
    {
      "cell_type": "code",
      "execution_count": 49,
      "id": "910d62ae",
      "metadata": {},
      "outputs": [
        {
          "data": {
            "application/vnd.microsoft.datawrangler.viewer.v0+json": {
              "columns": [
                {
                  "name": "Year",
                  "rawType": "int32",
                  "type": "integer"
                },
                {
                  "name": "1",
                  "rawType": "float64",
                  "type": "float"
                },
                {
                  "name": "2",
                  "rawType": "float64",
                  "type": "float"
                },
                {
                  "name": "3",
                  "rawType": "float64",
                  "type": "float"
                },
                {
                  "name": "4",
                  "rawType": "float64",
                  "type": "float"
                },
                {
                  "name": "5",
                  "rawType": "float64",
                  "type": "float"
                },
                {
                  "name": "6",
                  "rawType": "float64",
                  "type": "float"
                },
                {
                  "name": "7",
                  "rawType": "float64",
                  "type": "float"
                },
                {
                  "name": "8",
                  "rawType": "float64",
                  "type": "float"
                },
                {
                  "name": "9",
                  "rawType": "float64",
                  "type": "float"
                },
                {
                  "name": "10",
                  "rawType": "float64",
                  "type": "float"
                },
                {
                  "name": "11",
                  "rawType": "float64",
                  "type": "float"
                },
                {
                  "name": "12",
                  "rawType": "float64",
                  "type": "float"
                },
                {
                  "name": "Total sales",
                  "rawType": "float64",
                  "type": "float"
                },
                {
                  "name": "Max month",
                  "rawType": "object",
                  "type": "unknown"
                },
                {
                  "name": "Max sales",
                  "rawType": "float64",
                  "type": "float"
                },
                {
                  "name": "Min month",
                  "rawType": "object",
                  "type": "unknown"
                },
                {
                  "name": "Min sales",
                  "rawType": "float64",
                  "type": "float"
                }
              ],
              "ref": "a43ad894-0f78-412c-95ee-8bcb89ffc3da",
              "rows": [
                [
                  "2013",
                  "10327624.7369095",
                  "9658959.7774368",
                  "11428497.0374875",
                  "10993464.7380118",
                  "11597704.0070268",
                  "11689344.0622436",
                  "11257400.6076808",
                  "11737788.9194727",
                  "11792933.2318679",
                  "11775620.3605191",
                  "12356559.2929861",
                  "15803117.1479746",
                  "140419013.9196172",
                  "12",
                  "15803117.1479746",
                  "2",
                  "9658959.7774368"
                ],
                [
                  "2014",
                  "18911640.7014034",
                  "12038352.6339783",
                  "20365584.016477",
                  "12861251.0571494",
                  "13379785.2611975",
                  "13319958.1730016",
                  "19421891.0438224",
                  "13885176.4190542",
                  "20022416.1138096",
                  "20396101.3141771",
                  "20531635.2036432",
                  "24340454.3638302",
                  "209474246.3015439",
                  "12",
                  "24340454.3638302",
                  "2",
                  "12038352.6339783"
                ],
                [
                  "2015",
                  "14896922.0571985",
                  "13742395.8483812",
                  "15598607.5183553",
                  "14955068.1707755",
                  "17730368.244309",
                  "21615360.3512421",
                  "22209619.0387389",
                  "22963674.2412815",
                  "23240882.4779112",
                  "23878267.6645621",
                  "22804953.3682112",
                  "27243981.6737737",
                  "240880100.65474024",
                  "12",
                  "27243981.6737737",
                  "2",
                  "13742395.8483812"
                ],
                [
                  "2016",
                  "23977804.8854341",
                  "21947408.8010028",
                  "23131780.8838199",
                  "25963025.1019622",
                  "24779432.2602277",
                  "22209218.5803836",
                  "23462672.4331036",
                  "22452414.3178949",
                  "22417448.0969967",
                  "24030389.816292",
                  "24642640.1973935",
                  "29640287.5793851",
                  "288654522.9538961",
                  "12",
                  "29640287.5793851",
                  "2",
                  "21947408.8010028"
                ],
                [
                  "2017",
                  "26328159.9357051",
                  "23250112.3749368",
                  "26704017.6908793",
                  "25895308.4895551",
                  "26911847.250593",
                  "25682822.1249936",
                  "27011477.5658307",
                  "12433322.9407775",
                  null,
                  null,
                  null,
                  null,
                  "194217068.3732711",
                  "7",
                  "27011477.5658307",
                  "8",
                  "12433322.9407775"
                ]
              ],
              "shape": {
                "columns": 17,
                "rows": 5
              }
            },
            "text/html": [
              "<div>\n",
              "<style scoped>\n",
              "    .dataframe tbody tr th:only-of-type {\n",
              "        vertical-align: middle;\n",
              "    }\n",
              "\n",
              "    .dataframe tbody tr th {\n",
              "        vertical-align: top;\n",
              "    }\n",
              "\n",
              "    .dataframe thead th {\n",
              "        text-align: right;\n",
              "    }\n",
              "</style>\n",
              "<table border=\"1\" class=\"dataframe\">\n",
              "  <thead>\n",
              "    <tr style=\"text-align: right;\">\n",
              "      <th>Month</th>\n",
              "      <th>1</th>\n",
              "      <th>2</th>\n",
              "      <th>3</th>\n",
              "      <th>4</th>\n",
              "      <th>5</th>\n",
              "      <th>6</th>\n",
              "      <th>7</th>\n",
              "      <th>8</th>\n",
              "      <th>9</th>\n",
              "      <th>10</th>\n",
              "      <th>11</th>\n",
              "      <th>12</th>\n",
              "      <th>Total sales</th>\n",
              "      <th>Max month</th>\n",
              "      <th>Max sales</th>\n",
              "      <th>Min month</th>\n",
              "      <th>Min sales</th>\n",
              "    </tr>\n",
              "    <tr>\n",
              "      <th>Year</th>\n",
              "      <th></th>\n",
              "      <th></th>\n",
              "      <th></th>\n",
              "      <th></th>\n",
              "      <th></th>\n",
              "      <th></th>\n",
              "      <th></th>\n",
              "      <th></th>\n",
              "      <th></th>\n",
              "      <th></th>\n",
              "      <th></th>\n",
              "      <th></th>\n",
              "      <th></th>\n",
              "      <th></th>\n",
              "      <th></th>\n",
              "      <th></th>\n",
              "      <th></th>\n",
              "    </tr>\n",
              "  </thead>\n",
              "  <tbody>\n",
              "    <tr>\n",
              "      <th>2013</th>\n",
              "      <td>1.032762e+07</td>\n",
              "      <td>9.658960e+06</td>\n",
              "      <td>1.142850e+07</td>\n",
              "      <td>1.099346e+07</td>\n",
              "      <td>1.159770e+07</td>\n",
              "      <td>1.168934e+07</td>\n",
              "      <td>1.125740e+07</td>\n",
              "      <td>1.173779e+07</td>\n",
              "      <td>1.179293e+07</td>\n",
              "      <td>1.177562e+07</td>\n",
              "      <td>1.235656e+07</td>\n",
              "      <td>1.580312e+07</td>\n",
              "      <td>1.404190e+08</td>\n",
              "      <td>12</td>\n",
              "      <td>1.580312e+07</td>\n",
              "      <td>2</td>\n",
              "      <td>9.658960e+06</td>\n",
              "    </tr>\n",
              "    <tr>\n",
              "      <th>2014</th>\n",
              "      <td>1.891164e+07</td>\n",
              "      <td>1.203835e+07</td>\n",
              "      <td>2.036558e+07</td>\n",
              "      <td>1.286125e+07</td>\n",
              "      <td>1.337979e+07</td>\n",
              "      <td>1.331996e+07</td>\n",
              "      <td>1.942189e+07</td>\n",
              "      <td>1.388518e+07</td>\n",
              "      <td>2.002242e+07</td>\n",
              "      <td>2.039610e+07</td>\n",
              "      <td>2.053164e+07</td>\n",
              "      <td>2.434045e+07</td>\n",
              "      <td>2.094742e+08</td>\n",
              "      <td>12</td>\n",
              "      <td>2.434045e+07</td>\n",
              "      <td>2</td>\n",
              "      <td>1.203835e+07</td>\n",
              "    </tr>\n",
              "    <tr>\n",
              "      <th>2015</th>\n",
              "      <td>1.489692e+07</td>\n",
              "      <td>1.374240e+07</td>\n",
              "      <td>1.559861e+07</td>\n",
              "      <td>1.495507e+07</td>\n",
              "      <td>1.773037e+07</td>\n",
              "      <td>2.161536e+07</td>\n",
              "      <td>2.220962e+07</td>\n",
              "      <td>2.296367e+07</td>\n",
              "      <td>2.324088e+07</td>\n",
              "      <td>2.387827e+07</td>\n",
              "      <td>2.280495e+07</td>\n",
              "      <td>2.724398e+07</td>\n",
              "      <td>2.408801e+08</td>\n",
              "      <td>12</td>\n",
              "      <td>2.724398e+07</td>\n",
              "      <td>2</td>\n",
              "      <td>1.374240e+07</td>\n",
              "    </tr>\n",
              "    <tr>\n",
              "      <th>2016</th>\n",
              "      <td>2.397780e+07</td>\n",
              "      <td>2.194741e+07</td>\n",
              "      <td>2.313178e+07</td>\n",
              "      <td>2.596303e+07</td>\n",
              "      <td>2.477943e+07</td>\n",
              "      <td>2.220922e+07</td>\n",
              "      <td>2.346267e+07</td>\n",
              "      <td>2.245241e+07</td>\n",
              "      <td>2.241745e+07</td>\n",
              "      <td>2.403039e+07</td>\n",
              "      <td>2.464264e+07</td>\n",
              "      <td>2.964029e+07</td>\n",
              "      <td>2.886545e+08</td>\n",
              "      <td>12</td>\n",
              "      <td>2.964029e+07</td>\n",
              "      <td>2</td>\n",
              "      <td>2.194741e+07</td>\n",
              "    </tr>\n",
              "    <tr>\n",
              "      <th>2017</th>\n",
              "      <td>2.632816e+07</td>\n",
              "      <td>2.325011e+07</td>\n",
              "      <td>2.670402e+07</td>\n",
              "      <td>2.589531e+07</td>\n",
              "      <td>2.691185e+07</td>\n",
              "      <td>2.568282e+07</td>\n",
              "      <td>2.701148e+07</td>\n",
              "      <td>1.243332e+07</td>\n",
              "      <td>NaN</td>\n",
              "      <td>NaN</td>\n",
              "      <td>NaN</td>\n",
              "      <td>NaN</td>\n",
              "      <td>1.942171e+08</td>\n",
              "      <td>7</td>\n",
              "      <td>2.701148e+07</td>\n",
              "      <td>8</td>\n",
              "      <td>1.243332e+07</td>\n",
              "    </tr>\n",
              "  </tbody>\n",
              "</table>\n",
              "</div>"
            ],
            "text/plain": [
              "Month             1             2             3             4             5  \\\n",
              "Year                                                                          \n",
              "2013   1.032762e+07  9.658960e+06  1.142850e+07  1.099346e+07  1.159770e+07   \n",
              "2014   1.891164e+07  1.203835e+07  2.036558e+07  1.286125e+07  1.337979e+07   \n",
              "2015   1.489692e+07  1.374240e+07  1.559861e+07  1.495507e+07  1.773037e+07   \n",
              "2016   2.397780e+07  2.194741e+07  2.313178e+07  2.596303e+07  2.477943e+07   \n",
              "2017   2.632816e+07  2.325011e+07  2.670402e+07  2.589531e+07  2.691185e+07   \n",
              "\n",
              "Month             6             7             8             9            10  \\\n",
              "Year                                                                          \n",
              "2013   1.168934e+07  1.125740e+07  1.173779e+07  1.179293e+07  1.177562e+07   \n",
              "2014   1.331996e+07  1.942189e+07  1.388518e+07  2.002242e+07  2.039610e+07   \n",
              "2015   2.161536e+07  2.220962e+07  2.296367e+07  2.324088e+07  2.387827e+07   \n",
              "2016   2.220922e+07  2.346267e+07  2.245241e+07  2.241745e+07  2.403039e+07   \n",
              "2017   2.568282e+07  2.701148e+07  1.243332e+07           NaN           NaN   \n",
              "\n",
              "Month            11            12   Total sales Max month     Max sales  \\\n",
              "Year                                                                      \n",
              "2013   1.235656e+07  1.580312e+07  1.404190e+08        12  1.580312e+07   \n",
              "2014   2.053164e+07  2.434045e+07  2.094742e+08        12  2.434045e+07   \n",
              "2015   2.280495e+07  2.724398e+07  2.408801e+08        12  2.724398e+07   \n",
              "2016   2.464264e+07  2.964029e+07  2.886545e+08        12  2.964029e+07   \n",
              "2017            NaN           NaN  1.942171e+08         7  2.701148e+07   \n",
              "\n",
              "Month Min month     Min sales  \n",
              "Year                           \n",
              "2013          2  9.658960e+06  \n",
              "2014          2  1.203835e+07  \n",
              "2015          2  1.374240e+07  \n",
              "2016          2  2.194741e+07  \n",
              "2017          8  1.243332e+07  "
            ]
          },
          "execution_count": 49,
          "metadata": {},
          "output_type": "execute_result"
        }
      ],
      "source": [
        "df=train[['Year', 'Month', 'sales']]\n",
        "df = df.groupby(['Year', 'Month'])['sales'].sum().unstack()\n",
        "df['Total sales'] = df.sum(axis=1)\n",
        "df['Max month'] = df.drop(columns=['Total sales']).idxmax(axis=1)\n",
        "df['Max sales'] = df.drop(columns=['Total sales', 'Max month']).max(axis=1)\n",
        "df['Min month'] = df.drop(columns=['Total sales', 'Max month', 'Max sales']).idxmin(axis=1)\n",
        "df['Min sales'] = df.drop(columns=['Total sales', 'Max month', 'Max sales', 'Min month']).min(axis=1)\n",
        "df.index.name='Year'\n",
        "df.columns.name='Month'\n",
        "\n",
        "df"
      ]
    },
    {
      "cell_type": "code",
      "execution_count": 50,
      "id": "dae0220d",
      "metadata": {},
      "outputs": [
        {
          "data": {
            "image/png": "[encoded data removed]",
            "text/plain": [
              "<Figure size 2000x500 with 1 Axes>"
            ]
          },
          "metadata": {},
          "output_type": "display_data"
        }
      ],
      "source": [
        "df = train.groupby(['Year', 'Month'])['sales'].sum().reset_index()\n",
        "\n",
        "plt.figure(figsize=(20,5))\n",
        "\n",
        "\n",
        "df['Year-Month'] = df['Year'].astype(str) + '-' + df['Month'].astype(str).str.zfill(2)\n",
        "\n",
        "custom_palette = {\n",
        "    2013: \"#1f77b4\",  \n",
        "    2014: \"#ff7f0e\",  \n",
        "    2015: \"#2ca02c\",  \n",
        "    2016: \"#d62728\",  \n",
        "    2017: \"#9467bd\"   \n",
        "}\n",
        "\n",
        "sns.lineplot(x='Year-Month', y='sales', hue='Year', data=df, marker=\"o\", palette = custom_palette)\n",
        "\n",
        "plt.xticks(rotation=45)   \n",
        "plt.title(\"Sales Timeline by Year\")\n",
        "plt.xlabel(\"Year-Month\")\n",
        "plt.ylabel(\"Total Sales\")\n",
        "plt.legend(title=\"Year\")\n",
        "plt.show()\n"
      ]
    },
    {
      "cell_type": "markdown",
      "id": "e6a4228f",
      "metadata": {},
      "source": [
        "\n",
        "## 🔢 Summary Table\n",
        "\n",
        "| Year | Total Sales | Max Month | Max Sales | Min Month | Min Sales |\n",
        "| ---- | ----------- | --------- | --------- | --------- | --------- |\n",
        "| 2013 | \\~1.40M     | Dec       | \\~155,000 | Feb       | \\~99,000  |\n",
        "| 2014 | \\~1.75M     | Dec       | \\~245,000 | Feb       | \\~120,000 |\n",
        "| 2015 | \\~1.97M     | Dec       | \\~275,000 | Mar       | \\~138,000 |\n",
        "| 2016 | \\~2.22M     | Dec       | \\~298,000 | Jul       | \\~218,000 |\n",
        "| 2017 | \\~1.45M     | May       | \\~270,000 | Aug       | \\~125,000 |\n",
        "\n",
        "---\n",
        "\n",
        "## 📈 Key Trends\n",
        "🔹 Growth from 2013–2016:\n",
        "\n",
        "Clear upward trend year-over-year:\n",
        "\n",
        "2013 → ~1.40M\n",
        "\n",
        "2014 → ~1.75M\n",
        "\n",
        "2015 → ~1.97M\n",
        "\n",
        "2016 → ~2.22M ✅ Peak year\n",
        "\n",
        "December was the strongest month every year (2013–2016), reflecting consistent seasonal year-end demand.\n",
        "\n",
        "🔹 Decline in 2017:\n",
        "\n",
        "Strong start (Jan–Jun 2017), most months holding ~230K–270K, on par with 2016.\n",
        "\n",
        "Sharp collapse in Aug 2017 (~125K), lowest point in the whole timeline.\n",
        "\n",
        "Data stops after Aug 2017 — no Sep–Dec values visible, which heavily drags down annual totals (~1.45M).\n",
        "\n",
        "## 📉 February Slump Pattern\n",
        "Year\tFeb Sales\t% Drop from Jan\n",
        "2013\t~104K\t-6%\n",
        "2014\t~112K\t-29%\n",
        "2015\t~126K\t-6%\n",
        "2016\t~177K\t-4%\n",
        "2017\t~176K\t-7%\n",
        "\n",
        "February dip recurs every year, making it a reliable post-holiday slump signal.\n",
        "\n",
        "## 🔍 Noteworthy Highlights\n",
        "\n",
        "- 📈 Dec 2016 remains the highest monthly sales peak (~300K).\n",
        "\n",
        "- 🛑 Aug 2017 is the lowest visible month (~125K), a 50%+ crash from earlier that year.\n",
        "\n",
        "- 📉 The combination of the mid-2017 drop + missing Sep–Dec data interrupts a 4-year growth streak.\n",
        "\n",
        "## 🧠 Strategic Insights\n",
        "### ✅ 2013–2016: Expansion Phase\n",
        "\n",
        "Strong demand growth with reliable December surges.\n",
        "\n",
        "Operations appear well-aligned with seasonal shopping cycles.\n",
        "\n",
        "### ❌ 2017: Disruption Phase\n",
        "\n",
        "Early performance suggested another record year.\n",
        "\n",
        "The sudden Aug 2017 collapse plus absence of Sep–Dec data raises red flags:\n",
        "\n",
        "Potential operational disruption (supply chain, inventory issues).\n",
        "\n",
        "External shocks (economic downturn, competition, policy).\n",
        "\n",
        "Or simply incomplete reporting.\n",
        "\n",
        "## ✅ Recommendations\n",
        "\n",
        "- 📊 Exploit December peak: Expand year-end campaigns and inventory planning.\n",
        "\n",
        "- 📉 Counter February dips: Run loyalty or clearance promotions to smooth seasonal demand.\n",
        "\n",
        "- 🔍 Investigate 2017 anomaly:\n",
        "\n",
        "  - Validate whether Sep–Dec 2017 are missing due to\n",
        "  reporting gaps or real shutdowns.\n",
        "\n",
        "  - Diagnose causes of the Aug crash (internal vs. external).\n",
        "\n",
        "- 🧪 Scenario testing: Project 2017 totals assuming Sep–Dec followed Jan–Jun trends to gauge “lost” potential sales.\n",
        "\n",
        "---\n",
        "---\n"
      ]
    },
    {
      "cell_type": "markdown",
      "id": "2e1818b7",
      "metadata": {},
      "source": [
        "# 📊 Oil Price Timeline (2013–2017)"
      ]
    },
    {
      "cell_type": "code",
      "execution_count": 51,
      "id": "b2682b38",
      "metadata": {},
      "outputs": [
        {
          "data": {
            "application/vnd.microsoft.datawrangler.viewer.v0+json": {
              "columns": [
                {
                  "name": "Year",
                  "rawType": "int32",
                  "type": "integer"
                },
                {
                  "name": "1",
                  "rawType": "float64",
                  "type": "float"
                },
                {
                  "name": "2",
                  "rawType": "float64",
                  "type": "float"
                },
                {
                  "name": "3",
                  "rawType": "float64",
                  "type": "float"
                },
                {
                  "name": "4",
                  "rawType": "float64",
                  "type": "float"
                },
                {
                  "name": "5",
                  "rawType": "float64",
                  "type": "float"
                },
                {
                  "name": "6",
                  "rawType": "float64",
                  "type": "float"
                },
                {
                  "name": "7",
                  "rawType": "float64",
                  "type": "float"
                },
                {
                  "name": "8",
                  "rawType": "float64",
                  "type": "float"
                },
                {
                  "name": "9",
                  "rawType": "float64",
                  "type": "float"
                },
                {
                  "name": "10",
                  "rawType": "float64",
                  "type": "float"
                },
                {
                  "name": "11",
                  "rawType": "float64",
                  "type": "float"
                },
                {
                  "name": "12",
                  "rawType": "float64",
                  "type": "float"
                },
                {
                  "name": "Avg",
                  "rawType": "float64",
                  "type": "float"
                },
                {
                  "name": "Max month",
                  "rawType": "object",
                  "type": "unknown"
                },
                {
                  "name": "Max price",
                  "rawType": "float64",
                  "type": "float"
                },
                {
                  "name": "Min month",
                  "rawType": "object",
                  "type": "unknown"
                },
                {
                  "name": "Min price",
                  "rawType": "float64",
                  "type": "float"
                }
              ],
              "ref": "62f79e65-e9b1-4490-a417-b0608209e747",
              "rows": [
                [
                  "2013",
                  "94.63225806451614",
                  "95.40357142857142",
                  "93.21709677419354",
                  "91.793",
                  "94.65451612903226",
                  "95.58433333333333",
                  "104.77677419354838",
                  "106.66645161290323",
                  "106.491",
                  "100.67483870967743",
                  "93.89266666666667",
                  "97.60933333333334",
                  "97.94965335381464",
                  "8",
                  "106.66645161290323",
                  "4",
                  "91.793"
                ],
                [
                  "2014",
                  "94.59451612903226",
                  "100.59214285714285",
                  "100.97225806451613",
                  "102.26066666666667",
                  "102.24483870967742",
                  "105.85066666666665",
                  "103.68741935483871",
                  "96.63677419354838",
                  "93.40899999999999",
                  "84.53322580645161",
                  "75.63066666666667",
                  "59.15966666666667",
                  "93.29765348182282",
                  "6",
                  "105.85066666666665",
                  "12",
                  "59.15966666666667"
                ],
                [
                  "2015",
                  "47.86290322580645",
                  "50.71178571428571",
                  "47.76129032258065",
                  "53.918",
                  "59.32",
                  "59.741",
                  "51.413225806451614",
                  "43.17935483870968",
                  "45.43833333333333",
                  "46.3341935483871",
                  "42.221000000000004",
                  "37.13766666666667",
                  "48.75322945468509",
                  "6",
                  "59.741",
                  "12",
                  "37.13766666666667"
                ],
                [
                  "2016",
                  "32.244516129032256",
                  "30.297241379310346",
                  "37.68451612903226",
                  "40.612",
                  "46.837419354838715",
                  "48.58733333333333",
                  "44.92225806451613",
                  "44.95161290322581",
                  "44.952",
                  "49.664516129032265",
                  "45.51133333333333",
                  "51.980999999999995",
                  "43.1871455629712",
                  "12",
                  "51.980999999999995",
                  "2",
                  "30.297241379310346"
                ],
                [
                  "2017",
                  "52.69806451612903",
                  "53.550357142857145",
                  "49.30903225806452",
                  "51.10666666666666",
                  "48.51548387096774",
                  "45.202999999999996",
                  "46.53612903225806",
                  "48.97933333333334",
                  null,
                  null,
                  null,
                  null,
                  "49.48725835253456",
                  "2",
                  "53.550357142857145",
                  "6",
                  "45.202999999999996"
                ]
              ],
              "shape": {
                "columns": 17,
                "rows": 5
              }
            },
            "text/html": [
              "<div>\n",
              "<style scoped>\n",
              "    .dataframe tbody tr th:only-of-type {\n",
              "        vertical-align: middle;\n",
              "    }\n",
              "\n",
              "    .dataframe tbody tr th {\n",
              "        vertical-align: top;\n",
              "    }\n",
              "\n",
              "    .dataframe thead th {\n",
              "        text-align: right;\n",
              "    }\n",
              "</style>\n",
              "<table border=\"1\" class=\"dataframe\">\n",
              "  <thead>\n",
              "    <tr style=\"text-align: right;\">\n",
              "      <th>Month</th>\n",
              "      <th>1</th>\n",
              "      <th>2</th>\n",
              "      <th>3</th>\n",
              "      <th>4</th>\n",
              "      <th>5</th>\n",
              "      <th>6</th>\n",
              "      <th>7</th>\n",
              "      <th>8</th>\n",
              "      <th>9</th>\n",
              "      <th>10</th>\n",
              "      <th>11</th>\n",
              "      <th>12</th>\n",
              "      <th>Avg</th>\n",
              "      <th>Max month</th>\n",
              "      <th>Max price</th>\n",
              "      <th>Min month</th>\n",
              "      <th>Min price</th>\n",
              "    </tr>\n",
              "    <tr>\n",
              "      <th>Year</th>\n",
              "      <th></th>\n",
              "      <th></th>\n",
              "      <th></th>\n",
              "      <th></th>\n",
              "      <th></th>\n",
              "      <th></th>\n",
              "      <th></th>\n",
              "      <th></th>\n",
              "      <th></th>\n",
              "      <th></th>\n",
              "      <th></th>\n",
              "      <th></th>\n",
              "      <th></th>\n",
              "      <th></th>\n",
              "      <th></th>\n",
              "      <th></th>\n",
              "      <th></th>\n",
              "    </tr>\n",
              "  </thead>\n",
              "  <tbody>\n",
              "    <tr>\n",
              "      <th>2013</th>\n",
              "      <td>94.632258</td>\n",
              "      <td>95.403571</td>\n",
              "      <td>93.217097</td>\n",
              "      <td>91.793000</td>\n",
              "      <td>94.654516</td>\n",
              "      <td>95.584333</td>\n",
              "      <td>104.776774</td>\n",
              "      <td>106.666452</td>\n",
              "      <td>106.491000</td>\n",
              "      <td>100.674839</td>\n",
              "      <td>93.892667</td>\n",
              "      <td>97.609333</td>\n",
              "      <td>97.949653</td>\n",
              "      <td>8</td>\n",
              "      <td>106.666452</td>\n",
              "      <td>4</td>\n",
              "      <td>91.793000</td>\n",
              "    </tr>\n",
              "    <tr>\n",
              "      <th>2014</th>\n",
              "      <td>94.594516</td>\n",
              "      <td>100.592143</td>\n",
              "      <td>100.972258</td>\n",
              "      <td>102.260667</td>\n",
              "      <td>102.244839</td>\n",
              "      <td>105.850667</td>\n",
              "      <td>103.687419</td>\n",
              "      <td>96.636774</td>\n",
              "      <td>93.409000</td>\n",
              "      <td>84.533226</td>\n",
              "      <td>75.630667</td>\n",
              "      <td>59.159667</td>\n",
              "      <td>93.297653</td>\n",
              "      <td>6</td>\n",
              "      <td>105.850667</td>\n",
              "      <td>12</td>\n",
              "      <td>59.159667</td>\n",
              "    </tr>\n",
              "    <tr>\n",
              "      <th>2015</th>\n",
              "      <td>47.862903</td>\n",
              "      <td>50.711786</td>\n",
              "      <td>47.761290</td>\n",
              "      <td>53.918000</td>\n",
              "      <td>59.320000</td>\n",
              "      <td>59.741000</td>\n",
              "      <td>51.413226</td>\n",
              "      <td>43.179355</td>\n",
              "      <td>45.438333</td>\n",
              "      <td>46.334194</td>\n",
              "      <td>42.221000</td>\n",
              "      <td>37.137667</td>\n",
              "      <td>48.753229</td>\n",
              "      <td>6</td>\n",
              "      <td>59.741000</td>\n",
              "      <td>12</td>\n",
              "      <td>37.137667</td>\n",
              "    </tr>\n",
              "    <tr>\n",
              "      <th>2016</th>\n",
              "      <td>32.244516</td>\n",
              "      <td>30.297241</td>\n",
              "      <td>37.684516</td>\n",
              "      <td>40.612000</td>\n",
              "      <td>46.837419</td>\n",
              "      <td>48.587333</td>\n",
              "      <td>44.922258</td>\n",
              "      <td>44.951613</td>\n",
              "      <td>44.952000</td>\n",
              "      <td>49.664516</td>\n",
              "      <td>45.511333</td>\n",
              "      <td>51.981000</td>\n",
              "      <td>43.187146</td>\n",
              "      <td>12</td>\n",
              "      <td>51.981000</td>\n",
              "      <td>2</td>\n",
              "      <td>30.297241</td>\n",
              "    </tr>\n",
              "    <tr>\n",
              "      <th>2017</th>\n",
              "      <td>52.698065</td>\n",
              "      <td>53.550357</td>\n",
              "      <td>49.309032</td>\n",
              "      <td>51.106667</td>\n",
              "      <td>48.515484</td>\n",
              "      <td>45.203000</td>\n",
              "      <td>46.536129</td>\n",
              "      <td>48.979333</td>\n",
              "      <td>NaN</td>\n",
              "      <td>NaN</td>\n",
              "      <td>NaN</td>\n",
              "      <td>NaN</td>\n",
              "      <td>49.487258</td>\n",
              "      <td>2</td>\n",
              "      <td>53.550357</td>\n",
              "      <td>6</td>\n",
              "      <td>45.203000</td>\n",
              "    </tr>\n",
              "  </tbody>\n",
              "</table>\n",
              "</div>"
            ],
            "text/plain": [
              "Month          1           2           3           4           5           6  \\\n",
              "Year                                                                           \n",
              "2013   94.632258   95.403571   93.217097   91.793000   94.654516   95.584333   \n",
              "2014   94.594516  100.592143  100.972258  102.260667  102.244839  105.850667   \n",
              "2015   47.862903   50.711786   47.761290   53.918000   59.320000   59.741000   \n",
              "2016   32.244516   30.297241   37.684516   40.612000   46.837419   48.587333   \n",
              "2017   52.698065   53.550357   49.309032   51.106667   48.515484   45.203000   \n",
              "\n",
              "Month           7           8           9          10         11         12  \\\n",
              "Year                                                                          \n",
              "2013   104.776774  106.666452  106.491000  100.674839  93.892667  97.609333   \n",
              "2014   103.687419   96.636774   93.409000   84.533226  75.630667  59.159667   \n",
              "2015    51.413226   43.179355   45.438333   46.334194  42.221000  37.137667   \n",
              "2016    44.922258   44.951613   44.952000   49.664516  45.511333  51.981000   \n",
              "2017    46.536129   48.979333         NaN         NaN        NaN        NaN   \n",
              "\n",
              "Month        Avg Max month   Max price Min month  Min price  \n",
              "Year                                                         \n",
              "2013   97.949653         8  106.666452         4  91.793000  \n",
              "2014   93.297653         6  105.850667        12  59.159667  \n",
              "2015   48.753229         6   59.741000        12  37.137667  \n",
              "2016   43.187146        12   51.981000         2  30.297241  \n",
              "2017   49.487258         2   53.550357         6  45.203000  "
            ]
          },
          "execution_count": 51,
          "metadata": {},
          "output_type": "execute_result"
        }
      ],
      "source": [
        "df = train[['Year', 'Month', 'dcoilwtico']]\n",
        "df = df.groupby(['Year', 'Month'])['dcoilwtico'].mean().unstack()\n",
        "\n",
        "df['Avg'] = df.mean(axis=1)\n",
        "df['Max month'] = df.idxmax(axis=1)\n",
        "df['Max price'] = df.drop(columns=['Max month']).max(axis=1)\n",
        "df['Min month'] = df.drop(columns=['Max month', 'Max price']).idxmin(axis=1)\n",
        "df['Min price'] = df.drop(columns=['Max month', 'Max price', 'Min month']).min(axis=1)\n",
        "df.index.name='Year'\n",
        "df.columns.name='Month'\n",
        "\n",
        "df"
      ]
    },
    {
      "cell_type": "code",
      "execution_count": 52,
      "id": "7bd2ee16",
      "metadata": {},
      "outputs": [
        {
          "data": {
            "image/png": "[encoded data removed]",
            "text/plain": [
              "<Figure size 2000x500 with 1 Axes>"
            ]
          },
          "metadata": {},
          "output_type": "display_data"
        }
      ],
      "source": [
        "df = train.groupby(['Year', 'Month'])['dcoilwtico'].mean().reset_index()\n",
        "\n",
        "plt.figure(figsize=(20,5))\n",
        "\n",
        "\n",
        "df['Year-Month'] = df['Year'].astype(str) + '-' + df['Month'].astype(str).str.zfill(2)\n",
        "\n",
        "custom_palette = {\n",
        "    2013: \"#1f77b4\",  \n",
        "    2014: \"#ff7f0e\",  \n",
        "    2015: \"#2ca02c\",  \n",
        "    2016: \"#d62728\",  \n",
        "    2017: \"#9467bd\"   \n",
        "}\n",
        "\n",
        "sns.lineplot(x='Year-Month', y='dcoilwtico', hue='Year', data=df, marker=\"o\", palette = custom_palette)\n",
        "\n",
        "plt.xticks(rotation=45)\n",
        "plt.title(\"dcoilwtico Timeline by Year\")\n",
        "plt.xlabel(\"Year-Month\")\n",
        "plt.ylabel(\"dcoilwtico price\")\n",
        "plt.legend(title=\"Year\")\n",
        "plt.show()\n"
      ]
    },
    {
      "cell_type": "markdown",
      "id": "c95ef66c",
      "metadata": {},
      "source": [
        "## 🔍 Insights\n",
        "- *2013–2014:* Oil prices were relatively high, fluctuating between *$90–$110*, peaking in mid-2014.  \n",
        "- *Late 2014:* A sharp *decline began*, dropping from above $100 to nearly $50 by the end of the year.  \n",
        "- *2015:* Continued volatility, prices ranged from *$40–$60*, with some minor recovery attempts mid-year.  \n",
        "- *2016:* Prices reached their *lowest point (~$30 in early 2016), then slowly recovered toward *$50**.  \n",
        "- *2017:* Stabilization phase, prices hovered between *$45–$55*, showing less volatility than previous years.  \n",
        "\n",
        "## ✅ Conclusion\n",
        "The chart clearly shows that the oil market underwent a *major crisis starting in late 2014*, with prices collapsing from historical highs to record lows in early 2016.  \n",
        "By 2017, prices had *stabilized at moderate levels*, signaling the end of extreme volatility but not a full return to pre-2014 highs.  \n",
        "This reflects the impact of global supply-demand shifts, geopolitical factors, and production adjustments.\n",
        "\n",
        "---\n",
        "\n",
        "---"
      ]
    },
    {
      "cell_type": "markdown",
      "id": "4e0d3ca9",
      "metadata": {},
      "source": [
        "# Check Outliers"
      ]
    },
    {
      "cell_type": "code",
      "execution_count": 53,
      "id": "86b38b93",
      "metadata": {},
      "outputs": [
        {
          "name": "stdout",
          "output_type": "stream",
          "text": [
            "1: id - 0\n",
            "2: store_nbr - 0\n",
            "3: sales - 447105\n",
            "4: onpromotion - 611329\n",
            "5: cluster - 0\n",
            "6: dcoilwtico - 0\n"
          ]
        }
      ],
      "source": [
        "num_cols=train.select_dtypes(include=[\"int64\",\"float64\"])\n",
        "for i,col in enumerate(num_cols):\n",
        "    Q1=train[col].quantile(0.25)\n",
        "    Q3=train[col].quantile(0.75)\n",
        "    IQR=Q3-Q1\n",
        "    lower_bound=Q1-1.5*IQR\n",
        "    upper_bound=Q3+1.5*IQR\n",
        "    outliers=train[col][(train[col]<lower_bound) | (train[col]>upper_bound)]\n",
        "    print(f\"{i+1}: {col} - {len(outliers)}\")"
      ]
    },
    {
      "cell_type": "markdown",
      "id": "a522a844",
      "metadata": {},
      "source": [
        "## Handling onpromotion outliers"
      ]
    },
    {
      "cell_type": "code",
      "execution_count": 54,
      "id": "655761c8",
      "metadata": {},
      "outputs": [
        {
          "data": {
            "text/plain": [
              "<Axes: title={'center': 'onpromotion before log'}, xlabel='onpromotion', ylabel='Count'>"
            ]
          },
          "execution_count": 54,
          "metadata": {},
          "output_type": "execute_result"
        },
        {
          "data": {
            "image/png": "[encoded data removed]",
            "text/plain": [
              "<Figure size 640x480 with 1 Axes>"
            ]
          },
          "metadata": {},
          "output_type": "display_data"
        }
      ],
      "source": [
        "plt.subplot(1,2,2)\n",
        "plt.title(\"onpromotion before log\")\n",
        "sns.histplot(train[\"onpromotion\"], bins=50, kde=True)"
      ]
    },
    {
      "cell_type": "code",
      "execution_count": 55,
      "id": "abf28413",
      "metadata": {},
      "outputs": [
        {
          "data": {
            "text/plain": [
              "<Axes: title={'center': 'onpromotion before log'}, ylabel='onpromotion'>"
            ]
          },
          "execution_count": 55,
          "metadata": {},
          "output_type": "execute_result"
        },
        {
          "data": {
            "image/png": "[encoded data removed]",
            "text/plain": [
              "<Figure size 640x480 with 1 Axes>"
            ]
          },
          "metadata": {},
          "output_type": "display_data"
        }
      ],
      "source": [
        "plt.title(\"onpromotion before log\")\n",
        "sns.boxplot(train[\"onpromotion\"])"
      ]
    },
    {
      "cell_type": "code",
      "execution_count": 56,
      "id": "6ad5bc15",
      "metadata": {},
      "outputs": [],
      "source": [
        "train[\"onpromotion\"]=np.log1p(train[\"onpromotion\"])"
      ]
    },
    {
      "cell_type": "code",
      "execution_count": 57,
      "id": "c92f9743",
      "metadata": {},
      "outputs": [
        {
          "data": {
            "text/plain": [
              "<Axes: title={'center': 'onpromotion After log'}, xlabel='onpromotion', ylabel='Count'>"
            ]
          },
          "execution_count": 57,
          "metadata": {},
          "output_type": "execute_result"
        },
        {
          "data": {
            "image/png": "[encoded data removed]",
            "text/plain": [
              "<Figure size 640x480 with 1 Axes>"
            ]
          },
          "metadata": {},
          "output_type": "display_data"
        }
      ],
      "source": [
        "plt.subplot(1,2,2)\n",
        "plt.title(\"onpromotion After log\")\n",
        "sns.histplot(train[\"onpromotion\"], bins=50, kde=True)"
      ]
    },
    {
      "cell_type": "code",
      "execution_count": 58,
      "id": "0ef2a04a",
      "metadata": {},
      "outputs": [
        {
          "data": {
            "text/plain": [
              "{'whiskers': [<matplotlib.lines.Line2D at 0x1ea26799310>,\n",
              "  <matplotlib.lines.Line2D at 0x1ea26799450>],\n",
              " 'caps': [<matplotlib.lines.Line2D at 0x1ea26799590>,\n",
              "  <matplotlib.lines.Line2D at 0x1ea267996d0>],\n",
              " 'boxes': [<matplotlib.lines.Line2D at 0x1ea258e6990>],\n",
              " 'medians': [<matplotlib.lines.Line2D at 0x1ea26799810>],\n",
              " 'fliers': [<matplotlib.lines.Line2D at 0x1ea26799950>],\n",
              " 'means': []}"
            ]
          },
          "execution_count": 58,
          "metadata": {},
          "output_type": "execute_result"
        },
        {
          "data": {
            "image/png": "[encoded data removed]",
            "text/plain": [
              "<Figure size 640x480 with 1 Axes>"
            ]
          },
          "metadata": {},
          "output_type": "display_data"
        }
      ],
      "source": [
        "plt.title(\"onpromotion After log\")\n",
        "plt.boxplot(train[\"onpromotion\"])"
      ]
    },
    {
      "cell_type": "markdown",
      "id": "18dc66ea",
      "metadata": {
        "id": "18dc66ea"
      },
      "source": [
        "## Encoding"
      ]
    },
    {
      "cell_type": "markdown",
      "id": "2b8e5c4a",
      "metadata": {
        "id": "2b8e5c4a"
      },
      "source": [
        "## Create df for encoding"
      ]
    },
    {
      "cell_type": "code",
      "execution_count": 59,
      "id": "7d67b0b9",
      "metadata": {
        "id": "7d67b0b9"
      },
      "outputs": [],
      "source": [
        "df_encoding=train.copy()"
      ]
    },
    {
      "cell_type": "code",
      "execution_count": 60,
      "id": "a9f24f2e",
      "metadata": {},
      "outputs": [],
      "source": [
        "df_encoding.set_index(\"date\",inplace=True)"
      ]
    },
    {
      "cell_type": "markdown",
      "id": "83f85414",
      "metadata": {
        "id": "83f85414"
      },
      "source": [
        "## Add Column Work_day for Binary encoding"
      ]
    },
    {
      "cell_type": "code",
      "execution_count": 61,
      "id": "25060a44",
      "metadata": {
        "id": "25060a44"
      },
      "outputs": [],
      "source": [
        "df_encoding[\"Work_day\"] = [1 if x == \"Work Day\" else 0 for x in df_encoding[\"day_type\"]]"
      ]
    },
    {
      "cell_type": "markdown",
      "id": "abb92946",
      "metadata": {
        "id": "abb92946"
      },
      "source": [
        "### Encoding for Categorial Columns with One-Hot-Encoding"
      ]
    },
    {
      "cell_type": "code",
      "execution_count": 62,
      "id": "4ac570c3",
      "metadata": {
        "id": "4ac570c3"
      },
      "outputs": [],
      "source": [
        "n=[\"onpromotion\",\"dcoilwtico\"]\n",
        "c=[\"Week_day\",\"family\",\"city\",\"state\",\"day_type\"]\n",
        "df_encoding=pd.get_dummies(data=df_encoding,columns=c,drop_first=True)"
      ]
    },
    {
      "cell_type": "markdown",
      "id": "b1ff466e",
      "metadata": {
        "id": "b1ff466e"
      },
      "source": [
        "## Encoding store_type Column"
      ]
    },
    {
      "cell_type": "code",
      "execution_count": 63,
      "id": "1c2783ae",
      "metadata": {
        "id": "1c2783ae"
      },
      "outputs": [],
      "source": [
        "lb=LabelEncoder()\n",
        "df_encoding[\"store_type_encoded\"]=lb.fit_transform(df_encoding[\"store_type\"])\n",
        "df_encoding[\"Weekend\"]=lb.fit_transform(df_encoding[\"Weekend\"])"
      ]
    },
    {
      "cell_type": "code",
      "execution_count": 64,
      "id": "014f9636",
      "metadata": {
        "id": "014f9636"
      },
      "outputs": [],
      "source": [
        "df_encoding.drop([\"store_type\",\"day_type_Work Day\",\"Day\",\"Year\",\"Month\"],axis=1,inplace=True)"
      ]
    },
    {
      "cell_type": "markdown",
      "id": "10b51d11",
      "metadata": {
        "id": "10b51d11"
      },
      "source": [
        "# Scaling For Quantative Data"
      ]
    },
    {
      "cell_type": "code",
      "execution_count": 65,
      "id": "f1672bb3",
      "metadata": {
        "id": "f1672bb3"
      },
      "outputs": [],
      "source": [
        "sc=StandardScaler()\n",
        "df_encoding[n]=sc.fit_transform(df_encoding[n])"
      ]
    },
    {
      "cell_type": "code",
      "execution_count": 66,
      "id": "59dbdec0",
      "metadata": {
        "colab": {
          "base_uri": "https://localhost:8080/",
          "height": 534
        },
        "id": "59dbdec0",
        "outputId": "29e7f546-81b3-43ac-dc16-1e5d32885d18"
      },
      "outputs": [
        {
          "data": {
            "text/plain": [
              "<Axes: >"
            ]
          },
          "execution_count": 66,
          "metadata": {},
          "output_type": "execute_result"
        },
        {
          "data": {
            "image/png": "[encoded data removed]",
            "text/plain": [
              "<Figure size 640x480 with 2 Axes>"
            ]
          },
          "metadata": {},
          "output_type": "display_data"
        }
      ],
      "source": [
        "sns.heatmap(df_encoding.corr(),cmap=\"coolwarm\")"
      ]
    },
    {
      "cell_type": "markdown",
      "id": "7750222f",
      "metadata": {},
      "source": [
        "## Encoding Test"
      ]
    },
    {
      "cell_type": "markdown",
      "id": "584e6ca9",
      "metadata": {},
      "source": [
        "## Create df for encoding"
      ]
    },
    {
      "cell_type": "code",
      "execution_count": 67,
      "id": "66e0e549",
      "metadata": {},
      "outputs": [],
      "source": [
        "test_encoding=test.copy()"
      ]
    },
    {
      "cell_type": "code",
      "execution_count": 68,
      "id": "a013d9a5",
      "metadata": {},
      "outputs": [],
      "source": [
        "test_encoding.set_index(\"date\",inplace=True)"
      ]
    },
    {
      "cell_type": "markdown",
      "id": "63184c2a",
      "metadata": {},
      "source": [
        "## Add Column Work_day for Binary encoding"
      ]
    },
    {
      "cell_type": "code",
      "execution_count": 69,
      "id": "5e2b8617",
      "metadata": {},
      "outputs": [],
      "source": [
        "test_encoding[\"Work_day\"] = [1 if x == \"Work Day\" else 0 for x in test_encoding[\"day_type\"]]"
      ]
    },
    {
      "cell_type": "markdown",
      "id": "d5148184",
      "metadata": {},
      "source": [
        "### Encoding for Categorial Columns with One-Hot-Encoding"
      ]
    },
    {
      "cell_type": "code",
      "execution_count": 70,
      "id": "02d4d4af",
      "metadata": {},
      "outputs": [],
      "source": [
        "n=[\"onpromotion\",\"dcoilwtico\"]\n",
        "c=[\"Week_day\",\"family\",\"city\",\"state\",\"day_type\"]\n",
        "test_encoding=pd.get_dummies(data=test_encoding,columns=c,drop_first=True)"
      ]
    },
    {
      "cell_type": "markdown",
      "id": "003f025f",
      "metadata": {},
      "source": [
        "## Encoding store_type Column"
      ]
    },
    {
      "cell_type": "code",
      "execution_count": 71,
      "id": "162b92ef",
      "metadata": {},
      "outputs": [],
      "source": [
        "lb=LabelEncoder()\n",
        "test_encoding[\"store_type_encoded\"]=lb.fit_transform(test_encoding[\"store_type\"])\n",
        "test_encoding[\"Weekend\"]=lb.fit_transform(test_encoding[\"Weekend\"])"
      ]
    },
    {
      "cell_type": "code",
      "execution_count": 72,
      "id": "b1c970cd",
      "metadata": {},
      "outputs": [],
      "source": [
        "test_encoding.drop([\"store_type\",\"day_type_Work Day\",\"Day\",\"Year\",\"Month\"],axis=1,inplace=True)"
      ]
    },
    {
      "cell_type": "code",
      "execution_count": 73,
      "id": "5f573c48",
      "metadata": {},
      "outputs": [
        {
          "data": {
            "text/plain": [
              "<Axes: >"
            ]
          },
          "execution_count": 73,
          "metadata": {},
          "output_type": "execute_result"
        },
        {
          "data": {
            "image/png": "[encoded data removed]",
            "text/plain": [
              "<Figure size 640x480 with 2 Axes>"
            ]
          },
          "metadata": {},
          "output_type": "display_data"
        }
      ],
      "source": [
        "sns.heatmap(test_encoding.corr(),cmap=\"coolwarm\")"
      ]
    },
    {
      "cell_type": "markdown",
      "id": "d2961934",
      "metadata": {},
      "source": [
        "### Add missing columns in `test` compared to `train`"
      ]
    },
    {
      "cell_type": "code",
      "execution_count": 74,
      "id": "4fbfd85d",
      "metadata": {},
      "outputs": [],
      "source": [
        "for i in df_encoding.columns:\n",
        "    if i not in test_encoding.columns and i!=\"sales\":\n",
        "        test_encoding[i]=0\n",
        "test_encoding = test_encoding.reindex(columns=df_encoding.columns.drop(\"sales\"), fill_value=0)"
      ]
    },
    {
      "cell_type": "markdown",
      "id": "f936b243",
      "metadata": {},
      "source": [
        "### Check len Columns"
      ]
    },
    {
      "cell_type": "code",
      "execution_count": 75,
      "id": "82f79650",
      "metadata": {},
      "outputs": [
        {
          "name": "stdout",
          "output_type": "stream",
          "text": [
            "87\n",
            "86\n"
          ]
        }
      ],
      "source": [
        "print(len(df_encoding.columns))\n",
        "print(len(test_encoding.columns))"
      ]
    },
    {
      "cell_type": "markdown",
      "id": "d2eb9d1f",
      "metadata": {},
      "source": [
        "## Import DataFrames into Csv Files"
      ]
    },
    {
      "cell_type": "code",
      "execution_count": null,
      "id": "99989918",
      "metadata": {},
      "outputs": [],
      "source": [
        "# train.to_csv(\"train_cleaned.csv\",index=False)\n",
        "# df_encoding.to_csv(\"train_encoded.csv\",index=False)\n",
        "# test_encoding.to_csv(\"test_encoded.csv\",index=False)"
      ]
    }
  ],
  "metadata": {
    "accelerator": "GPU",
    "colab": {
      "gpuType": "T4",
      "provenance": []
    },
    "kernelspec": {
      "display_name": "anac",
      "language": "python",
      "name": "python3"
    },
    "language_info": {
      "codemirror_mode": {
        "name": "ipython",
        "version": 3
      },
      "file_extension": ".py",
      "mimetype": "text/x-python",
      "name": "python",
      "nbconvert_exporter": "python",
      "pygments_lexer": "ipython3",
      "version": "3.13.7"
    }
  },
  "nbformat": 4,
  "nbformat_minor": 5
}
