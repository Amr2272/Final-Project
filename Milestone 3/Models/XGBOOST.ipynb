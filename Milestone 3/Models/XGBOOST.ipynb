{
 "cells": [
  {
   "cell_type": "markdown",
   "id": "704b3fe8-67c5-45ad-a624-c2bd014a6caf",
   "metadata": {
    "id": "704b3fe8-67c5-45ad-a624-c2bd014a6caf"
   },
   "source": [
    "# Import libraries"
   ]
  },
  {
   "cell_type": "code",
   "execution_count": 1,
   "id": "24ac5b14-70a2-46cb-ab18-be724dee05ff",
   "metadata": {
    "ExecuteTime": {
     "end_time": "2025-09-21T06:08:24.443689Z",
     "start_time": "2025-09-21T06:08:24.116501Z"
    },
    "id": "24ac5b14-70a2-46cb-ab18-be724dee05ff"
   },
   "outputs": [],
   "source": [
    "import numpy as np\n",
    "import pandas as pd\n",
    "import matplotlib.pyplot as plt\n",
    "import seaborn as sns\n",
    "from sklearn.preprocessing import LabelEncoder,StandardScaler"
   ]
  },
  {
   "cell_type": "code",
   "execution_count": 2,
   "id": "27d5f57c07e31755",
   "metadata": {
    "ExecuteTime": {
     "end_time": "2025-09-21T06:08:24.478131Z",
     "start_time": "2025-09-21T06:08:24.472712Z"
    }
   },
   "outputs": [],
   "source": [
    "import warnings\n",
    "\n",
    "# Suppress all FutureWarnings\n",
    "warnings.simplefilter(action='ignore', category=FutureWarning)"
   ]
  },
  {
   "cell_type": "markdown",
   "id": "7a1f8ccb-b80e-435a-9ed4-495bbbfede92",
   "metadata": {
    "id": "7a1f8ccb-b80e-435a-9ed4-495bbbfede92"
   },
   "source": [
    "# Load the Datasets\n",
    "We load all the required datasets.\n",
    "For columns that represent dates (e.g., date), we use parse_dates=[\"date\"] when reading the files to automatically convert them into datetime64 objects. This makes time-based operations much easier more convenient for time series analysis."
   ]
  },
  {
   "cell_type": "code",
   "execution_count": 3,
   "id": "4a8da38b-7697-4054-b97a-ef3228c77013",
   "metadata": {
    "ExecuteTime": {
     "end_time": "2025-09-21T06:08:26.548581Z",
     "start_time": "2025-09-21T06:08:24.500483Z"
    },
    "id": "4a8da38b-7697-4054-b97a-ef3228c77013"
   },
   "outputs": [],
   "source": [
    "train = pd.read_csv(\"train.csv\", parse_dates=[\"date\"])\n",
    "test = pd.read_csv(\"test.csv\", parse_dates=[\"date\"])\n",
    "stores = pd.read_csv(\"stores.csv\")\n",
    "transactions = pd.read_csv(\"transactions.csv\", parse_dates=[\"date\"])\n",
    "holidays = pd.read_csv(\"holidays_events.csv\", parse_dates=[\"date\"])\n",
    "oil = pd.read_csv(\"oil.csv\", parse_dates=[\"date\"])"
   ]
  },
  {
   "cell_type": "code",
   "execution_count": 4,
   "id": "93fffee6-6f7f-4d2f-b6f9-c9aeb6b5e5db",
   "metadata": {
    "ExecuteTime": {
     "end_time": "2025-09-21T06:08:26.728045Z",
     "start_time": "2025-09-21T06:08:26.718685Z"
    },
    "colab": {
     "base_uri": "https://localhost:8080/"
    },
    "id": "93fffee6-6f7f-4d2f-b6f9-c9aeb6b5e5db",
    "outputId": "c528fbe3-289e-4c18-b68d-e2344bec8ca5"
   },
   "outputs": [
    {
     "data": {
      "text/plain": [
       "Index(['id', 'date', 'store_nbr', 'family', 'sales', 'onpromotion'], dtype='object')"
      ]
     },
     "execution_count": 4,
     "metadata": {},
     "output_type": "execute_result"
    }
   ],
   "source": [
    "train.columns"
   ]
  },
  {
   "cell_type": "code",
   "execution_count": 5,
   "id": "bcdb58d5-4a61-4afb-af82-1c79573280d4",
   "metadata": {
    "ExecuteTime": {
     "end_time": "2025-09-21T06:08:27.070092Z",
     "start_time": "2025-09-21T06:08:27.060692Z"
    },
    "colab": {
     "base_uri": "https://localhost:8080/"
    },
    "id": "bcdb58d5-4a61-4afb-af82-1c79573280d4",
    "outputId": "b6311854-09ed-430c-b75f-5f8d361d26d1"
   },
   "outputs": [
    {
     "data": {
      "text/plain": [
       "Index(['id', 'date', 'store_nbr', 'family', 'onpromotion'], dtype='object')"
      ]
     },
     "execution_count": 5,
     "metadata": {},
     "output_type": "execute_result"
    }
   ],
   "source": [
    "test.columns"
   ]
  },
  {
   "cell_type": "code",
   "execution_count": 6,
   "id": "f826b69a-6bab-48aa-a6b7-0cc15d697166",
   "metadata": {
    "ExecuteTime": {
     "end_time": "2025-09-21T06:08:27.260284Z",
     "start_time": "2025-09-21T06:08:27.252859Z"
    },
    "colab": {
     "base_uri": "https://localhost:8080/"
    },
    "id": "f826b69a-6bab-48aa-a6b7-0cc15d697166",
    "outputId": "e42f806f-3588-42a2-d58f-4f6c0556382c"
   },
   "outputs": [
    {
     "data": {
      "text/plain": [
       "Index(['store_nbr', 'city', 'state', 'type', 'cluster'], dtype='object')"
      ]
     },
     "execution_count": 6,
     "metadata": {},
     "output_type": "execute_result"
    }
   ],
   "source": [
    "stores.columns"
   ]
  },
  {
   "cell_type": "code",
   "execution_count": 7,
   "id": "6355d567-612c-4186-9c8f-d3ca410fa57d",
   "metadata": {
    "ExecuteTime": {
     "end_time": "2025-09-21T06:08:27.523470Z",
     "start_time": "2025-09-21T06:08:27.517255Z"
    },
    "colab": {
     "base_uri": "https://localhost:8080/"
    },
    "id": "6355d567-612c-4186-9c8f-d3ca410fa57d",
    "outputId": "160eaf03-bce8-43fb-8587-68983c683e69"
   },
   "outputs": [
    {
     "data": {
      "text/plain": [
       "Index(['date', 'store_nbr', 'transactions'], dtype='object')"
      ]
     },
     "execution_count": 7,
     "metadata": {},
     "output_type": "execute_result"
    }
   ],
   "source": [
    "transactions.columns"
   ]
  },
  {
   "cell_type": "code",
   "execution_count": 8,
   "id": "18589c75-fd4e-4ea8-9458-e1f7df2b48bc",
   "metadata": {
    "ExecuteTime": {
     "end_time": "2025-09-21T06:08:27.791121Z",
     "start_time": "2025-09-21T06:08:27.784547Z"
    },
    "colab": {
     "base_uri": "https://localhost:8080/"
    },
    "id": "18589c75-fd4e-4ea8-9458-e1f7df2b48bc",
    "outputId": "a02a8dbe-7a9b-4225-e3d5-9817fe9e25c5"
   },
   "outputs": [
    {
     "data": {
      "text/plain": [
       "Index(['date', 'type', 'locale', 'locale_name', 'description', 'transferred'], dtype='object')"
      ]
     },
     "execution_count": 8,
     "metadata": {},
     "output_type": "execute_result"
    }
   ],
   "source": [
    "holidays.columns"
   ]
  },
  {
   "cell_type": "code",
   "execution_count": 9,
   "id": "fad42f32-660d-446b-8da3-4b7f02f1d14c",
   "metadata": {
    "ExecuteTime": {
     "end_time": "2025-09-21T06:08:28.005003Z",
     "start_time": "2025-09-21T06:08:27.987079Z"
    },
    "colab": {
     "base_uri": "https://localhost:8080/"
    },
    "id": "fad42f32-660d-446b-8da3-4b7f02f1d14c",
    "outputId": "05f6c102-081c-4443-f6fc-c451f6e63bcc"
   },
   "outputs": [
    {
     "data": {
      "text/plain": [
       "Index(['date', 'dcoilwtico'], dtype='object')"
      ]
     },
     "execution_count": 9,
     "metadata": {},
     "output_type": "execute_result"
    }
   ],
   "source": [
    "oil.columns"
   ]
  },
  {
   "cell_type": "markdown",
   "id": "9199cdfb-b02c-4fab-a485-ce56e7398936",
   "metadata": {
    "id": "9199cdfb-b02c-4fab-a485-ce56e7398936"
   },
   "source": [
    "# Merge Auxiliary Data into Train\n",
    "\n",
    "- **stores.csv** → Adds store information (city, state, type, cluster).\n",
    "\n",
    "- **transactions.csv** → Adds daily transactions per store.\n",
    "\n",
    "- **oil.csv** → Adds oil prices (missing values forward-filled).\n",
    "\n",
    "- **holidays_events.csv** → Adds holiday/event type for each date."
   ]
  },
  {
   "cell_type": "code",
   "execution_count": 10,
   "id": "6235b6a3-eae6-4987-958b-f39f3ef6fcbd",
   "metadata": {
    "ExecuteTime": {
     "end_time": "2025-09-21T06:08:30.887999Z",
     "start_time": "2025-09-21T06:08:28.344981Z"
    },
    "colab": {
     "base_uri": "https://localhost:8080/",
     "height": 348
    },
    "id": "6235b6a3-eae6-4987-958b-f39f3ef6fcbd",
    "outputId": "7fd4f8e5-7e17-416b-b080-6ce7b05efd34"
   },
   "outputs": [
    {
     "data": {
      "application/vnd.microsoft.datawrangler.viewer.v0+json": {
       "columns": [
        {
         "name": "index",
         "rawType": "int64",
         "type": "integer"
        },
        {
         "name": "id",
         "rawType": "int64",
         "type": "integer"
        },
        {
         "name": "date",
         "rawType": "datetime64[ns]",
         "type": "datetime"
        },
        {
         "name": "store_nbr",
         "rawType": "int64",
         "type": "integer"
        },
        {
         "name": "family",
         "rawType": "object",
         "type": "string"
        },
        {
         "name": "sales",
         "rawType": "float64",
         "type": "float"
        },
        {
         "name": "onpromotion",
         "rawType": "int64",
         "type": "integer"
        },
        {
         "name": "city",
         "rawType": "object",
         "type": "string"
        },
        {
         "name": "state",
         "rawType": "object",
         "type": "string"
        },
        {
         "name": "type_x",
         "rawType": "object",
         "type": "string"
        },
        {
         "name": "cluster",
         "rawType": "int64",
         "type": "integer"
        },
        {
         "name": "transactions",
         "rawType": "float64",
         "type": "float"
        },
        {
         "name": "dcoilwtico",
         "rawType": "float64",
         "type": "float"
        },
        {
         "name": "type_y",
         "rawType": "object",
         "type": "string"
        }
       ],
       "ref": "53d25088-95c2-437f-917b-b2b760f56959",
       "rows": [
        [
         "0",
         "0",
         "2013-01-01 00:00:00",
         "1",
         "AUTOMOTIVE",
         "0.0",
         "0",
         "Quito",
         "Pichincha",
         "D",
         "13",
         null,
         null,
         "Holiday"
        ],
        [
         "1",
         "1",
         "2013-01-01 00:00:00",
         "1",
         "BABY CARE",
         "0.0",
         "0",
         "Quito",
         "Pichincha",
         "D",
         "13",
         null,
         null,
         "Holiday"
        ],
        [
         "2",
         "2",
         "2013-01-01 00:00:00",
         "1",
         "BEAUTY",
         "0.0",
         "0",
         "Quito",
         "Pichincha",
         "D",
         "13",
         null,
         null,
         "Holiday"
        ],
        [
         "3",
         "3",
         "2013-01-01 00:00:00",
         "1",
         "BEVERAGES",
         "0.0",
         "0",
         "Quito",
         "Pichincha",
         "D",
         "13",
         null,
         null,
         "Holiday"
        ],
        [
         "4",
         "4",
         "2013-01-01 00:00:00",
         "1",
         "BOOKS",
         "0.0",
         "0",
         "Quito",
         "Pichincha",
         "D",
         "13",
         null,
         null,
         "Holiday"
        ]
       ],
       "shape": {
        "columns": 13,
        "rows": 5
       }
      },
      "text/html": [
       "<div>\n",
       "<style scoped>\n",
       "    .dataframe tbody tr th:only-of-type {\n",
       "        vertical-align: middle;\n",
       "    }\n",
       "\n",
       "    .dataframe tbody tr th {\n",
       "        vertical-align: top;\n",
       "    }\n",
       "\n",
       "    .dataframe thead th {\n",
       "        text-align: right;\n",
       "    }\n",
       "</style>\n",
       "<table border=\"1\" class=\"dataframe\">\n",
       "  <thead>\n",
       "    <tr style=\"text-align: right;\">\n",
       "      <th></th>\n",
       "      <th>id</th>\n",
       "      <th>date</th>\n",
       "      <th>store_nbr</th>\n",
       "      <th>family</th>\n",
       "      <th>sales</th>\n",
       "      <th>onpromotion</th>\n",
       "      <th>city</th>\n",
       "      <th>state</th>\n",
       "      <th>type_x</th>\n",
       "      <th>cluster</th>\n",
       "      <th>transactions</th>\n",
       "      <th>dcoilwtico</th>\n",
       "      <th>type_y</th>\n",
       "    </tr>\n",
       "  </thead>\n",
       "  <tbody>\n",
       "    <tr>\n",
       "      <th>0</th>\n",
       "      <td>0</td>\n",
       "      <td>2013-01-01</td>\n",
       "      <td>1</td>\n",
       "      <td>AUTOMOTIVE</td>\n",
       "      <td>0.0</td>\n",
       "      <td>0</td>\n",
       "      <td>Quito</td>\n",
       "      <td>Pichincha</td>\n",
       "      <td>D</td>\n",
       "      <td>13</td>\n",
       "      <td>NaN</td>\n",
       "      <td>NaN</td>\n",
       "      <td>Holiday</td>\n",
       "    </tr>\n",
       "    <tr>\n",
       "      <th>1</th>\n",
       "      <td>1</td>\n",
       "      <td>2013-01-01</td>\n",
       "      <td>1</td>\n",
       "      <td>BABY CARE</td>\n",
       "      <td>0.0</td>\n",
       "      <td>0</td>\n",
       "      <td>Quito</td>\n",
       "      <td>Pichincha</td>\n",
       "      <td>D</td>\n",
       "      <td>13</td>\n",
       "      <td>NaN</td>\n",
       "      <td>NaN</td>\n",
       "      <td>Holiday</td>\n",
       "    </tr>\n",
       "    <tr>\n",
       "      <th>2</th>\n",
       "      <td>2</td>\n",
       "      <td>2013-01-01</td>\n",
       "      <td>1</td>\n",
       "      <td>BEAUTY</td>\n",
       "      <td>0.0</td>\n",
       "      <td>0</td>\n",
       "      <td>Quito</td>\n",
       "      <td>Pichincha</td>\n",
       "      <td>D</td>\n",
       "      <td>13</td>\n",
       "      <td>NaN</td>\n",
       "      <td>NaN</td>\n",
       "      <td>Holiday</td>\n",
       "    </tr>\n",
       "    <tr>\n",
       "      <th>3</th>\n",
       "      <td>3</td>\n",
       "      <td>2013-01-01</td>\n",
       "      <td>1</td>\n",
       "      <td>BEVERAGES</td>\n",
       "      <td>0.0</td>\n",
       "      <td>0</td>\n",
       "      <td>Quito</td>\n",
       "      <td>Pichincha</td>\n",
       "      <td>D</td>\n",
       "      <td>13</td>\n",
       "      <td>NaN</td>\n",
       "      <td>NaN</td>\n",
       "      <td>Holiday</td>\n",
       "    </tr>\n",
       "    <tr>\n",
       "      <th>4</th>\n",
       "      <td>4</td>\n",
       "      <td>2013-01-01</td>\n",
       "      <td>1</td>\n",
       "      <td>BOOKS</td>\n",
       "      <td>0.0</td>\n",
       "      <td>0</td>\n",
       "      <td>Quito</td>\n",
       "      <td>Pichincha</td>\n",
       "      <td>D</td>\n",
       "      <td>13</td>\n",
       "      <td>NaN</td>\n",
       "      <td>NaN</td>\n",
       "      <td>Holiday</td>\n",
       "    </tr>\n",
       "  </tbody>\n",
       "</table>\n",
       "</div>"
      ],
      "text/plain": [
       "   id       date  store_nbr      family  sales  onpromotion   city      state  \\\n",
       "0   0 2013-01-01          1  AUTOMOTIVE    0.0            0  Quito  Pichincha   \n",
       "1   1 2013-01-01          1   BABY CARE    0.0            0  Quito  Pichincha   \n",
       "2   2 2013-01-01          1      BEAUTY    0.0            0  Quito  Pichincha   \n",
       "3   3 2013-01-01          1   BEVERAGES    0.0            0  Quito  Pichincha   \n",
       "4   4 2013-01-01          1       BOOKS    0.0            0  Quito  Pichincha   \n",
       "\n",
       "  type_x  cluster  transactions  dcoilwtico   type_y  \n",
       "0      D       13           NaN         NaN  Holiday  \n",
       "1      D       13           NaN         NaN  Holiday  \n",
       "2      D       13           NaN         NaN  Holiday  \n",
       "3      D       13           NaN         NaN  Holiday  \n",
       "4      D       13           NaN         NaN  Holiday  "
      ]
     },
     "execution_count": 10,
     "metadata": {},
     "output_type": "execute_result"
    }
   ],
   "source": [
    "train = train.merge(stores, on=\"store_nbr\", how=\"left\")\n",
    "train = train.merge(transactions, on=[\"date\", \"store_nbr\"], how=\"left\")\n",
    "oil[\"dcoilwtico\"] = oil[\"dcoilwtico\"].fillna(method=\"ffill\")\n",
    "train = train.merge(oil, on=\"date\", how=\"left\")\n",
    "train = train.merge(holidays[[\"date\",\"type\"]], on=\"date\", how=\"left\")\n",
    "train.head()"
   ]
  },
  {
   "cell_type": "code",
   "execution_count": 11,
   "id": "2ad5f4d3",
   "metadata": {
    "ExecuteTime": {
     "end_time": "2025-09-21T06:08:32.485588Z",
     "start_time": "2025-09-21T06:08:32.446822Z"
    },
    "colab": {
     "base_uri": "https://localhost:8080/",
     "height": 313
    },
    "id": "2ad5f4d3",
    "outputId": "790a7095-b168-4c19-a6cd-ff48bbefa529"
   },
   "outputs": [
    {
     "data": {
      "application/vnd.microsoft.datawrangler.viewer.v0+json": {
       "columns": [
        {
         "name": "index",
         "rawType": "int64",
         "type": "integer"
        },
        {
         "name": "id",
         "rawType": "int64",
         "type": "integer"
        },
        {
         "name": "date",
         "rawType": "datetime64[ns]",
         "type": "datetime"
        },
        {
         "name": "store_nbr",
         "rawType": "int64",
         "type": "integer"
        },
        {
         "name": "family",
         "rawType": "object",
         "type": "string"
        },
        {
         "name": "sales",
         "rawType": "float64",
         "type": "float"
        },
        {
         "name": "onpromotion",
         "rawType": "int64",
         "type": "integer"
        },
        {
         "name": "city",
         "rawType": "object",
         "type": "string"
        },
        {
         "name": "state",
         "rawType": "object",
         "type": "string"
        },
        {
         "name": "type_x",
         "rawType": "object",
         "type": "string"
        },
        {
         "name": "cluster",
         "rawType": "int64",
         "type": "integer"
        },
        {
         "name": "transactions",
         "rawType": "float64",
         "type": "float"
        },
        {
         "name": "dcoilwtico",
         "rawType": "float64",
         "type": "float"
        },
        {
         "name": "type_y",
         "rawType": "object",
         "type": "string"
        }
       ],
       "ref": "055fd606-5872-409f-a6f7-22314efb708d",
       "rows": [
        [
         "0",
         "0",
         "2013-01-01 00:00:00",
         "1",
         "AUTOMOTIVE",
         "0.0",
         "0",
         "Quito",
         "Pichincha",
         "D",
         "13",
         null,
         null,
         "Holiday"
        ],
        [
         "1",
         "1",
         "2013-01-01 00:00:00",
         "1",
         "BABY CARE",
         "0.0",
         "0",
         "Quito",
         "Pichincha",
         "D",
         "13",
         null,
         null,
         "Holiday"
        ],
        [
         "2",
         "2",
         "2013-01-01 00:00:00",
         "1",
         "BEAUTY",
         "0.0",
         "0",
         "Quito",
         "Pichincha",
         "D",
         "13",
         null,
         null,
         "Holiday"
        ],
        [
         "3",
         "3",
         "2013-01-01 00:00:00",
         "1",
         "BEVERAGES",
         "0.0",
         "0",
         "Quito",
         "Pichincha",
         "D",
         "13",
         null,
         null,
         "Holiday"
        ],
        [
         "4",
         "4",
         "2013-01-01 00:00:00",
         "1",
         "BOOKS",
         "0.0",
         "0",
         "Quito",
         "Pichincha",
         "D",
         "13",
         null,
         null,
         "Holiday"
        ]
       ],
       "shape": {
        "columns": 13,
        "rows": 5
       }
      },
      "text/html": [
       "<div>\n",
       "<style scoped>\n",
       "    .dataframe tbody tr th:only-of-type {\n",
       "        vertical-align: middle;\n",
       "    }\n",
       "\n",
       "    .dataframe tbody tr th {\n",
       "        vertical-align: top;\n",
       "    }\n",
       "\n",
       "    .dataframe thead th {\n",
       "        text-align: right;\n",
       "    }\n",
       "</style>\n",
       "<table border=\"1\" class=\"dataframe\">\n",
       "  <thead>\n",
       "    <tr style=\"text-align: right;\">\n",
       "      <th></th>\n",
       "      <th>id</th>\n",
       "      <th>date</th>\n",
       "      <th>store_nbr</th>\n",
       "      <th>family</th>\n",
       "      <th>sales</th>\n",
       "      <th>onpromotion</th>\n",
       "      <th>city</th>\n",
       "      <th>state</th>\n",
       "      <th>type_x</th>\n",
       "      <th>cluster</th>\n",
       "      <th>transactions</th>\n",
       "      <th>dcoilwtico</th>\n",
       "      <th>type_y</th>\n",
       "    </tr>\n",
       "  </thead>\n",
       "  <tbody>\n",
       "    <tr>\n",
       "      <th>0</th>\n",
       "      <td>0</td>\n",
       "      <td>2013-01-01</td>\n",
       "      <td>1</td>\n",
       "      <td>AUTOMOTIVE</td>\n",
       "      <td>0.0</td>\n",
       "      <td>0</td>\n",
       "      <td>Quito</td>\n",
       "      <td>Pichincha</td>\n",
       "      <td>D</td>\n",
       "      <td>13</td>\n",
       "      <td>NaN</td>\n",
       "      <td>NaN</td>\n",
       "      <td>Holiday</td>\n",
       "    </tr>\n",
       "    <tr>\n",
       "      <th>1</th>\n",
       "      <td>1</td>\n",
       "      <td>2013-01-01</td>\n",
       "      <td>1</td>\n",
       "      <td>BABY CARE</td>\n",
       "      <td>0.0</td>\n",
       "      <td>0</td>\n",
       "      <td>Quito</td>\n",
       "      <td>Pichincha</td>\n",
       "      <td>D</td>\n",
       "      <td>13</td>\n",
       "      <td>NaN</td>\n",
       "      <td>NaN</td>\n",
       "      <td>Holiday</td>\n",
       "    </tr>\n",
       "    <tr>\n",
       "      <th>2</th>\n",
       "      <td>2</td>\n",
       "      <td>2013-01-01</td>\n",
       "      <td>1</td>\n",
       "      <td>BEAUTY</td>\n",
       "      <td>0.0</td>\n",
       "      <td>0</td>\n",
       "      <td>Quito</td>\n",
       "      <td>Pichincha</td>\n",
       "      <td>D</td>\n",
       "      <td>13</td>\n",
       "      <td>NaN</td>\n",
       "      <td>NaN</td>\n",
       "      <td>Holiday</td>\n",
       "    </tr>\n",
       "    <tr>\n",
       "      <th>3</th>\n",
       "      <td>3</td>\n",
       "      <td>2013-01-01</td>\n",
       "      <td>1</td>\n",
       "      <td>BEVERAGES</td>\n",
       "      <td>0.0</td>\n",
       "      <td>0</td>\n",
       "      <td>Quito</td>\n",
       "      <td>Pichincha</td>\n",
       "      <td>D</td>\n",
       "      <td>13</td>\n",
       "      <td>NaN</td>\n",
       "      <td>NaN</td>\n",
       "      <td>Holiday</td>\n",
       "    </tr>\n",
       "    <tr>\n",
       "      <th>4</th>\n",
       "      <td>4</td>\n",
       "      <td>2013-01-01</td>\n",
       "      <td>1</td>\n",
       "      <td>BOOKS</td>\n",
       "      <td>0.0</td>\n",
       "      <td>0</td>\n",
       "      <td>Quito</td>\n",
       "      <td>Pichincha</td>\n",
       "      <td>D</td>\n",
       "      <td>13</td>\n",
       "      <td>NaN</td>\n",
       "      <td>NaN</td>\n",
       "      <td>Holiday</td>\n",
       "    </tr>\n",
       "  </tbody>\n",
       "</table>\n",
       "</div>"
      ],
      "text/plain": [
       "   id       date  store_nbr      family  sales  onpromotion   city      state  \\\n",
       "0   0 2013-01-01          1  AUTOMOTIVE    0.0            0  Quito  Pichincha   \n",
       "1   1 2013-01-01          1   BABY CARE    0.0            0  Quito  Pichincha   \n",
       "2   2 2013-01-01          1      BEAUTY    0.0            0  Quito  Pichincha   \n",
       "3   3 2013-01-01          1   BEVERAGES    0.0            0  Quito  Pichincha   \n",
       "4   4 2013-01-01          1       BOOKS    0.0            0  Quito  Pichincha   \n",
       "\n",
       "  type_x  cluster  transactions  dcoilwtico   type_y  \n",
       "0      D       13           NaN         NaN  Holiday  \n",
       "1      D       13           NaN         NaN  Holiday  \n",
       "2      D       13           NaN         NaN  Holiday  \n",
       "3      D       13           NaN         NaN  Holiday  \n",
       "4      D       13           NaN         NaN  Holiday  "
      ]
     },
     "execution_count": 11,
     "metadata": {},
     "output_type": "execute_result"
    }
   ],
   "source": [
    "train.head()"
   ]
  },
  {
   "cell_type": "markdown",
   "id": "77034c55",
   "metadata": {
    "id": "77034c55"
   },
   "source": [
    "### Renaming Columns for Clarity\n",
    "\n",
    "- After merging multiple datasets, some columns inherited generic names like `type_x` and `type_y`.  \n",
    "- To make the dataset more interpretable, we renamed them:\n",
    "\n",
    "    - **type_x** (coming from stores.csv) →  **store_type**\n",
    "\n",
    "        Indicates the type of store (A, B, C, or D).\n",
    "\n",
    "    - **type_y** (coming from holidays_events.csv) → **day_type**\n",
    "\n",
    "        Classifies each date as either a special event (Holiday, Transfer, Additional, Event, etc.) or a regular Work Day (for dates without special events)."
   ]
  },
  {
   "cell_type": "code",
   "execution_count": 12,
   "id": "11ab9547",
   "metadata": {
    "ExecuteTime": {
     "end_time": "2025-09-21T06:08:32.965344Z",
     "start_time": "2025-09-21T06:08:32.680737Z"
    },
    "id": "11ab9547"
   },
   "outputs": [],
   "source": [
    "train = train.rename(columns={\n",
    "    'type_x': 'store_type',\n",
    "    'type_y': 'day_type'\n",
    "})"
   ]
  },
  {
   "cell_type": "markdown",
   "id": "0e2f2b3a",
   "metadata": {
    "id": "0e2f2b3a"
   },
   "source": [
    "## Set_index ID Column"
   ]
  },
  {
   "cell_type": "code",
   "execution_count": 13,
   "id": "0abf56c3",
   "metadata": {
    "ExecuteTime": {
     "end_time": "2025-09-21T06:08:33.230252Z",
     "start_time": "2025-09-21T06:08:33.221460Z"
    },
    "id": "0abf56c3"
   },
   "outputs": [],
   "source": [
    "train.set_index(\"id\", inplace=True)"
   ]
  },
  {
   "cell_type": "markdown",
   "id": "b5963796",
   "metadata": {},
   "source": [
    "# Merge Auxiliary Data into Test\n",
    "\n",
    "- **stores.csv** → Adds store-level information (`city`, `state`, `type`, `cluster`).  \n",
    "\n",
    "- **transactions.csv** → Adds the number of daily transactions for each store (based on `date` + `store_nbr`).  \n",
    "\n",
    "- **oil.csv** → Adds oil price (`dcoilwtico`) for each date.  \n",
    "\n",
    "- **holidays_events.csv** → Adds holiday/event type (`type`) for each date.  \n",
    "\n",
    "**Note**: Unlike the train dataset, the test dataset does not include the `sales` column, because `sales` is the target variable we aim to predict. All other auxiliary data is merged to provide the necessary context for forecasting.  \n"
   ]
  },
  {
   "cell_type": "code",
   "execution_count": 14,
   "id": "c1c55204",
   "metadata": {
    "ExecuteTime": {
     "end_time": "2025-09-21T06:08:33.604448Z",
     "start_time": "2025-09-21T06:08:33.536051Z"
    }
   },
   "outputs": [
    {
     "data": {
      "application/vnd.microsoft.datawrangler.viewer.v0+json": {
       "columns": [
        {
         "name": "index",
         "rawType": "int64",
         "type": "integer"
        },
        {
         "name": "id",
         "rawType": "int64",
         "type": "integer"
        },
        {
         "name": "date",
         "rawType": "datetime64[ns]",
         "type": "datetime"
        },
        {
         "name": "store_nbr",
         "rawType": "int64",
         "type": "integer"
        },
        {
         "name": "family",
         "rawType": "object",
         "type": "string"
        },
        {
         "name": "onpromotion",
         "rawType": "int64",
         "type": "integer"
        },
        {
         "name": "city",
         "rawType": "object",
         "type": "string"
        },
        {
         "name": "state",
         "rawType": "object",
         "type": "string"
        },
        {
         "name": "type_x",
         "rawType": "object",
         "type": "string"
        },
        {
         "name": "cluster",
         "rawType": "int64",
         "type": "integer"
        },
        {
         "name": "transactions",
         "rawType": "float64",
         "type": "float"
        },
        {
         "name": "dcoilwtico",
         "rawType": "float64",
         "type": "float"
        },
        {
         "name": "type_y",
         "rawType": "object",
         "type": "unknown"
        }
       ],
       "ref": "1487c941-3972-4a1c-b93e-0acceaae2f6e",
       "rows": [
        [
         "0",
         "3000888",
         "2017-08-16 00:00:00",
         "1",
         "AUTOMOTIVE",
         "0",
         "Quito",
         "Pichincha",
         "D",
         "13",
         null,
         "46.8",
         null
        ],
        [
         "1",
         "3000889",
         "2017-08-16 00:00:00",
         "1",
         "BABY CARE",
         "0",
         "Quito",
         "Pichincha",
         "D",
         "13",
         null,
         "46.8",
         null
        ],
        [
         "2",
         "3000890",
         "2017-08-16 00:00:00",
         "1",
         "BEAUTY",
         "2",
         "Quito",
         "Pichincha",
         "D",
         "13",
         null,
         "46.8",
         null
        ],
        [
         "3",
         "3000891",
         "2017-08-16 00:00:00",
         "1",
         "BEVERAGES",
         "20",
         "Quito",
         "Pichincha",
         "D",
         "13",
         null,
         "46.8",
         null
        ],
        [
         "4",
         "3000892",
         "2017-08-16 00:00:00",
         "1",
         "BOOKS",
         "0",
         "Quito",
         "Pichincha",
         "D",
         "13",
         null,
         "46.8",
         null
        ]
       ],
       "shape": {
        "columns": 12,
        "rows": 5
       }
      },
      "text/html": [
       "<div>\n",
       "<style scoped>\n",
       "    .dataframe tbody tr th:only-of-type {\n",
       "        vertical-align: middle;\n",
       "    }\n",
       "\n",
       "    .dataframe tbody tr th {\n",
       "        vertical-align: top;\n",
       "    }\n",
       "\n",
       "    .dataframe thead th {\n",
       "        text-align: right;\n",
       "    }\n",
       "</style>\n",
       "<table border=\"1\" class=\"dataframe\">\n",
       "  <thead>\n",
       "    <tr style=\"text-align: right;\">\n",
       "      <th></th>\n",
       "      <th>id</th>\n",
       "      <th>date</th>\n",
       "      <th>store_nbr</th>\n",
       "      <th>family</th>\n",
       "      <th>onpromotion</th>\n",
       "      <th>city</th>\n",
       "      <th>state</th>\n",
       "      <th>type_x</th>\n",
       "      <th>cluster</th>\n",
       "      <th>transactions</th>\n",
       "      <th>dcoilwtico</th>\n",
       "      <th>type_y</th>\n",
       "    </tr>\n",
       "  </thead>\n",
       "  <tbody>\n",
       "    <tr>\n",
       "      <th>0</th>\n",
       "      <td>3000888</td>\n",
       "      <td>2017-08-16</td>\n",
       "      <td>1</td>\n",
       "      <td>AUTOMOTIVE</td>\n",
       "      <td>0</td>\n",
       "      <td>Quito</td>\n",
       "      <td>Pichincha</td>\n",
       "      <td>D</td>\n",
       "      <td>13</td>\n",
       "      <td>NaN</td>\n",
       "      <td>46.8</td>\n",
       "      <td>NaN</td>\n",
       "    </tr>\n",
       "    <tr>\n",
       "      <th>1</th>\n",
       "      <td>3000889</td>\n",
       "      <td>2017-08-16</td>\n",
       "      <td>1</td>\n",
       "      <td>BABY CARE</td>\n",
       "      <td>0</td>\n",
       "      <td>Quito</td>\n",
       "      <td>Pichincha</td>\n",
       "      <td>D</td>\n",
       "      <td>13</td>\n",
       "      <td>NaN</td>\n",
       "      <td>46.8</td>\n",
       "      <td>NaN</td>\n",
       "    </tr>\n",
       "    <tr>\n",
       "      <th>2</th>\n",
       "      <td>3000890</td>\n",
       "      <td>2017-08-16</td>\n",
       "      <td>1</td>\n",
       "      <td>BEAUTY</td>\n",
       "      <td>2</td>\n",
       "      <td>Quito</td>\n",
       "      <td>Pichincha</td>\n",
       "      <td>D</td>\n",
       "      <td>13</td>\n",
       "      <td>NaN</td>\n",
       "      <td>46.8</td>\n",
       "      <td>NaN</td>\n",
       "    </tr>\n",
       "    <tr>\n",
       "      <th>3</th>\n",
       "      <td>3000891</td>\n",
       "      <td>2017-08-16</td>\n",
       "      <td>1</td>\n",
       "      <td>BEVERAGES</td>\n",
       "      <td>20</td>\n",
       "      <td>Quito</td>\n",
       "      <td>Pichincha</td>\n",
       "      <td>D</td>\n",
       "      <td>13</td>\n",
       "      <td>NaN</td>\n",
       "      <td>46.8</td>\n",
       "      <td>NaN</td>\n",
       "    </tr>\n",
       "    <tr>\n",
       "      <th>4</th>\n",
       "      <td>3000892</td>\n",
       "      <td>2017-08-16</td>\n",
       "      <td>1</td>\n",
       "      <td>BOOKS</td>\n",
       "      <td>0</td>\n",
       "      <td>Quito</td>\n",
       "      <td>Pichincha</td>\n",
       "      <td>D</td>\n",
       "      <td>13</td>\n",
       "      <td>NaN</td>\n",
       "      <td>46.8</td>\n",
       "      <td>NaN</td>\n",
       "    </tr>\n",
       "  </tbody>\n",
       "</table>\n",
       "</div>"
      ],
      "text/plain": [
       "        id       date  store_nbr      family  onpromotion   city      state  \\\n",
       "0  3000888 2017-08-16          1  AUTOMOTIVE            0  Quito  Pichincha   \n",
       "1  3000889 2017-08-16          1   BABY CARE            0  Quito  Pichincha   \n",
       "2  3000890 2017-08-16          1      BEAUTY            2  Quito  Pichincha   \n",
       "3  3000891 2017-08-16          1   BEVERAGES           20  Quito  Pichincha   \n",
       "4  3000892 2017-08-16          1       BOOKS            0  Quito  Pichincha   \n",
       "\n",
       "  type_x  cluster  transactions  dcoilwtico type_y  \n",
       "0      D       13           NaN        46.8    NaN  \n",
       "1      D       13           NaN        46.8    NaN  \n",
       "2      D       13           NaN        46.8    NaN  \n",
       "3      D       13           NaN        46.8    NaN  \n",
       "4      D       13           NaN        46.8    NaN  "
      ]
     },
     "execution_count": 14,
     "metadata": {},
     "output_type": "execute_result"
    }
   ],
   "source": [
    "test = test.merge(stores, on=\"store_nbr\", how=\"left\")\n",
    "test = test.merge(transactions, on=[\"date\", \"store_nbr\"], how=\"left\")\n",
    "test = test.merge(oil, on=\"date\", how=\"left\")\n",
    "test = test.merge(holidays[[\"date\",\"type\"]], on=\"date\", how=\"left\")\n",
    "test.head()"
   ]
  },
  {
   "cell_type": "markdown",
   "id": "0cbb4dcc",
   "metadata": {},
   "source": [
    "### Renaming Columns for Clarity (Test Set)\n",
    "\n",
    "- Similar to the train dataset, merging multiple files created generic column names (`type_x`, `type_y`).  \n",
    "- To make the test dataset more interpretable, we renamed them:\n",
    "\n",
    "    - **type_x** (from `stores.csv`) → **store_type**  \n",
    "      Indicates the type of store (A, B, C, or D).  \n",
    "\n",
    "    - **type_y** (from `holidays_events.csv`) → **day_type**  \n",
    "      Classifies each date as either a special event (Holiday, Transfer, Additional, Event, etc.) or a regular Work Day (for dates without special events).  \n"
   ]
  },
  {
   "cell_type": "code",
   "execution_count": 15,
   "id": "d1c6e28a",
   "metadata": {
    "ExecuteTime": {
     "end_time": "2025-09-21T06:08:33.755558Z",
     "start_time": "2025-09-21T06:08:33.746834Z"
    }
   },
   "outputs": [],
   "source": [
    "test = test.rename(columns={\n",
    "    'type_x': 'store_type',\n",
    "    'type_y': 'day_type'\n",
    "})"
   ]
  },
  {
   "cell_type": "markdown",
   "id": "0b2834a5",
   "metadata": {},
   "source": [
    "## Set_index ID Column"
   ]
  },
  {
   "cell_type": "code",
   "execution_count": 16,
   "id": "2f40423a",
   "metadata": {
    "ExecuteTime": {
     "end_time": "2025-09-21T06:08:33.976634Z",
     "start_time": "2025-09-21T06:08:33.968880Z"
    }
   },
   "outputs": [],
   "source": [
    "test.set_index(\"id\",inplace=True)"
   ]
  },
  {
   "cell_type": "markdown",
   "id": "f914a295-85cc-49ec-9e59-e13811d0c4a6",
   "metadata": {
    "id": "f914a295-85cc-49ec-9e59-e13811d0c4a6"
   },
   "source": [
    "# **Dataset Overview**"
   ]
  },
  {
   "cell_type": "markdown",
   "id": "911ec313-1ea0-4b7f-8755-5cdd181363d8",
   "metadata": {
    "id": "911ec313-1ea0-4b7f-8755-5cdd181363d8"
   },
   "source": [
    "## Shape of the dataset"
   ]
  },
  {
   "cell_type": "code",
   "execution_count": 17,
   "id": "42cc7070-e4ee-4a64-92ce-fc0a63036ed5",
   "metadata": {
    "ExecuteTime": {
     "end_time": "2025-09-21T06:08:34.330279Z",
     "start_time": "2025-09-21T06:08:34.321654Z"
    },
    "colab": {
     "base_uri": "https://localhost:8080/"
    },
    "id": "42cc7070-e4ee-4a64-92ce-fc0a63036ed5",
    "outputId": "80905a12-8cc4-470d-d194-46b9715f9ada"
   },
   "outputs": [
    {
     "data": {
      "text/plain": [
       "(3054348, 12)"
      ]
     },
     "execution_count": 17,
     "metadata": {},
     "output_type": "execute_result"
    }
   ],
   "source": [
    "train.shape"
   ]
  },
  {
   "cell_type": "code",
   "execution_count": 18,
   "id": "06233f6d-f664-48d0-94d5-44e8b1bde833",
   "metadata": {
    "ExecuteTime": {
     "end_time": "2025-09-21T06:08:34.524951Z",
     "start_time": "2025-09-21T06:08:34.510881Z"
    },
    "colab": {
     "base_uri": "https://localhost:8080/",
     "height": 313
    },
    "id": "06233f6d-f664-48d0-94d5-44e8b1bde833",
    "outputId": "33d65298-15e8-4f30-94af-d530decbab29"
   },
   "outputs": [
    {
     "data": {
      "application/vnd.microsoft.datawrangler.viewer.v0+json": {
       "columns": [
        {
         "name": "id",
         "rawType": "int64",
         "type": "integer"
        },
        {
         "name": "date",
         "rawType": "datetime64[ns]",
         "type": "datetime"
        },
        {
         "name": "store_nbr",
         "rawType": "int64",
         "type": "integer"
        },
        {
         "name": "family",
         "rawType": "object",
         "type": "string"
        },
        {
         "name": "sales",
         "rawType": "float64",
         "type": "float"
        },
        {
         "name": "onpromotion",
         "rawType": "int64",
         "type": "integer"
        },
        {
         "name": "city",
         "rawType": "object",
         "type": "string"
        },
        {
         "name": "state",
         "rawType": "object",
         "type": "string"
        },
        {
         "name": "store_type",
         "rawType": "object",
         "type": "string"
        },
        {
         "name": "cluster",
         "rawType": "int64",
         "type": "integer"
        },
        {
         "name": "transactions",
         "rawType": "float64",
         "type": "float"
        },
        {
         "name": "dcoilwtico",
         "rawType": "float64",
         "type": "float"
        },
        {
         "name": "day_type",
         "rawType": "object",
         "type": "string"
        }
       ],
       "ref": "b345a6f7-525e-4b76-b43b-eae9f7406b60",
       "rows": [
        [
         "0",
         "2013-01-01 00:00:00",
         "1",
         "AUTOMOTIVE",
         "0.0",
         "0",
         "Quito",
         "Pichincha",
         "D",
         "13",
         null,
         null,
         "Holiday"
        ],
        [
         "1",
         "2013-01-01 00:00:00",
         "1",
         "BABY CARE",
         "0.0",
         "0",
         "Quito",
         "Pichincha",
         "D",
         "13",
         null,
         null,
         "Holiday"
        ],
        [
         "2",
         "2013-01-01 00:00:00",
         "1",
         "BEAUTY",
         "0.0",
         "0",
         "Quito",
         "Pichincha",
         "D",
         "13",
         null,
         null,
         "Holiday"
        ],
        [
         "3",
         "2013-01-01 00:00:00",
         "1",
         "BEVERAGES",
         "0.0",
         "0",
         "Quito",
         "Pichincha",
         "D",
         "13",
         null,
         null,
         "Holiday"
        ],
        [
         "4",
         "2013-01-01 00:00:00",
         "1",
         "BOOKS",
         "0.0",
         "0",
         "Quito",
         "Pichincha",
         "D",
         "13",
         null,
         null,
         "Holiday"
        ]
       ],
       "shape": {
        "columns": 12,
        "rows": 5
       }
      },
      "text/html": [
       "<div>\n",
       "<style scoped>\n",
       "    .dataframe tbody tr th:only-of-type {\n",
       "        vertical-align: middle;\n",
       "    }\n",
       "\n",
       "    .dataframe tbody tr th {\n",
       "        vertical-align: top;\n",
       "    }\n",
       "\n",
       "    .dataframe thead th {\n",
       "        text-align: right;\n",
       "    }\n",
       "</style>\n",
       "<table border=\"1\" class=\"dataframe\">\n",
       "  <thead>\n",
       "    <tr style=\"text-align: right;\">\n",
       "      <th></th>\n",
       "      <th>date</th>\n",
       "      <th>store_nbr</th>\n",
       "      <th>family</th>\n",
       "      <th>sales</th>\n",
       "      <th>onpromotion</th>\n",
       "      <th>city</th>\n",
       "      <th>state</th>\n",
       "      <th>store_type</th>\n",
       "      <th>cluster</th>\n",
       "      <th>transactions</th>\n",
       "      <th>dcoilwtico</th>\n",
       "      <th>day_type</th>\n",
       "    </tr>\n",
       "    <tr>\n",
       "      <th>id</th>\n",
       "      <th></th>\n",
       "      <th></th>\n",
       "      <th></th>\n",
       "      <th></th>\n",
       "      <th></th>\n",
       "      <th></th>\n",
       "      <th></th>\n",
       "      <th></th>\n",
       "      <th></th>\n",
       "      <th></th>\n",
       "      <th></th>\n",
       "      <th></th>\n",
       "    </tr>\n",
       "  </thead>\n",
       "  <tbody>\n",
       "    <tr>\n",
       "      <th>0</th>\n",
       "      <td>2013-01-01</td>\n",
       "      <td>1</td>\n",
       "      <td>AUTOMOTIVE</td>\n",
       "      <td>0.0</td>\n",
       "      <td>0</td>\n",
       "      <td>Quito</td>\n",
       "      <td>Pichincha</td>\n",
       "      <td>D</td>\n",
       "      <td>13</td>\n",
       "      <td>NaN</td>\n",
       "      <td>NaN</td>\n",
       "      <td>Holiday</td>\n",
       "    </tr>\n",
       "    <tr>\n",
       "      <th>1</th>\n",
       "      <td>2013-01-01</td>\n",
       "      <td>1</td>\n",
       "      <td>BABY CARE</td>\n",
       "      <td>0.0</td>\n",
       "      <td>0</td>\n",
       "      <td>Quito</td>\n",
       "      <td>Pichincha</td>\n",
       "      <td>D</td>\n",
       "      <td>13</td>\n",
       "      <td>NaN</td>\n",
       "      <td>NaN</td>\n",
       "      <td>Holiday</td>\n",
       "    </tr>\n",
       "    <tr>\n",
       "      <th>2</th>\n",
       "      <td>2013-01-01</td>\n",
       "      <td>1</td>\n",
       "      <td>BEAUTY</td>\n",
       "      <td>0.0</td>\n",
       "      <td>0</td>\n",
       "      <td>Quito</td>\n",
       "      <td>Pichincha</td>\n",
       "      <td>D</td>\n",
       "      <td>13</td>\n",
       "      <td>NaN</td>\n",
       "      <td>NaN</td>\n",
       "      <td>Holiday</td>\n",
       "    </tr>\n",
       "    <tr>\n",
       "      <th>3</th>\n",
       "      <td>2013-01-01</td>\n",
       "      <td>1</td>\n",
       "      <td>BEVERAGES</td>\n",
       "      <td>0.0</td>\n",
       "      <td>0</td>\n",
       "      <td>Quito</td>\n",
       "      <td>Pichincha</td>\n",
       "      <td>D</td>\n",
       "      <td>13</td>\n",
       "      <td>NaN</td>\n",
       "      <td>NaN</td>\n",
       "      <td>Holiday</td>\n",
       "    </tr>\n",
       "    <tr>\n",
       "      <th>4</th>\n",
       "      <td>2013-01-01</td>\n",
       "      <td>1</td>\n",
       "      <td>BOOKS</td>\n",
       "      <td>0.0</td>\n",
       "      <td>0</td>\n",
       "      <td>Quito</td>\n",
       "      <td>Pichincha</td>\n",
       "      <td>D</td>\n",
       "      <td>13</td>\n",
       "      <td>NaN</td>\n",
       "      <td>NaN</td>\n",
       "      <td>Holiday</td>\n",
       "    </tr>\n",
       "  </tbody>\n",
       "</table>\n",
       "</div>"
      ],
      "text/plain": [
       "         date  store_nbr      family  sales  onpromotion   city      state  \\\n",
       "id                                                                           \n",
       "0  2013-01-01          1  AUTOMOTIVE    0.0            0  Quito  Pichincha   \n",
       "1  2013-01-01          1   BABY CARE    0.0            0  Quito  Pichincha   \n",
       "2  2013-01-01          1      BEAUTY    0.0            0  Quito  Pichincha   \n",
       "3  2013-01-01          1   BEVERAGES    0.0            0  Quito  Pichincha   \n",
       "4  2013-01-01          1       BOOKS    0.0            0  Quito  Pichincha   \n",
       "\n",
       "   store_type  cluster  transactions  dcoilwtico day_type  \n",
       "id                                                         \n",
       "0           D       13           NaN         NaN  Holiday  \n",
       "1           D       13           NaN         NaN  Holiday  \n",
       "2           D       13           NaN         NaN  Holiday  \n",
       "3           D       13           NaN         NaN  Holiday  \n",
       "4           D       13           NaN         NaN  Holiday  "
      ]
     },
     "execution_count": 18,
     "metadata": {},
     "output_type": "execute_result"
    }
   ],
   "source": [
    "train.head()"
   ]
  },
  {
   "cell_type": "markdown",
   "id": "0fb3fab2-dfad-4db9-85fa-88afdc50c4e3",
   "metadata": {
    "id": "0fb3fab2-dfad-4db9-85fa-88afdc50c4e3"
   },
   "source": [
    "## Dataset info (data types + missing values)"
   ]
  },
  {
   "cell_type": "code",
   "execution_count": 19,
   "id": "623c1997-1e95-4f53-afc0-1aa305e8ecd8",
   "metadata": {
    "ExecuteTime": {
     "end_time": "2025-09-21T06:08:35.534526Z",
     "start_time": "2025-09-21T06:08:34.749808Z"
    },
    "colab": {
     "base_uri": "https://localhost:8080/"
    },
    "id": "623c1997-1e95-4f53-afc0-1aa305e8ecd8",
    "outputId": "cdf2d0b0-b063-40e3-93ed-fcd8946e25a0"
   },
   "outputs": [
    {
     "name": "stdout",
     "output_type": "stream",
     "text": [
      "<class 'pandas.core.frame.DataFrame'>\n",
      "Index: 3054348 entries, 0 to 3000887\n",
      "Data columns (total 12 columns):\n",
      " #   Column        Non-Null Count    Dtype         \n",
      "---  ------        --------------    -----         \n",
      " 0   date          3054348 non-null  datetime64[ns]\n",
      " 1   store_nbr     3054348 non-null  int64         \n",
      " 2   family        3054348 non-null  object        \n",
      " 3   sales         3054348 non-null  float64       \n",
      " 4   onpromotion   3054348 non-null  int64         \n",
      " 5   city          3054348 non-null  object        \n",
      " 6   state         3054348 non-null  object        \n",
      " 7   store_type    3054348 non-null  object        \n",
      " 8   cluster       3054348 non-null  int64         \n",
      " 9   transactions  2805231 non-null  float64       \n",
      " 10  dcoilwtico    2174040 non-null  float64       \n",
      " 11  day_type      502524 non-null   object        \n",
      "dtypes: datetime64[ns](1), float64(3), int64(3), object(5)\n",
      "memory usage: 302.9+ MB\n"
     ]
    }
   ],
   "source": [
    "train.info(show_counts=True)"
   ]
  },
  {
   "cell_type": "markdown",
   "id": "7e54e836-379a-4396-bfa2-39e9e94303f3",
   "metadata": {
    "id": "7e54e836-379a-4396-bfa2-39e9e94303f3"
   },
   "source": [
    "## Missing values count"
   ]
  },
  {
   "cell_type": "code",
   "execution_count": 20,
   "id": "2222c197-bc86-43fa-b369-253be22b51a7",
   "metadata": {
    "ExecuteTime": {
     "end_time": "2025-09-21T06:08:36.482778Z",
     "start_time": "2025-09-21T06:08:35.776987Z"
    },
    "colab": {
     "base_uri": "https://localhost:8080/",
     "height": 460
    },
    "id": "2222c197-bc86-43fa-b369-253be22b51a7",
    "outputId": "21859c1e-19eb-477d-c242-7123e219e862"
   },
   "outputs": [
    {
     "data": {
      "application/vnd.microsoft.datawrangler.viewer.v0+json": {
       "columns": [
        {
         "name": "index",
         "rawType": "object",
         "type": "string"
        },
        {
         "name": "0",
         "rawType": "int64",
         "type": "integer"
        }
       ],
       "ref": "fd78fbf5-a516-474f-9bf8-b023c947e332",
       "rows": [
        [
         "date",
         "0"
        ],
        [
         "store_nbr",
         "0"
        ],
        [
         "family",
         "0"
        ],
        [
         "sales",
         "0"
        ],
        [
         "onpromotion",
         "0"
        ],
        [
         "city",
         "0"
        ],
        [
         "state",
         "0"
        ],
        [
         "store_type",
         "0"
        ],
        [
         "cluster",
         "0"
        ],
        [
         "transactions",
         "249117"
        ],
        [
         "dcoilwtico",
         "880308"
        ],
        [
         "day_type",
         "2551824"
        ]
       ],
       "shape": {
        "columns": 1,
        "rows": 12
       }
      },
      "text/plain": [
       "date                  0\n",
       "store_nbr             0\n",
       "family                0\n",
       "sales                 0\n",
       "onpromotion           0\n",
       "city                  0\n",
       "state                 0\n",
       "store_type            0\n",
       "cluster               0\n",
       "transactions     249117\n",
       "dcoilwtico       880308\n",
       "day_type        2551824\n",
       "dtype: int64"
      ]
     },
     "execution_count": 20,
     "metadata": {},
     "output_type": "execute_result"
    }
   ],
   "source": [
    "train.isnull().sum()"
   ]
  },
  {
   "cell_type": "markdown",
   "id": "ba90d770-b266-4523-adc5-5bab7565415c",
   "metadata": {
    "id": "ba90d770-b266-4523-adc5-5bab7565415c"
   },
   "source": [
    "**Columns with Missing Values**  \n",
    "   - **`transactions` → 249,117 missing (~8.2%)**  \n",
    "     - Not all stores have transaction logs available.  \n",
    "     - Missing values can be imputed using median per store or interpolation.  \n",
    "\n",
    "   - **`dcoilwtico` → 880,308 missing (~28.8%)**  \n",
    "     - Oil prices are not recorded on weekends and holidays (markets closed).  \n",
    "     - We can fix it using forward-fill (`ffill`) or interpolation.  \n",
    "\n",
    "   - **`day_type` → 2,551,824 missing (~83.5%)**  \n",
    "     - Represents holiday/event types.  \n",
    "     - Missing values simply mean “regular work day.”  \n",
    "     - Can safely replace NaN with `\"Work Day\"`.  "
   ]
  },
  {
   "cell_type": "markdown",
   "id": "beaf1d5b-6747-49e9-99b3-ca42a8f40050",
   "metadata": {
    "id": "beaf1d5b-6747-49e9-99b3-ca42a8f40050"
   },
   "source": [
    "#### Key Takeaways\n",
    "- Core dataset is very clean (no missing values in essential features like `sales`, `date`, `store_nbr`).  \n",
    "- Missing values are expected in auxiliary features (transactions, oil prices, holidays).  "
   ]
  },
  {
   "cell_type": "code",
   "execution_count": 21,
   "id": "43a94a21",
   "metadata": {
    "ExecuteTime": {
     "end_time": "2025-09-21T06:08:36.584694Z",
     "start_time": "2025-09-21T06:08:36.572036Z"
    }
   },
   "outputs": [
    {
     "data": {
      "application/vnd.microsoft.datawrangler.viewer.v0+json": {
       "columns": [
        {
         "name": "index",
         "rawType": "object",
         "type": "string"
        },
        {
         "name": "0",
         "rawType": "int64",
         "type": "integer"
        }
       ],
       "ref": "d7a3c71d-9137-49ac-9323-54a54354f9ab",
       "rows": [
        [
         "date",
         "0"
        ],
        [
         "store_nbr",
         "0"
        ],
        [
         "family",
         "0"
        ],
        [
         "onpromotion",
         "0"
        ],
        [
         "city",
         "0"
        ],
        [
         "state",
         "0"
        ],
        [
         "store_type",
         "0"
        ],
        [
         "cluster",
         "0"
        ],
        [
         "transactions",
         "28512"
        ],
        [
         "dcoilwtico",
         "7128"
        ],
        [
         "day_type",
         "26730"
        ]
       ],
       "shape": {
        "columns": 1,
        "rows": 11
       }
      },
      "text/plain": [
       "date                0\n",
       "store_nbr           0\n",
       "family              0\n",
       "onpromotion         0\n",
       "city                0\n",
       "state               0\n",
       "store_type          0\n",
       "cluster             0\n",
       "transactions    28512\n",
       "dcoilwtico       7128\n",
       "day_type        26730\n",
       "dtype: int64"
      ]
     },
     "execution_count": 21,
     "metadata": {},
     "output_type": "execute_result"
    }
   ],
   "source": [
    "test.isna().sum()"
   ]
  },
  {
   "cell_type": "markdown",
   "id": "10d5aa80",
   "metadata": {},
   "source": [
    "## **Columns with Missing Values — Test Dataset**\n",
    "\n",
    "- **`transactions` → 28,512 missing (100%)**  \n",
    "  - All transaction values are missing in the test set.  \n",
    "  - Since this feature is not available for prediction, we will drop the `transactions` column from both **train** and **test** to keep the datasets aligned.  \n",
    "\n",
    "- **`dcoilwtico` → 7,128 missing (~2.4%)**  \n",
    "  - Oil prices are not recorded on weekends and holidays (markets closed).  \n",
    "  - We can handle missing values using **forward-fill (`ffill`)**.  \n",
    "\n",
    "- **`day_type` → 26,730 missing (~9.0%)**  \n",
    "  - Represents holiday/event types.  \n",
    "  - Missing values simply mean “regular work day.”  \n",
    "  - We can safely replace NaN with `\"Work Day\"`.  \n"
   ]
  },
  {
   "cell_type": "markdown",
   "id": "7ab0ddde-6f2e-4d12-9008-35810aa1400b",
   "metadata": {
    "id": "7ab0ddde-6f2e-4d12-9008-35810aa1400b"
   },
   "source": [
    "## Check duplicates"
   ]
  },
  {
   "cell_type": "code",
   "execution_count": 22,
   "id": "b1782f6e-e4fb-43e5-8d6f-999846794b69",
   "metadata": {
    "ExecuteTime": {
     "end_time": "2025-09-21T06:08:39.031035Z",
     "start_time": "2025-09-21T06:08:36.833213Z"
    },
    "colab": {
     "base_uri": "https://localhost:8080/"
    },
    "id": "b1782f6e-e4fb-43e5-8d6f-999846794b69",
    "outputId": "d97a90d3-3032-41cf-9f56-d51813e4c757"
   },
   "outputs": [
    {
     "data": {
      "text/plain": [
       "np.int64(30294)"
      ]
     },
     "execution_count": 22,
     "metadata": {},
     "output_type": "execute_result"
    }
   ],
   "source": [
    "train.duplicated().sum()"
   ]
  },
  {
   "cell_type": "code",
   "execution_count": 23,
   "id": "81ae0d6f",
   "metadata": {
    "ExecuteTime": {
     "end_time": "2025-09-21T06:08:39.195197Z",
     "start_time": "2025-09-21T06:08:39.160604Z"
    }
   },
   "outputs": [
    {
     "data": {
      "text/plain": [
       "np.int64(0)"
      ]
     },
     "execution_count": 23,
     "metadata": {},
     "output_type": "execute_result"
    }
   ],
   "source": [
    "test.duplicated().sum()"
   ]
  },
  {
   "cell_type": "code",
   "execution_count": 24,
   "id": "29385822-9d79-451f-a9a1-2b07e59d6a30",
   "metadata": {
    "ExecuteTime": {
     "end_time": "2025-09-21T06:08:41.691746Z",
     "start_time": "2025-09-21T06:08:39.532666Z"
    },
    "colab": {
     "base_uri": "https://localhost:8080/"
    },
    "id": "29385822-9d79-451f-a9a1-2b07e59d6a30",
    "outputId": "2a11133c-2f58-4d4e-b7c2-6450cd2e0977"
   },
   "outputs": [
    {
     "name": "stdout",
     "output_type": "stream",
     "text": [
      "Removed 30294 duplicate rows.\n"
     ]
    },
    {
     "data": {
      "text/plain": [
       "(3024054, 12)"
      ]
     },
     "execution_count": 24,
     "metadata": {},
     "output_type": "execute_result"
    }
   ],
   "source": [
    "initial_rows = train.shape[0]\n",
    "train = train.drop_duplicates()\n",
    "print(f\"Removed {initial_rows - train.shape[0]} duplicate rows.\")\n",
    "train.shape"
   ]
  },
  {
   "cell_type": "markdown",
   "id": "02c4de03-de42-467a-88ea-4420cee1a040",
   "metadata": {
    "id": "02c4de03-de42-467a-88ea-4420cee1a040"
   },
   "source": [
    "**We removed all duplicate rows to ensure data consistency:**  "
   ]
  },
  {
   "cell_type": "markdown",
   "id": "79f12fd5",
   "metadata": {},
   "source": [
    "## Check Hidden Duplicated"
   ]
  },
  {
   "cell_type": "code",
   "execution_count": 25,
   "id": "7b389bfb",
   "metadata": {
    "ExecuteTime": {
     "end_time": "2025-09-21T06:08:41.762668Z",
     "start_time": "2025-09-21T06:08:41.757636Z"
    }
   },
   "outputs": [],
   "source": [
    "# Edit BY Null values in day_type"
   ]
  },
  {
   "cell_type": "code",
   "execution_count": 26,
   "id": "03416c84",
   "metadata": {
    "ExecuteTime": {
     "end_time": "2025-09-21T06:08:44.811966Z",
     "start_time": "2025-09-21T06:08:41.827174Z"
    }
   },
   "outputs": [],
   "source": [
    "dup = train.drop(\"day_type\",axis=1).duplicated()\n",
    "dup_index = dup[dup].index\n",
    "train = train.drop(dup_index)\n",
    "# edit"
   ]
  },
  {
   "cell_type": "markdown",
   "id": "f3ba89bc-11eb-4e97-8d72-7e5923fd5a0b",
   "metadata": {
    "id": "f3ba89bc-11eb-4e97-8d72-7e5923fd5a0b"
   },
   "source": [
    "## Data Validation & Cleaning Checks"
   ]
  },
  {
   "cell_type": "markdown",
   "id": "90db57bf-7d29-42a9-b463-ab7e7afa2edf",
   "metadata": {
    "id": "90db57bf-7d29-42a9-b463-ab7e7afa2edf"
   },
   "source": [
    "## Handle missing values\n",
    "- Logical imputation strategies:  \n",
    "  - `transactions`: median per store.  \n",
    "  - `dcoilwtico`: forward-fill.  \n",
    "  - `day_type`: fill NaN with `\"Work Day\"`.  "
   ]
  },
  {
   "cell_type": "markdown",
   "id": "84c765dd-a8a9-4069-83c2-5689768116b0",
   "metadata": {
    "id": "84c765dd-a8a9-4069-83c2-5689768116b0"
   },
   "source": [
    "**Fill missing values of dcoilwtico column with forward-fill then back-fill for any leading NaNs**"
   ]
  },
  {
   "cell_type": "code",
   "execution_count": 27,
   "id": "22e87f82-58bd-49a4-9667-7dfe751e2012",
   "metadata": {
    "ExecuteTime": {
     "end_time": "2025-09-21T06:08:44.901298Z",
     "start_time": "2025-09-21T06:08:44.841986Z"
    },
    "colab": {
     "base_uri": "https://localhost:8080/"
    },
    "id": "22e87f82-58bd-49a4-9667-7dfe751e2012",
    "outputId": "5c0406a3-fa6c-449a-9854-b9a3f8dcc15c",
    "scrolled": true
   },
   "outputs": [],
   "source": [
    "train['dcoilwtico'] = train['dcoilwtico'].fillna(method='ffill').fillna(method='bfill')"
   ]
  },
  {
   "cell_type": "markdown",
   "id": "45bf49a3-a975-4a80-9396-762a28d1d90d",
   "metadata": {
    "id": "45bf49a3-a975-4a80-9396-762a28d1d90d"
   },
   "source": [
    "**Fill missing values day_type column with \"Work Day\"**"
   ]
  },
  {
   "cell_type": "code",
   "execution_count": 28,
   "id": "e27fcaa8-f550-4593-b047-fd1b87b1f8e9",
   "metadata": {
    "ExecuteTime": {
     "end_time": "2025-09-21T06:08:45.157182Z",
     "start_time": "2025-09-21T06:08:44.991966Z"
    },
    "id": "e27fcaa8-f550-4593-b047-fd1b87b1f8e9"
   },
   "outputs": [],
   "source": [
    "train['day_type'] = train['day_type'].fillna('Work Day')"
   ]
  },
  {
   "cell_type": "code",
   "execution_count": 29,
   "id": "7a812b85-dec8-42c7-aa13-8ee87cd8b6d8",
   "metadata": {
    "ExecuteTime": {
     "end_time": "2025-09-21T06:08:45.888789Z",
     "start_time": "2025-09-21T06:08:45.190269Z"
    },
    "colab": {
     "base_uri": "https://localhost:8080/",
     "height": 460
    },
    "id": "7a812b85-dec8-42c7-aa13-8ee87cd8b6d8",
    "outputId": "c6cfa0fe-ed33-46c3-df8e-4bb2958bad42"
   },
   "outputs": [
    {
     "data": {
      "application/vnd.microsoft.datawrangler.viewer.v0+json": {
       "columns": [
        {
         "name": "index",
         "rawType": "object",
         "type": "string"
        },
        {
         "name": "0",
         "rawType": "int64",
         "type": "integer"
        }
       ],
       "ref": "d8c2d121-21f0-4698-8dea-4bed413ea908",
       "rows": [
        [
         "date",
         "0"
        ],
        [
         "store_nbr",
         "0"
        ],
        [
         "family",
         "0"
        ],
        [
         "sales",
         "0"
        ],
        [
         "onpromotion",
         "0"
        ],
        [
         "city",
         "0"
        ],
        [
         "state",
         "0"
        ],
        [
         "store_type",
         "0"
        ],
        [
         "cluster",
         "0"
        ],
        [
         "transactions",
         "244398"
        ],
        [
         "dcoilwtico",
         "0"
        ],
        [
         "day_type",
         "0"
        ]
       ],
       "shape": {
        "columns": 1,
        "rows": 12
       }
      },
      "text/plain": [
       "date                 0\n",
       "store_nbr            0\n",
       "family               0\n",
       "sales                0\n",
       "onpromotion          0\n",
       "city                 0\n",
       "state                0\n",
       "store_type           0\n",
       "cluster              0\n",
       "transactions    244398\n",
       "dcoilwtico           0\n",
       "day_type             0\n",
       "dtype: int64"
      ]
     },
     "execution_count": 29,
     "metadata": {},
     "output_type": "execute_result"
    }
   ],
   "source": [
    "train.isnull().sum()\n"
   ]
  },
  {
   "cell_type": "markdown",
   "id": "dcdb20a4",
   "metadata": {},
   "source": [
    "**Fill missing values of dcoilwtico column in the test dataset with forward-fill then back-fill for any leading NaNs**"
   ]
  },
  {
   "cell_type": "code",
   "execution_count": 30,
   "id": "3aa75a5f",
   "metadata": {
    "ExecuteTime": {
     "end_time": "2025-09-21T06:08:45.974950Z",
     "start_time": "2025-09-21T06:08:45.968938Z"
    }
   },
   "outputs": [],
   "source": [
    "test['dcoilwtico'] = test['dcoilwtico'].fillna(method='ffill').fillna(method='bfill')"
   ]
  },
  {
   "cell_type": "markdown",
   "id": "82fe4edf",
   "metadata": {},
   "source": [
    "**Fill missing values day_type column in the test dataset with \"Work Day\"**"
   ]
  },
  {
   "cell_type": "code",
   "execution_count": 31,
   "id": "943a5679",
   "metadata": {
    "ExecuteTime": {
     "end_time": "2025-09-21T06:08:46.276898Z",
     "start_time": "2025-09-21T06:08:46.267701Z"
    }
   },
   "outputs": [],
   "source": [
    "test['day_type'] = test['day_type'].fillna('Work Day')"
   ]
  },
  {
   "cell_type": "markdown",
   "id": "9c4f660d",
   "metadata": {},
   "source": [
    "## **Dropping the `transactions` Column**\n",
    "\n",
    "To keep the datasets consistent, we drop `transactions` from both **train** and **test**:"
   ]
  },
  {
   "cell_type": "code",
   "execution_count": 32,
   "id": "52be50eb",
   "metadata": {
    "ExecuteTime": {
     "end_time": "2025-09-21T06:08:46.941673Z",
     "start_time": "2025-09-21T06:08:46.587353Z"
    }
   },
   "outputs": [],
   "source": [
    "train.drop(\"transactions\",axis=1,inplace=True)"
   ]
  },
  {
   "cell_type": "code",
   "execution_count": 33,
   "id": "c1f73910",
   "metadata": {
    "ExecuteTime": {
     "end_time": "2025-09-21T06:08:46.979068Z",
     "start_time": "2025-09-21T06:08:46.969451Z"
    }
   },
   "outputs": [],
   "source": [
    "test.drop(\"transactions\",axis=1,inplace=True)"
   ]
  },
  {
   "cell_type": "code",
   "execution_count": 34,
   "id": "3c32a9e9",
   "metadata": {
    "ExecuteTime": {
     "end_time": "2025-09-21T06:08:47.069555Z",
     "start_time": "2025-09-21T06:08:47.060707Z"
    },
    "colab": {
     "base_uri": "https://localhost:8080/"
    },
    "id": "3c32a9e9",
    "outputId": "477f30f0-b9b4-4049-fdb1-b069870fa4c8"
   },
   "outputs": [
    {
     "data": {
      "text/plain": [
       "(2977722, 11)"
      ]
     },
     "execution_count": 34,
     "metadata": {},
     "output_type": "execute_result"
    }
   ],
   "source": [
    "train.shape"
   ]
  },
  {
   "cell_type": "markdown",
   "id": "4340a3bf-62e5-45c0-a72d-20dcd4ab6e64",
   "metadata": {
    "id": "4340a3bf-62e5-45c0-a72d-20dcd4ab6e64"
   },
   "source": [
    "## **Address data inconsistencies**"
   ]
  },
  {
   "cell_type": "markdown",
   "id": "60014fb4-03ea-4808-89ae-dc8bf810dc8d",
   "metadata": {
    "id": "60014fb4-03ea-4808-89ae-dc8bf810dc8d"
   },
   "source": [
    "## Check data types"
   ]
  },
  {
   "cell_type": "code",
   "execution_count": 35,
   "id": "b34182ed-a1f3-47e2-bb5f-b1d2c2b5c950",
   "metadata": {
    "ExecuteTime": {
     "end_time": "2025-09-21T06:08:47.316981Z",
     "start_time": "2025-09-21T06:08:47.309159Z"
    },
    "colab": {
     "base_uri": "https://localhost:8080/",
     "height": 460
    },
    "id": "b34182ed-a1f3-47e2-bb5f-b1d2c2b5c950",
    "outputId": "5218fe60-8cdb-436a-8699-f7399a7dba17"
   },
   "outputs": [
    {
     "data": {
      "application/vnd.microsoft.datawrangler.viewer.v0+json": {
       "columns": [
        {
         "name": "index",
         "rawType": "object",
         "type": "string"
        },
        {
         "name": "0",
         "rawType": "object",
         "type": "unknown"
        }
       ],
       "ref": "5e42535e-34be-4c0e-a309-21282f7d3dea",
       "rows": [
        [
         "date",
         "datetime64[ns]"
        ],
        [
         "store_nbr",
         "int64"
        ],
        [
         "family",
         "object"
        ],
        [
         "sales",
         "float64"
        ],
        [
         "onpromotion",
         "int64"
        ],
        [
         "city",
         "object"
        ],
        [
         "state",
         "object"
        ],
        [
         "store_type",
         "object"
        ],
        [
         "cluster",
         "int64"
        ],
        [
         "dcoilwtico",
         "float64"
        ],
        [
         "day_type",
         "object"
        ]
       ],
       "shape": {
        "columns": 1,
        "rows": 11
       }
      },
      "text/plain": [
       "date           datetime64[ns]\n",
       "store_nbr               int64\n",
       "family                 object\n",
       "sales                 float64\n",
       "onpromotion             int64\n",
       "city                   object\n",
       "state                  object\n",
       "store_type             object\n",
       "cluster                 int64\n",
       "dcoilwtico            float64\n",
       "day_type               object\n",
       "dtype: object"
      ]
     },
     "execution_count": 35,
     "metadata": {},
     "output_type": "execute_result"
    }
   ],
   "source": [
    "train.dtypes"
   ]
  },
  {
   "cell_type": "markdown",
   "id": "edb2951c-286b-4a33-b30e-2c142b724323",
   "metadata": {
    "id": "edb2951c-286b-4a33-b30e-2c142b724323"
   },
   "source": [
    "- **Categorical Columns:** family, city, state, store_type, day_type.  \n",
    "- **Numeric Columns:** id, store_nbr, sales, onpromotion, cluster, transactions, dcoilwtico.  \n",
    "- **Datetime Columns:** date.\n"
   ]
  },
  {
   "cell_type": "markdown",
   "id": "6ccf47e4-4be2-4ec0-9d95-8d580d721b4b",
   "metadata": {
    "id": "6ccf47e4-4be2-4ec0-9d95-8d580d721b4b"
   },
   "source": [
    "## List of all columns"
   ]
  },
  {
   "cell_type": "code",
   "execution_count": 36,
   "id": "ba1833d2-8346-4b24-92fc-a03da36558e8",
   "metadata": {
    "ExecuteTime": {
     "end_time": "2025-09-21T06:08:47.505458Z",
     "start_time": "2025-09-21T06:08:47.490596Z"
    },
    "colab": {
     "base_uri": "https://localhost:8080/"
    },
    "id": "ba1833d2-8346-4b24-92fc-a03da36558e8",
    "outputId": "16674571-d6a5-495f-a74d-b694aa6bfe4c"
   },
   "outputs": [
    {
     "data": {
      "text/plain": [
       "Index(['date', 'store_nbr', 'family', 'sales', 'onpromotion', 'city', 'state',\n",
       "       'store_type', 'cluster', 'dcoilwtico', 'day_type'],\n",
       "      dtype='object')"
      ]
     },
     "execution_count": 36,
     "metadata": {},
     "output_type": "execute_result"
    }
   ],
   "source": [
    "train.columns"
   ]
  },
  {
   "cell_type": "markdown",
   "id": "64d0cdbd-2c8a-43a1-ba22-8a4bab8bd113",
   "metadata": {
    "id": "64d0cdbd-2c8a-43a1-ba22-8a4bab8bd113"
   },
   "source": [
    "## Unique values exploration"
   ]
  },
  {
   "cell_type": "markdown",
   "id": "6a52e6bf-fe9e-40ed-a99a-74231994dfb3",
   "metadata": {
    "id": "6a52e6bf-fe9e-40ed-a99a-74231994dfb3"
   },
   "source": [
    "**View all distinct product families available in the dataset.**"
   ]
  },
  {
   "cell_type": "code",
   "execution_count": 37,
   "id": "f2fd4317-9d81-4b9a-983a-a015f226294a",
   "metadata": {
    "ExecuteTime": {
     "end_time": "2025-09-21T06:08:48.056584Z",
     "start_time": "2025-09-21T06:08:47.894350Z"
    },
    "colab": {
     "base_uri": "https://localhost:8080/"
    },
    "id": "f2fd4317-9d81-4b9a-983a-a015f226294a",
    "outputId": "cd1240ca-ebb9-4c35-d6ee-ef720567a28f"
   },
   "outputs": [
    {
     "data": {
      "text/plain": [
       "array(['AUTOMOTIVE', 'BABY CARE', 'BEAUTY', 'BEVERAGES', 'BOOKS',\n",
       "       'BREAD/BAKERY', 'CELEBRATION', 'CLEANING', 'DAIRY', 'DELI', 'EGGS',\n",
       "       'FROZEN FOODS', 'GROCERY I', 'GROCERY II', 'HARDWARE',\n",
       "       'HOME AND KITCHEN I', 'HOME AND KITCHEN II', 'HOME APPLIANCES',\n",
       "       'HOME CARE', 'LADIESWEAR', 'LAWN AND GARDEN', 'LINGERIE',\n",
       "       'LIQUOR,WINE,BEER', 'MAGAZINES', 'MEATS', 'PERSONAL CARE',\n",
       "       'PET SUPPLIES', 'PLAYERS AND ELECTRONICS', 'POULTRY',\n",
       "       'PREPARED FOODS', 'PRODUCE', 'SCHOOL AND OFFICE SUPPLIES',\n",
       "       'SEAFOOD'], dtype=object)"
      ]
     },
     "execution_count": 37,
     "metadata": {},
     "output_type": "execute_result"
    }
   ],
   "source": [
    "train.family.unique()"
   ]
  },
  {
   "cell_type": "markdown",
   "id": "cf800347-f577-4c9c-96a1-3e1b9d6c2aa2",
   "metadata": {
    "id": "cf800347-f577-4c9c-96a1-3e1b9d6c2aa2"
   },
   "source": [
    "**Get unique store types in the dataset**"
   ]
  },
  {
   "cell_type": "code",
   "execution_count": 38,
   "id": "913b1549-576f-40ae-b051-a1eaf82c18d3",
   "metadata": {
    "ExecuteTime": {
     "end_time": "2025-09-21T06:08:48.428976Z",
     "start_time": "2025-09-21T06:08:48.268753Z"
    },
    "colab": {
     "base_uri": "https://localhost:8080/"
    },
    "id": "913b1549-576f-40ae-b051-a1eaf82c18d3",
    "outputId": "99b31f8c-67fd-43d1-e198-0c2f7030bd93"
   },
   "outputs": [
    {
     "data": {
      "text/plain": [
       "array(['D', 'C', 'B', 'E', 'A'], dtype=object)"
      ]
     },
     "execution_count": 38,
     "metadata": {},
     "output_type": "execute_result"
    }
   ],
   "source": [
    "train.store_type.unique()"
   ]
  },
  {
   "cell_type": "markdown",
   "id": "4b70c444-f7cb-436b-b21c-15269e600ee5",
   "metadata": {
    "id": "4b70c444-f7cb-436b-b21c-15269e600ee5"
   },
   "source": [
    "**Get unique day types in the dataset**"
   ]
  },
  {
   "cell_type": "code",
   "execution_count": 39,
   "id": "3796c2a1-039b-44f6-a525-2a7c544728c9",
   "metadata": {
    "ExecuteTime": {
     "end_time": "2025-09-21T06:08:48.672714Z",
     "start_time": "2025-09-21T06:08:48.529316Z"
    },
    "colab": {
     "base_uri": "https://localhost:8080/"
    },
    "id": "3796c2a1-039b-44f6-a525-2a7c544728c9",
    "outputId": "532f7bfa-f867-4b19-a98c-bac809092aef"
   },
   "outputs": [
    {
     "data": {
      "text/plain": [
       "array(['Holiday', 'Work Day', 'Additional', 'Transfer', 'Event', 'Bridge'],\n",
       "      dtype=object)"
      ]
     },
     "execution_count": 39,
     "metadata": {},
     "output_type": "execute_result"
    }
   ],
   "source": [
    "train.day_type.unique()"
   ]
  },
  {
   "cell_type": "markdown",
   "id": "4a0ab86c-0da8-4c6c-b503-290e1101053a",
   "metadata": {
    "id": "4a0ab86c-0da8-4c6c-b503-290e1101053a"
   },
   "source": [
    "## Count unique values in each column"
   ]
  },
  {
   "cell_type": "code",
   "execution_count": 40,
   "id": "fe456668-f286-4a86-9f49-2d7f7ef636f2",
   "metadata": {
    "ExecuteTime": {
     "end_time": "2025-09-21T06:08:49.851970Z",
     "start_time": "2025-09-21T06:08:48.771211Z"
    },
    "colab": {
     "base_uri": "https://localhost:8080/",
     "height": 460
    },
    "id": "fe456668-f286-4a86-9f49-2d7f7ef636f2",
    "outputId": "cf0cbe4c-65d5-485f-b360-bf39555fa1ad"
   },
   "outputs": [
    {
     "data": {
      "application/vnd.microsoft.datawrangler.viewer.v0+json": {
       "columns": [
        {
         "name": "index",
         "rawType": "object",
         "type": "string"
        },
        {
         "name": "0",
         "rawType": "int64",
         "type": "integer"
        }
       ],
       "ref": "8e0858f6-4474-4ceb-b169-79979b62990b",
       "rows": [
        [
         "date",
         "1671"
        ],
        [
         "store_nbr",
         "54"
        ],
        [
         "family",
         "33"
        ],
        [
         "sales",
         "376834"
        ],
        [
         "onpromotion",
         "351"
        ],
        [
         "city",
         "22"
        ],
        [
         "state",
         "16"
        ],
        [
         "store_type",
         "5"
        ],
        [
         "cluster",
         "17"
        ],
        [
         "dcoilwtico",
         "987"
        ],
        [
         "day_type",
         "6"
        ]
       ],
       "shape": {
        "columns": 1,
        "rows": 11
       }
      },
      "text/plain": [
       "date             1671\n",
       "store_nbr          54\n",
       "family             33\n",
       "sales          376834\n",
       "onpromotion       351\n",
       "city               22\n",
       "state              16\n",
       "store_type          5\n",
       "cluster            17\n",
       "dcoilwtico        987\n",
       "day_type            6\n",
       "dtype: int64"
      ]
     },
     "execution_count": 40,
     "metadata": {},
     "output_type": "execute_result"
    }
   ],
   "source": [
    "train.nunique()"
   ]
  },
  {
   "cell_type": "markdown",
   "id": "7f41fb43-fb4d-4b74-96b2-49ccac717c68",
   "metadata": {
    "id": "7f41fb43-fb4d-4b74-96b2-49ccac717c68"
   },
   "source": [
    "## Descriptive statistics for all columns"
   ]
  },
  {
   "cell_type": "code",
   "execution_count": 41,
   "id": "7e23d90f-fb83-4128-9481-55c41ad91a2f",
   "metadata": {
    "ExecuteTime": {
     "end_time": "2025-09-21T06:08:51.964528Z",
     "start_time": "2025-09-21T06:08:49.939201Z"
    },
    "colab": {
     "base_uri": "https://localhost:8080/",
     "height": 518
    },
    "id": "7e23d90f-fb83-4128-9481-55c41ad91a2f",
    "outputId": "b7121098-9f79-4ce2-fa91-b6f662923b42"
   },
   "outputs": [
    {
     "data": {
      "application/vnd.microsoft.datawrangler.viewer.v0+json": {
       "columns": [
        {
         "name": "index",
         "rawType": "object",
         "type": "string"
        },
        {
         "name": "date",
         "rawType": "object",
         "type": "unknown"
        },
        {
         "name": "store_nbr",
         "rawType": "float64",
         "type": "float"
        },
        {
         "name": "family",
         "rawType": "object",
         "type": "unknown"
        },
        {
         "name": "sales",
         "rawType": "float64",
         "type": "float"
        },
        {
         "name": "onpromotion",
         "rawType": "float64",
         "type": "float"
        },
        {
         "name": "city",
         "rawType": "object",
         "type": "unknown"
        },
        {
         "name": "state",
         "rawType": "object",
         "type": "unknown"
        },
        {
         "name": "store_type",
         "rawType": "object",
         "type": "unknown"
        },
        {
         "name": "cluster",
         "rawType": "float64",
         "type": "float"
        },
        {
         "name": "dcoilwtico",
         "rawType": "float64",
         "type": "float"
        },
        {
         "name": "day_type",
         "rawType": "object",
         "type": "unknown"
        }
       ],
       "ref": "8899e5d1-35f5-4877-a69e-649862633927",
       "rows": [
        [
         "count",
         "2977722",
         "2977722.0",
         "2977722",
         "2977722.0",
         "2977722.0",
         "2977722",
         "2977722",
         "2977722",
         "2977722.0",
         "2977722.0",
         "2977722"
        ],
        [
         "unique",
         null,
         null,
         "33",
         null,
         null,
         "22",
         "16",
         "5",
         null,
         null,
         "6"
        ],
        [
         "top",
         null,
         null,
         "AUTOMOTIVE",
         null,
         null,
         "Quito",
         "Pichincha",
         "D",
         null,
         null,
         "Work Day"
        ],
        [
         "freq",
         null,
         null,
         "90234",
         null,
         null,
         "992574",
         "1047717",
         "992574",
         null,
         null,
         "2558952"
        ],
        [
         "mean",
         "2015-04-23 09:07:13.034111488",
         "27.5",
         null,
         "356.7572938740809",
         "2.594631063611714",
         null,
         null,
         null,
         "8.481481481481481",
         "67.99561340514661",
         null
        ],
        [
         "min",
         "2013-01-01 00:00:00",
         "1.0",
         null,
         "0.0",
         "0.0",
         null,
         null,
         null,
         "1.0",
         "26.19",
         null
        ],
        [
         "25%",
         "2014-02-25 00:00:00",
         "14.0",
         null,
         "0.0",
         "0.0",
         null,
         null,
         null,
         "4.0",
         "46.41",
         null
        ],
        [
         "50%",
         "2015-04-23 00:00:00",
         "27.5",
         null,
         "11.0",
         "0.0",
         null,
         null,
         null,
         "8.5",
         "53.41",
         null
        ],
        [
         "75%",
         "2016-06-20 00:00:00",
         "41.0",
         null,
         "195.0",
         "0.0",
         null,
         null,
         null,
         "13.0",
         "95.72",
         null
        ],
        [
         "max",
         "2017-08-15 00:00:00",
         "54.0",
         null,
         "124717.0",
         "741.0",
         null,
         null,
         null,
         "17.0",
         "110.62",
         null
        ],
        [
         "std",
         null,
         "15.58578673807372",
         null,
         "1097.1427609153598",
         "12.181084883480374",
         null,
         null,
         null,
         "4.649734905931484",
         "25.672878003777313",
         null
        ]
       ],
       "shape": {
        "columns": 11,
        "rows": 11
       }
      },
      "text/html": [
       "<div>\n",
       "<style scoped>\n",
       "    .dataframe tbody tr th:only-of-type {\n",
       "        vertical-align: middle;\n",
       "    }\n",
       "\n",
       "    .dataframe tbody tr th {\n",
       "        vertical-align: top;\n",
       "    }\n",
       "\n",
       "    .dataframe thead th {\n",
       "        text-align: right;\n",
       "    }\n",
       "</style>\n",
       "<table border=\"1\" class=\"dataframe\">\n",
       "  <thead>\n",
       "    <tr style=\"text-align: right;\">\n",
       "      <th></th>\n",
       "      <th>date</th>\n",
       "      <th>store_nbr</th>\n",
       "      <th>family</th>\n",
       "      <th>sales</th>\n",
       "      <th>onpromotion</th>\n",
       "      <th>city</th>\n",
       "      <th>state</th>\n",
       "      <th>store_type</th>\n",
       "      <th>cluster</th>\n",
       "      <th>dcoilwtico</th>\n",
       "      <th>day_type</th>\n",
       "    </tr>\n",
       "  </thead>\n",
       "  <tbody>\n",
       "    <tr>\n",
       "      <th>count</th>\n",
       "      <td>2977722</td>\n",
       "      <td>2.977722e+06</td>\n",
       "      <td>2977722</td>\n",
       "      <td>2.977722e+06</td>\n",
       "      <td>2.977722e+06</td>\n",
       "      <td>2977722</td>\n",
       "      <td>2977722</td>\n",
       "      <td>2977722</td>\n",
       "      <td>2.977722e+06</td>\n",
       "      <td>2.977722e+06</td>\n",
       "      <td>2977722</td>\n",
       "    </tr>\n",
       "    <tr>\n",
       "      <th>unique</th>\n",
       "      <td>NaN</td>\n",
       "      <td>NaN</td>\n",
       "      <td>33</td>\n",
       "      <td>NaN</td>\n",
       "      <td>NaN</td>\n",
       "      <td>22</td>\n",
       "      <td>16</td>\n",
       "      <td>5</td>\n",
       "      <td>NaN</td>\n",
       "      <td>NaN</td>\n",
       "      <td>6</td>\n",
       "    </tr>\n",
       "    <tr>\n",
       "      <th>top</th>\n",
       "      <td>NaN</td>\n",
       "      <td>NaN</td>\n",
       "      <td>AUTOMOTIVE</td>\n",
       "      <td>NaN</td>\n",
       "      <td>NaN</td>\n",
       "      <td>Quito</td>\n",
       "      <td>Pichincha</td>\n",
       "      <td>D</td>\n",
       "      <td>NaN</td>\n",
       "      <td>NaN</td>\n",
       "      <td>Work Day</td>\n",
       "    </tr>\n",
       "    <tr>\n",
       "      <th>freq</th>\n",
       "      <td>NaN</td>\n",
       "      <td>NaN</td>\n",
       "      <td>90234</td>\n",
       "      <td>NaN</td>\n",
       "      <td>NaN</td>\n",
       "      <td>992574</td>\n",
       "      <td>1047717</td>\n",
       "      <td>992574</td>\n",
       "      <td>NaN</td>\n",
       "      <td>NaN</td>\n",
       "      <td>2558952</td>\n",
       "    </tr>\n",
       "    <tr>\n",
       "      <th>mean</th>\n",
       "      <td>2015-04-23 09:07:13.034111488</td>\n",
       "      <td>2.750000e+01</td>\n",
       "      <td>NaN</td>\n",
       "      <td>3.567573e+02</td>\n",
       "      <td>2.594631e+00</td>\n",
       "      <td>NaN</td>\n",
       "      <td>NaN</td>\n",
       "      <td>NaN</td>\n",
       "      <td>8.481481e+00</td>\n",
       "      <td>6.799561e+01</td>\n",
       "      <td>NaN</td>\n",
       "    </tr>\n",
       "    <tr>\n",
       "      <th>min</th>\n",
       "      <td>2013-01-01 00:00:00</td>\n",
       "      <td>1.000000e+00</td>\n",
       "      <td>NaN</td>\n",
       "      <td>0.000000e+00</td>\n",
       "      <td>0.000000e+00</td>\n",
       "      <td>NaN</td>\n",
       "      <td>NaN</td>\n",
       "      <td>NaN</td>\n",
       "      <td>1.000000e+00</td>\n",
       "      <td>2.619000e+01</td>\n",
       "      <td>NaN</td>\n",
       "    </tr>\n",
       "    <tr>\n",
       "      <th>25%</th>\n",
       "      <td>2014-02-25 00:00:00</td>\n",
       "      <td>1.400000e+01</td>\n",
       "      <td>NaN</td>\n",
       "      <td>0.000000e+00</td>\n",
       "      <td>0.000000e+00</td>\n",
       "      <td>NaN</td>\n",
       "      <td>NaN</td>\n",
       "      <td>NaN</td>\n",
       "      <td>4.000000e+00</td>\n",
       "      <td>4.641000e+01</td>\n",
       "      <td>NaN</td>\n",
       "    </tr>\n",
       "    <tr>\n",
       "      <th>50%</th>\n",
       "      <td>2015-04-23 00:00:00</td>\n",
       "      <td>2.750000e+01</td>\n",
       "      <td>NaN</td>\n",
       "      <td>1.100000e+01</td>\n",
       "      <td>0.000000e+00</td>\n",
       "      <td>NaN</td>\n",
       "      <td>NaN</td>\n",
       "      <td>NaN</td>\n",
       "      <td>8.500000e+00</td>\n",
       "      <td>5.341000e+01</td>\n",
       "      <td>NaN</td>\n",
       "    </tr>\n",
       "    <tr>\n",
       "      <th>75%</th>\n",
       "      <td>2016-06-20 00:00:00</td>\n",
       "      <td>4.100000e+01</td>\n",
       "      <td>NaN</td>\n",
       "      <td>1.950000e+02</td>\n",
       "      <td>0.000000e+00</td>\n",
       "      <td>NaN</td>\n",
       "      <td>NaN</td>\n",
       "      <td>NaN</td>\n",
       "      <td>1.300000e+01</td>\n",
       "      <td>9.572000e+01</td>\n",
       "      <td>NaN</td>\n",
       "    </tr>\n",
       "    <tr>\n",
       "      <th>max</th>\n",
       "      <td>2017-08-15 00:00:00</td>\n",
       "      <td>5.400000e+01</td>\n",
       "      <td>NaN</td>\n",
       "      <td>1.247170e+05</td>\n",
       "      <td>7.410000e+02</td>\n",
       "      <td>NaN</td>\n",
       "      <td>NaN</td>\n",
       "      <td>NaN</td>\n",
       "      <td>1.700000e+01</td>\n",
       "      <td>1.106200e+02</td>\n",
       "      <td>NaN</td>\n",
       "    </tr>\n",
       "    <tr>\n",
       "      <th>std</th>\n",
       "      <td>NaN</td>\n",
       "      <td>1.558579e+01</td>\n",
       "      <td>NaN</td>\n",
       "      <td>1.097143e+03</td>\n",
       "      <td>1.218108e+01</td>\n",
       "      <td>NaN</td>\n",
       "      <td>NaN</td>\n",
       "      <td>NaN</td>\n",
       "      <td>4.649735e+00</td>\n",
       "      <td>2.567288e+01</td>\n",
       "      <td>NaN</td>\n",
       "    </tr>\n",
       "  </tbody>\n",
       "</table>\n",
       "</div>"
      ],
      "text/plain": [
       "                                 date     store_nbr      family         sales  \\\n",
       "count                         2977722  2.977722e+06     2977722  2.977722e+06   \n",
       "unique                            NaN           NaN          33           NaN   \n",
       "top                               NaN           NaN  AUTOMOTIVE           NaN   \n",
       "freq                              NaN           NaN       90234           NaN   \n",
       "mean    2015-04-23 09:07:13.034111488  2.750000e+01         NaN  3.567573e+02   \n",
       "min               2013-01-01 00:00:00  1.000000e+00         NaN  0.000000e+00   \n",
       "25%               2014-02-25 00:00:00  1.400000e+01         NaN  0.000000e+00   \n",
       "50%               2015-04-23 00:00:00  2.750000e+01         NaN  1.100000e+01   \n",
       "75%               2016-06-20 00:00:00  4.100000e+01         NaN  1.950000e+02   \n",
       "max               2017-08-15 00:00:00  5.400000e+01         NaN  1.247170e+05   \n",
       "std                               NaN  1.558579e+01         NaN  1.097143e+03   \n",
       "\n",
       "         onpromotion     city      state store_type       cluster  \\\n",
       "count   2.977722e+06  2977722    2977722    2977722  2.977722e+06   \n",
       "unique           NaN       22         16          5           NaN   \n",
       "top              NaN    Quito  Pichincha          D           NaN   \n",
       "freq             NaN   992574    1047717     992574           NaN   \n",
       "mean    2.594631e+00      NaN        NaN        NaN  8.481481e+00   \n",
       "min     0.000000e+00      NaN        NaN        NaN  1.000000e+00   \n",
       "25%     0.000000e+00      NaN        NaN        NaN  4.000000e+00   \n",
       "50%     0.000000e+00      NaN        NaN        NaN  8.500000e+00   \n",
       "75%     0.000000e+00      NaN        NaN        NaN  1.300000e+01   \n",
       "max     7.410000e+02      NaN        NaN        NaN  1.700000e+01   \n",
       "std     1.218108e+01      NaN        NaN        NaN  4.649735e+00   \n",
       "\n",
       "          dcoilwtico  day_type  \n",
       "count   2.977722e+06   2977722  \n",
       "unique           NaN         6  \n",
       "top              NaN  Work Day  \n",
       "freq             NaN   2558952  \n",
       "mean    6.799561e+01       NaN  \n",
       "min     2.619000e+01       NaN  \n",
       "25%     4.641000e+01       NaN  \n",
       "50%     5.341000e+01       NaN  \n",
       "75%     9.572000e+01       NaN  \n",
       "max     1.106200e+02       NaN  \n",
       "std     2.567288e+01       NaN  "
      ]
     },
     "execution_count": 41,
     "metadata": {},
     "output_type": "execute_result"
    }
   ],
   "source": [
    "train.describe(include='all')"
   ]
  },
  {
   "cell_type": "markdown",
   "id": "b061cd3a",
   "metadata": {},
   "source": [
    "## Add Feature Engineering"
   ]
  },
  {
   "cell_type": "markdown",
   "id": "7907cef6",
   "metadata": {},
   "source": [
    "To enhance our dataset with time-related insights, we extract several features from the `date` column.  \n",
    "This helps capture seasonal patterns, monthly trends, and weekday effects in sales forecasting."
   ]
  },
  {
   "cell_type": "code",
   "execution_count": 42,
   "id": "878f5d94",
   "metadata": {
    "ExecuteTime": {
     "end_time": "2025-09-21T06:09:12.348800Z",
     "start_time": "2025-09-21T06:08:52.109864Z"
    }
   },
   "outputs": [],
   "source": [
    "train[\"Year\"]=pd.to_datetime(train[\"date\"]).dt.year\n",
    "train[\"Month\"]=pd.to_datetime(train[\"date\"]).dt.month\n",
    "train[\"Day\"]=pd.to_datetime(train[\"date\"]).dt.day\n",
    "train[\"Week_day\"]=train[\"date\"].dt.strftime(\"%A\")"
   ]
  },
  {
   "cell_type": "code",
   "execution_count": 43,
   "id": "12403961",
   "metadata": {
    "ExecuteTime": {
     "end_time": "2025-09-21T06:09:12.760093Z",
     "start_time": "2025-09-21T06:09:12.470740Z"
    }
   },
   "outputs": [],
   "source": [
    "test[\"Year\"]=pd.to_datetime(test[\"date\"]).dt.year\n",
    "test[\"Month\"]=pd.to_datetime(test[\"date\"]).dt.month\n",
    "test[\"Day\"]=pd.to_datetime(test[\"date\"]).dt.day\n",
    "test[\"Week_day\"]=test[\"date\"].dt.strftime(\"%A\")"
   ]
  },
  {
   "cell_type": "code",
   "execution_count": 44,
   "id": "2572e898",
   "metadata": {},
   "outputs": [
    {
     "name": "stdout",
     "output_type": "stream",
     "text": [
      "<class 'pandas.core.frame.DataFrame'>\n",
      "Index: 2977722 entries, 0 to 3000887\n",
      "Data columns (total 15 columns):\n",
      " #   Column       Dtype         \n",
      "---  ------       -----         \n",
      " 0   date         datetime64[ns]\n",
      " 1   store_nbr    int64         \n",
      " 2   family       object        \n",
      " 3   sales        float64       \n",
      " 4   onpromotion  int64         \n",
      " 5   city         object        \n",
      " 6   state        object        \n",
      " 7   store_type   object        \n",
      " 8   cluster      int64         \n",
      " 9   dcoilwtico   float64       \n",
      " 10  day_type     object        \n",
      " 11  Year         int32         \n",
      " 12  Month        int32         \n",
      " 13  Day          int32         \n",
      " 14  Week_day     object        \n",
      "dtypes: datetime64[ns](1), float64(2), int32(3), int64(3), object(6)\n",
      "memory usage: 329.4+ MB\n"
     ]
    }
   ],
   "source": [
    "train.info()"
   ]
  },
  {
   "cell_type": "code",
   "execution_count": 45,
   "id": "e303b87f",
   "metadata": {},
   "outputs": [],
   "source": [
    "# Define lag periods (e.g., 7, 14, 28 days)\n",
    "lag_days = [7, 14, 28]\n",
    "\n",
    "for lag in lag_days:\n",
    "    train[f'sales_lag_{lag}'] = train.groupby(['store_nbr','family'])['sales'].shift(lag)\n",
    "\n",
    "# Create rolling mean features (e.g., 7-day, 14-day, 28-day)\n",
    "window_sizes = [7, 14, 28]\n",
    "\n",
    "for window in window_sizes:\n",
    "    train[f'sales_roll_mean_{window}'] = train.groupby(['store_nbr','family'])['sales'].shift(1).rolling(window).mean()\n",
    "\n",
    "# Fill NaNs in lag/rolling features with 0 (or another strategy)\n",
    "train.fillna(0, inplace=True)\n"
   ]
  },
  {
   "cell_type": "code",
   "execution_count": 46,
   "id": "633f8ceb",
   "metadata": {},
   "outputs": [],
   "source": [
    "categorical_cols = ['family','city','state','store_type','day_type','Week_day']\n",
    "\n",
    "le_dict = {}\n",
    "for col in categorical_cols:\n",
    "    le = LabelEncoder()\n",
    "    train[col] = le.fit_transform(train[col])\n",
    "    test[col] = le.transform(test[col])\n",
    "    le_dict[col] = le  # store for inverse_transform if needed\n"
   ]
  },
  {
   "cell_type": "code",
   "execution_count": 47,
   "id": "51f5e443",
   "metadata": {},
   "outputs": [],
   "source": [
    "target = 'sales'\n",
    "\n",
    "features = [\n",
    "    'store_nbr','onpromotion','cluster','dcoilwtico','Year','Month','Day','Week_day',\n",
    "    'family','city','state','store_type','day_type'\n",
    "]\n",
    "\n",
    "# Add lag and rolling features\n",
    "lag_features = [f'sales_lag_{lag}' for lag in lag_days]\n",
    "rolling_features = [f'sales_roll_mean_{w}' for w in window_sizes]\n",
    "\n",
    "features += lag_features + rolling_features\n"
   ]
  },
  {
   "cell_type": "code",
   "execution_count": 48,
   "id": "87b967d5",
   "metadata": {},
   "outputs": [],
   "source": [
    "# Use last 3 months as validation\n",
    "val_cutoff = '2017-06-01'\n",
    "train_df = train[train['date'] < val_cutoff]\n",
    "val_df = train[train['date'] >= val_cutoff]\n",
    "\n",
    "X_train = train_df[features]\n",
    "y_train = train_df[target]\n",
    "\n",
    "X_val = val_df[features]\n",
    "y_val = val_df[target]\n"
   ]
  },
  {
   "cell_type": "code",
   "execution_count": 49,
   "id": "91dcc332",
   "metadata": {},
   "outputs": [
    {
     "name": "stdout",
     "output_type": "stream",
     "text": [
      "[0]\ttrain-rmse:985.54640\teval-rmse:1210.47868\n",
      "[50]\ttrain-rmse:221.26037\teval-rmse:242.48443\n",
      "[100]\ttrain-rmse:195.50430\teval-rmse:236.92067\n",
      "[150]\ttrain-rmse:180.39317\teval-rmse:233.28549\n",
      "[200]\ttrain-rmse:168.65192\teval-rmse:232.05108\n",
      "[250]\ttrain-rmse:161.03057\teval-rmse:231.31991\n",
      "[281]\ttrain-rmse:156.10489\teval-rmse:232.46703\n"
     ]
    }
   ],
   "source": [
    "import xgboost as xgb\n",
    "from sklearn.metrics import mean_squared_error\n",
    "\n",
    "# Create DMatrix for XGBoost\n",
    "dtrain = xgb.DMatrix(X_train, label=y_train)\n",
    "dval = xgb.DMatrix(X_val, label=y_val)\n",
    "\n",
    "# Set XGBoost parameters\n",
    "params = {\n",
    "    'objective':'reg:squarederror',\n",
    "    'eval_metric':'rmse',\n",
    "    'eta':0.1,\n",
    "    'max_depth':8,\n",
    "    'subsample':0.8,\n",
    "    'colsample_bytree':0.8,\n",
    "    'seed':42\n",
    "}\n",
    "\n",
    "evallist = [(dtrain, 'train'), (dval, 'eval')]\n",
    "\n",
    "# Train model\n",
    "model = xgb.train(params, dtrain, num_boost_round=500, early_stopping_rounds=50, evals=evallist, verbose_eval=50)\n"
   ]
  },
  {
   "cell_type": "code",
   "execution_count": 50,
   "id": "ac932f32",
   "metadata": {},
   "outputs": [
    {
     "name": "stdout",
     "output_type": "stream",
     "text": [
      "Validation RMSE: 48.34120116942862\n"
     ]
    }
   ],
   "source": [
    "# Predict on validation\n",
    "y_pred = model.predict(dval)\n",
    "\n",
    "rmse = np.sqrt(mean_squared_error(y_val, y_pred))\n",
    "print(f'Validation RMSE: {100*rmse/np.mean(y_val)}')\n"
   ]
  },
  {
   "cell_type": "code",
   "execution_count": 51,
   "id": "30da86b2",
   "metadata": {},
   "outputs": [
    {
     "name": "stdout",
     "output_type": "stream",
     "text": [
      "MAE% 12.834162560812535\n"
     ]
    }
   ],
   "source": [
    "from sklearn.metrics import mean_absolute_error\n",
    "MAE=mean_absolute_error(y_val,y_pred)\n",
    "print(\"MAE%\",100*MAE/np.mean(y_val))"
   ]
  },
  {
   "cell_type": "code",
   "execution_count": null,
   "id": "e29edb71",
   "metadata": {},
   "outputs": [],
   "source": []
  }
 ],
 "metadata": {
  "accelerator": "GPU",
  "colab": {
   "gpuType": "T4",
   "provenance": []
  },
  "kernelspec": {
   "display_name": "anac",
   "language": "python",
   "name": "python3"
  },
  "language_info": {
   "codemirror_mode": {
    "name": "ipython",
    "version": 3
   },
   "file_extension": ".py",
   "mimetype": "text/x-python",
   "name": "python",
   "nbconvert_exporter": "python",
   "pygments_lexer": "ipython3",
   "version": "3.13.7"
  }
 },
 "nbformat": 4,
 "nbformat_minor": 5
}
