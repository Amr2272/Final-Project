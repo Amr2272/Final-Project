{
 "cells": [
  {
   "cell_type": "markdown",
   "id": "88f753dc",
   "metadata": {},
   "source": [
    "# Import Libraries"
   ]
  },
  {
   "cell_type": "code",
   "execution_count": 1,
   "id": "f76d11dd",
   "metadata": {},
   "outputs": [],
   "source": [
    "import pandas as pd\n",
    "import warnings\n",
    "import plotly.express as px\n",
    "import plotly.graph_objects as go\n",
    "import dash\n",
    "from dash import dcc, html"
   ]
  },
  {
   "cell_type": "markdown",
   "id": "7bd711c8",
   "metadata": {},
   "source": [
    "# Suppress all FutureWarnings"
   ]
  },
  {
   "cell_type": "code",
   "execution_count": 2,
   "id": "b1cb6cb5",
   "metadata": {},
   "outputs": [],
   "source": [
    "warnings.simplefilter(action='ignore', category=FutureWarning)"
   ]
  },
  {
   "cell_type": "markdown",
   "id": "1b15face",
   "metadata": {},
   "source": [
    "# Loading Data"
   ]
  },
  {
   "cell_type": "code",
   "execution_count": 3,
   "id": "00bc083b",
   "metadata": {},
   "outputs": [],
   "source": [
    "train = pd.read_csv(\"train.csv\", parse_dates=[\"date\"])\n",
    "test = pd.read_csv(\"test.csv\", parse_dates=[\"date\"])\n",
    "stores = pd.read_csv(\"stores.csv\")\n",
    "transactions = pd.read_csv(\"transactions.csv\", parse_dates=[\"date\"])\n",
    "holidays = pd.read_csv(\"holidays_events.csv\", parse_dates=[\"date\"])\n",
    "oil = pd.read_csv(\"oil.csv\", parse_dates=[\"date\"])"
   ]
  },
  {
   "cell_type": "markdown",
   "id": "289ba7c2",
   "metadata": {},
   "source": [
    "# Merge Auxiliary Data into df\n",
    "\n",
    "- **stores.csv** → Adds store information (city, state, type, cluster).\n",
    "\n",
    "- **transactions.csv** → Adds daily transactions per store.\n",
    "\n",
    "- **oil.csv** → Adds oil prices (missing values forward-filled).\n",
    "\n",
    "- **holidays_events.csv** → Adds holiday/event type for each date."
   ]
  },
  {
   "cell_type": "code",
   "execution_count": 4,
   "id": "cea9b214",
   "metadata": {},
   "outputs": [],
   "source": [
    "df = train.merge(stores, on=\"store_nbr\", how=\"left\")\n",
    "df = df.merge(transactions, on=[\"date\", \"store_nbr\"], how=\"left\")\n",
    "oil[\"dcoilwtico\"] = oil[\"dcoilwtico\"].fillna(method=\"ffill\")\n",
    "df = df.merge(oil, on=\"date\", how=\"left\")\n",
    "df = df.merge(holidays[[\"date\",\"type\"]], on=\"date\", how=\"left\")"
   ]
  },
  {
   "cell_type": "markdown",
   "id": "9454b2da",
   "metadata": {},
   "source": [
    "## Remove Duplicate"
   ]
  },
  {
   "cell_type": "code",
   "execution_count": 5,
   "id": "a7b702e8",
   "metadata": {},
   "outputs": [
    {
     "name": "stdout",
     "output_type": "stream",
     "text": [
      "Removed 30294 duplicate rows.\n"
     ]
    },
    {
     "data": {
      "text/plain": [
       "(3024054, 13)"
      ]
     },
     "execution_count": 5,
     "metadata": {},
     "output_type": "execute_result"
    }
   ],
   "source": [
    "initial_rows = df.shape[0]\n",
    "df = df.drop_duplicates()\n",
    "print(f\"Removed {initial_rows - df.shape[0]} duplicate rows.\")\n",
    "df.shape"
   ]
  },
  {
   "cell_type": "markdown",
   "id": "73fbb275",
   "metadata": {},
   "source": [
    "## Fill Missing values in type_y"
   ]
  },
  {
   "cell_type": "code",
   "execution_count": 6,
   "id": "e2a172f0",
   "metadata": {},
   "outputs": [],
   "source": [
    "df['type_y'] = df['type_y'].fillna('Work Day')"
   ]
  },
  {
   "cell_type": "markdown",
   "id": "8ca78ec1",
   "metadata": {},
   "source": [
    "## Average Sales per day_type"
   ]
  },
  {
   "cell_type": "code",
   "execution_count": 7,
   "id": "21a81002",
   "metadata": {},
   "outputs": [
    {
     "data": {
      "application/vnd.microsoft.datawrangler.viewer.v0+json": {
       "columns": [
        {
         "name": "index",
         "rawType": "int64",
         "type": "integer"
        },
        {
         "name": "type_y",
         "rawType": "object",
         "type": "string"
        },
        {
         "name": "sales",
         "rawType": "float64",
         "type": "float"
        }
       ],
       "ref": "49e75cc4-ac22-40dd-909d-761562b645ee",
       "rows": [
        [
         "0",
         "Additional",
         "487.6289251602191"
        ],
        [
         "4",
         "Transfer",
         "467.75311008471135"
        ],
        [
         "1",
         "Bridge",
         "446.7508539567901"
        ],
        [
         "2",
         "Event",
         "425.0244320791776"
        ],
        [
         "3",
         "Holiday",
         "356.3759825171279"
        ],
        [
         "5",
         "Work Day",
         "352.22876422023677"
        ]
       ],
       "shape": {
        "columns": 2,
        "rows": 6
       }
      },
      "text/html": [
       "<div>\n",
       "<style scoped>\n",
       "    .dataframe tbody tr th:only-of-type {\n",
       "        vertical-align: middle;\n",
       "    }\n",
       "\n",
       "    .dataframe tbody tr th {\n",
       "        vertical-align: top;\n",
       "    }\n",
       "\n",
       "    .dataframe thead th {\n",
       "        text-align: right;\n",
       "    }\n",
       "</style>\n",
       "<table border=\"1\" class=\"dataframe\">\n",
       "  <thead>\n",
       "    <tr style=\"text-align: right;\">\n",
       "      <th></th>\n",
       "      <th>type_y</th>\n",
       "      <th>sales</th>\n",
       "    </tr>\n",
       "  </thead>\n",
       "  <tbody>\n",
       "    <tr>\n",
       "      <th>0</th>\n",
       "      <td>Additional</td>\n",
       "      <td>487.628925</td>\n",
       "    </tr>\n",
       "    <tr>\n",
       "      <th>4</th>\n",
       "      <td>Transfer</td>\n",
       "      <td>467.753110</td>\n",
       "    </tr>\n",
       "    <tr>\n",
       "      <th>1</th>\n",
       "      <td>Bridge</td>\n",
       "      <td>446.750854</td>\n",
       "    </tr>\n",
       "    <tr>\n",
       "      <th>2</th>\n",
       "      <td>Event</td>\n",
       "      <td>425.024432</td>\n",
       "    </tr>\n",
       "    <tr>\n",
       "      <th>3</th>\n",
       "      <td>Holiday</td>\n",
       "      <td>356.375983</td>\n",
       "    </tr>\n",
       "    <tr>\n",
       "      <th>5</th>\n",
       "      <td>Work Day</td>\n",
       "      <td>352.228764</td>\n",
       "    </tr>\n",
       "  </tbody>\n",
       "</table>\n",
       "</div>"
      ],
      "text/plain": [
       "       type_y       sales\n",
       "0  Additional  487.628925\n",
       "4    Transfer  467.753110\n",
       "1      Bridge  446.750854\n",
       "2       Event  425.024432\n",
       "3     Holiday  356.375983\n",
       "5    Work Day  352.228764"
      ]
     },
     "execution_count": 7,
     "metadata": {},
     "output_type": "execute_result"
    }
   ],
   "source": [
    "df.groupby(\"type_y\", as_index=False)[\"sales\"].mean().sort_values(\"sales\", ascending=False)"
   ]
  },
  {
   "cell_type": "markdown",
   "id": "53db70c4",
   "metadata": {},
   "source": [
    "## Handle Duplicated  in Holidays Events"
   ]
  },
  {
   "cell_type": "code",
   "execution_count": 8,
   "id": "7700a69b",
   "metadata": {},
   "outputs": [],
   "source": [
    "holiday_priority ={\n",
    "    'Holiday': 2,\n",
    "    'Bridge': 4,\n",
    "    'Transfer': 5,\n",
    "    'Additional': 6,\n",
    "    'Work Day': 1,\n",
    "    'Event': 3\n",
    "}"
   ]
  },
  {
   "cell_type": "code",
   "execution_count": 9,
   "id": "91e039f7",
   "metadata": {},
   "outputs": [],
   "source": [
    "holidays[\"priority\"] = holidays[\"type\"].map(holiday_priority)\n",
    "idx=holidays.groupby(\"date\")[\"priority\"].idxmax()\n",
    "holidays=holidays.loc[idx].reset_index(drop=True)"
   ]
  },
  {
   "cell_type": "markdown",
   "id": "072c3b91",
   "metadata": {},
   "source": [
    "# Merge Auxiliary Data into Train\n"
   ]
  },
  {
   "cell_type": "code",
   "execution_count": 10,
   "id": "5f72b9f7",
   "metadata": {},
   "outputs": [],
   "source": [
    "train = train.merge(stores, on=\"store_nbr\", how=\"left\")\n",
    "train = train.merge(transactions, on=[\"date\", \"store_nbr\"], how=\"left\")\n",
    "oil[\"dcoilwtico\"] = oil[\"dcoilwtico\"].fillna(method=\"ffill\")\n",
    "train = train.merge(oil, on=\"date\", how=\"left\")\n",
    "train = train.merge(holidays[[\"date\",\"type\"]], on=\"date\", how=\"left\")"
   ]
  },
  {
   "cell_type": "markdown",
   "id": "13031b5a",
   "metadata": {},
   "source": [
    "# Merge Auxiliary Data into test\n"
   ]
  },
  {
   "cell_type": "code",
   "execution_count": 11,
   "id": "abaf0509",
   "metadata": {},
   "outputs": [],
   "source": [
    "test = test.merge(stores, on=\"store_nbr\", how=\"left\")\n",
    "test = test.merge(transactions, on=[\"date\", \"store_nbr\"], how=\"left\")\n",
    "test = test.merge(oil, on=\"date\", how=\"left\")\n",
    "test = test.merge(holidays[[\"date\",\"type\"]], on=\"date\", how=\"left\")"
   ]
  },
  {
   "cell_type": "markdown",
   "id": "2809cd8e",
   "metadata": {},
   "source": [
    "### Renaming Columns for Clarity\n",
    "\n",
    "- After merging multiple datasets, some columns inherited generic names like `type_x` and `type_y`.  \n",
    "- To make the dataset more interpretable, we renamed them:\n",
    "\n",
    "    - **type_x** (coming from stores.csv) →  **store_type**\n",
    "\n",
    "        Indicates the type of store (A, B, C, or D).\n",
    "\n",
    "    - **type_y** (coming from holidays_events.csv) → **day_type**\n",
    "\n",
    "        Classifies each date as either a special event (Holiday, Transfer, Additional, Event, etc.) or a regular Work Day (for dates without special events)."
   ]
  },
  {
   "cell_type": "code",
   "execution_count": 12,
   "id": "5f475921",
   "metadata": {},
   "outputs": [],
   "source": [
    "train = train.rename(columns={\n",
    "    'type_x': 'store_type',\n",
    "    'type_y': 'day_type'\n",
    "})\n",
    "test = test.rename(columns={\n",
    "    'type_x': 'store_type',\n",
    "    'type_y': 'day_type'\n",
    "})"
   ]
  },
  {
   "cell_type": "markdown",
   "id": "c07382b2",
   "metadata": {},
   "source": [
    "# Check Duplicates"
   ]
  },
  {
   "cell_type": "code",
   "execution_count": 13,
   "id": "cad25c83",
   "metadata": {},
   "outputs": [
    {
     "name": "stdout",
     "output_type": "stream",
     "text": [
      "0\n",
      "0\n"
     ]
    }
   ],
   "source": [
    "print(train.duplicated().sum())\n",
    "print(test.duplicated().sum())"
   ]
  },
  {
   "cell_type": "code",
   "execution_count": 14,
   "id": "f75a0a14",
   "metadata": {},
   "outputs": [
    {
     "name": "stdout",
     "output_type": "stream",
     "text": [
      "Removed 0 duplicate rows.\n"
     ]
    },
    {
     "data": {
      "text/plain": [
       "(3000888, 13)"
      ]
     },
     "execution_count": 14,
     "metadata": {},
     "output_type": "execute_result"
    }
   ],
   "source": [
    "initial_rows = train.shape[0]\n",
    "train = train.drop_duplicates()\n",
    "print(f\"Removed {initial_rows - train.shape[0]} duplicate rows.\")\n",
    "train.shape"
   ]
  },
  {
   "cell_type": "markdown",
   "id": "27f7959d",
   "metadata": {},
   "source": [
    "# Hidden Duplicates"
   ]
  },
  {
   "cell_type": "markdown",
   "id": "2fc46e31",
   "metadata": {},
   "source": [
    "## Handle missing values\n",
    "- Logical imputation strategies:  \n",
    "  - `transactions`: median per store.  \n",
    "  - `dcoilwtico`: forward-fill.  \n",
    "  - `day_type`: fill NaN with `\"Work Day\"`.  "
   ]
  },
  {
   "cell_type": "code",
   "execution_count": 15,
   "id": "aa41693a",
   "metadata": {},
   "outputs": [],
   "source": [
    "train['dcoilwtico'] = train['dcoilwtico'].fillna(method='ffill').fillna(method='bfill')\n",
    "train['day_type'] = train['day_type'].fillna('Work Day')\n",
    "test['dcoilwtico'] = test['dcoilwtico'].fillna(method='ffill').fillna(method='bfill')\n",
    "test['day_type'] = test['day_type'].fillna('Work Day')\n",
    "\n",
    "train.drop(\"transactions\", axis=1, inplace=True)\n",
    "test.drop(\"transactions\", axis=1, inplace=True)"
   ]
  },
  {
   "cell_type": "markdown",
   "id": "e98a0ca5",
   "metadata": {},
   "source": [
    "# Feature Engineering"
   ]
  },
  {
   "cell_type": "code",
   "execution_count": 16,
   "id": "2b3eea78",
   "metadata": {},
   "outputs": [],
   "source": [
    "train[\"Year\"] = train[\"date\"].dt.year\n",
    "train[\"Month\"] = train[\"date\"].dt.month\n",
    "train[\"Day\"] = train[\"date\"].dt.day\n",
    "train[\"Week_day\"] = train[\"date\"].dt.strftime(\"%A\")\n",
    "\n",
    "test[\"Year\"] = test[\"date\"].dt.year\n",
    "test[\"Month\"] = test[\"date\"].dt.month\n",
    "test[\"Day\"] = test[\"date\"].dt.day\n",
    "test[\"Week_day\"] = test[\"date\"].dt.strftime(\"%A\")"
   ]
  },
  {
   "cell_type": "markdown",
   "id": "d66e0956",
   "metadata": {},
   "source": [
    "# Figures"
   ]
  },
  {
   "cell_type": "markdown",
   "id": "ae2ce455",
   "metadata": {},
   "source": [
    "## # 1) Global + top stores sales"
   ]
  },
  {
   "cell_type": "code",
   "execution_count": 17,
   "id": "d93b961e",
   "metadata": {},
   "outputs": [],
   "source": [
    "daily_global = train.groupby('date', as_index=False)['sales'].sum()\n",
    "top_stores = train.groupby('store_nbr')['sales'].sum().nlargest(5).index\n",
    "\n",
    "fig = go.Figure()\n",
    "fig.add_trace(go.Scatter(x=daily_global['date'], y=daily_global['sales'], mode='lines', name=\"Global\"))\n",
    "for store in top_stores:\n",
    "    df_store = train[train['store_nbr'] == store].groupby('date', as_index=False)['sales'].sum()\n",
    "    fig.add_trace(go.Scatter(x=df_store['date'], y=df_store['sales'], mode='lines', name=f\"Store {store}\"))\n",
    "fig.update_layout(title=\"Daily Sales (Global + Top Stores)\", xaxis_title=\"Date\", yaxis_title=\"Sales\")\n",
    "sales_timeline_fig = fig\n"
   ]
  },
  {
   "cell_type": "markdown",
   "id": "9036da22",
   "metadata": {},
   "source": [
    "## 2) Family sales\n"
   ]
  },
  {
   "cell_type": "code",
   "execution_count": 18,
   "id": "2c88e260",
   "metadata": {},
   "outputs": [],
   "source": [
    "top_fam = train.groupby('family')['sales'].sum().nlargest(12).index\n",
    "fig = go.Figure()\n",
    "for fam in top_fam:\n",
    "    df_f = train[train['family'] == fam].groupby('date', as_index=False)['sales'].sum()\n",
    "    fig.add_trace(go.Scatter(x=df_f['date'], y=df_f['sales'], mode='lines', name=fam))\n",
    "fig.update_layout(title=\"Daily Sales (Top Families)\", xaxis_title=\"Date\", yaxis_title=\"Sales\")\n",
    "family_sales_fig = fig"
   ]
  },
  {
   "cell_type": "markdown",
   "id": "2e87cd90",
   "metadata": {},
   "source": [
    "## 3) Monthly distribution"
   ]
  },
  {
   "cell_type": "code",
   "execution_count": 19,
   "id": "eea3931c",
   "metadata": {},
   "outputs": [],
   "source": [
    "monthly = train.copy()\n",
    "monthly['YearMonth'] = monthly['date'].dt.to_period('M').dt.to_timestamp()\n",
    "month_agg = monthly.groupby(['YearMonth'], as_index=False)['sales'].sum()\n",
    "month_agg['month'] = month_agg['YearMonth'].dt.month\n",
    "fig = px.box(month_agg, x='month', y='sales', points='outliers', title='Distribution of Monthly Sales by Month')\n",
    "fig.update_xaxes(tickmode='array', tickvals=list(range(1,13)))\n",
    "monthly_box_fig = fig"
   ]
  },
  {
   "cell_type": "markdown",
   "id": "857686a5",
   "metadata": {},
   "source": [
    "## 4) Weekday sales"
   ]
  },
  {
   "cell_type": "code",
   "execution_count": 20,
   "id": "49bc557d",
   "metadata": {},
   "outputs": [],
   "source": [
    "weekday = train.copy()\n",
    "weekday['Week_day'] = pd.Categorical(weekday['Week_day'],\n",
    "    categories=['Monday','Tuesday','Wednesday','Thursday','Friday','Saturday','Sunday'], ordered=True)\n",
    "weekday['year'] = weekday['date'].dt.year\n",
    "weekday_avg = weekday.groupby(['year','Week_day'], as_index=False)['sales'].mean()\n",
    "weekday_all = weekday.groupby(['Week_day'], as_index=False)['sales'].mean()\n",
    "\n",
    "fig = go.Figure()\n",
    "fig.add_bar(x=weekday_all['Week_day'], y=weekday_all['sales'], name=\"All Years\")\n",
    "for y in sorted(weekday_avg['year'].unique()):\n",
    "    df_year = weekday_avg[weekday_avg['year']==y]\n",
    "    fig.add_trace(go.Scatter(x=df_year['Week_day'], y=df_year['sales'], mode='lines+markers', name=str(y)))\n",
    "fig.update_layout(title=\"Average Sales by Weekday\", xaxis_title=\"Weekday\", yaxis_title=\"Average Sales\")\n",
    "weekday_analysis_fig = fig\n"
   ]
  },
  {
   "cell_type": "markdown",
   "id": "f8ac6609",
   "metadata": {},
   "source": [
    "## 5) Oil correlation"
   ]
  },
  {
   "cell_type": "code",
   "execution_count": 21,
   "id": "de96f57c",
   "metadata": {},
   "outputs": [],
   "source": [
    "oil_daily = train[['date','dcoilwtico','sales']].dropna().groupby('date', as_index=False).agg({'dcoilwtico':'mean','sales':'sum'})\n",
    "oil_scatter_fig = px.scatter(oil_daily, x='dcoilwtico', y='sales', trendline='ols', title='Oil Price vs Sales')\n",
    "fig = go.Figure()\n",
    "fig.add_trace(go.Scatter(x=oil_daily['date'], y=oil_daily['sales'], name='Sales'))\n",
    "fig.add_trace(go.Scatter(x=oil_daily['date'], y=oil_daily['dcoilwtico'], name='Oil Price', yaxis=\"y2\"))\n",
    "fig.update_layout(title='Sales & Oil Price Over Time',\n",
    "                  yaxis=dict(title='Sales'),\n",
    "                  yaxis2=dict(title='Oil Price', overlaying='y', side='right'))\n",
    "oil_timeseries_fig = fig"
   ]
  },
  {
   "cell_type": "markdown",
   "id": "a6a9d6e0",
   "metadata": {},
   "source": [
    "## 6) City & State\n"
   ]
  },
  {
   "cell_type": "code",
   "execution_count": 22,
   "id": "b30b82f7",
   "metadata": {},
   "outputs": [],
   "source": [
    "city_sum = train.groupby('city', as_index=False)['sales'].sum().sort_values('sales', ascending=False)\n",
    "city_treemap_fig = px.treemap(city_sum, path=['city'], values='sales', title='Sales Treemap by City')\n",
    "state_sum = train.groupby('state', as_index=False)['sales'].sum().sort_values('sales', ascending=False)\n",
    "state_bar_fig = px.bar(state_sum.head(15), x='state', y='sales', title='Top 15 States by Sales')"
   ]
  },
  {
   "cell_type": "markdown",
   "id": "ff4edea3",
   "metadata": {},
   "source": [
    "## 7) Store type"
   ]
  },
  {
   "cell_type": "code",
   "execution_count": 23,
   "id": "c33848e3",
   "metadata": {},
   "outputs": [],
   "source": [
    "ct = train.groupby(['date','store_type'], as_index=False)['sales'].sum()\n",
    "fig = go.Figure()\n",
    "for st in ct['store_type'].unique():\n",
    "    df = ct[ct['store_type'] == st]\n",
    "    fig.add_trace(go.Scatter(x=df['date'], y=df['sales'], mode='lines', name=st))\n",
    "fig.update_layout(title=\"Sales Over Time by Store Type\", xaxis_title=\"Date\", yaxis_title=\"Sales\")\n",
    "store_type_fig = fig"
   ]
  },
  {
   "cell_type": "markdown",
   "id": "d14f92f8",
   "metadata": {},
   "source": [
    "## 8) Monthly trends by year\n"
   ]
  },
  {
   "cell_type": "code",
   "execution_count": 24,
   "id": "24c5fa20",
   "metadata": {},
   "outputs": [],
   "source": [
    "cal = train.groupby('date', as_index=False)['sales'].sum()\n",
    "cal['year'] = cal['date'].dt.year\n",
    "cal['month'] = cal['date'].dt.month\n",
    "monthly = cal.groupby(['year','month'], as_index=False)['sales'].sum()\n",
    "monthly['month_name'] = pd.to_datetime(monthly['month'], format='%m').dt.strftime('%b')\n",
    "month_order = [\"Jan\",\"Feb\",\"Mar\",\"Apr\",\"May\",\"Jun\",\"Jul\",\"Aug\",\"Sep\",\"Oct\",\"Nov\",\"Dec\"]\n",
    "monthly_trends_fig = px.line(monthly, x='month_name', y='sales', color='year', markers=True,\n",
    "                             category_orders={\"month_name\": month_order}, title=\"Monthly Sales Trends by Year\")"
   ]
  },
  {
   "cell_type": "markdown",
   "id": "2bf64bc4",
   "metadata": {},
   "source": [
    "## 9) Time series metrics"
   ]
  },
  {
   "cell_type": "code",
   "execution_count": 25,
   "id": "df4d4944",
   "metadata": {},
   "outputs": [],
   "source": [
    "time_df = train[['date','sales','onpromotion','dcoilwtico']].groupby('date', as_index=False).mean()\n",
    "fig = go.Figure()\n",
    "for col in ['sales','onpromotion','dcoilwtico']:\n",
    "    fig.add_trace(go.Scatter(x=time_df['date'], y=time_df[col], mode='lines', name=col))\n",
    "fig.update_layout(title=\"Time Series Metrics\", xaxis_title=\"Date\", yaxis_title=\"Value\")\n",
    "time_series_metrics_fig = fig"
   ]
  },
  {
   "cell_type": "markdown",
   "id": "e09afbaa",
   "metadata": {},
   "source": [
    "## 10) KPIs"
   ]
  },
  {
   "cell_type": "code",
   "execution_count": 26,
   "id": "66e3c31c",
   "metadata": {},
   "outputs": [
    {
     "data": {
      "application/vnd.plotly.v1+json": {
       "config": {
        "plotlyServerURL": "https://plot.ly"
       },
       "data": [
        {
         "domain": {
          "column": 0,
          "row": 0
         },
         "mode": "number",
         "title": {
          "text": "Total Sales"
         },
         "type": "indicator",
         "value": 1073644952.2030684
        },
        {
         "domain": {
          "column": 1,
          "row": 0
         },
         "mode": "number",
         "title": {
          "text": "Median Sale"
         },
         "type": "indicator",
         "value": 11
        },
        {
         "domain": {
          "column": 2,
          "row": 0
         },
         "mode": "number",
         "title": {
          "text": "Mean Sale"
         },
         "type": "indicator",
         "value": 357.77574911261877
        },
        {
         "domain": {
          "column": 3,
          "row": 0
         },
         "mode": "number",
         "title": {
          "text": "Max Sale"
         },
         "type": "indicator",
         "value": 124717
        }
       ],
       "layout": {
        "grid": {
         "columns": 4,
         "rows": 1
        },
        "template": {
         "data": {
          "bar": [
           {
            "error_x": {
             "color": "#2a3f5f"
            },
            "error_y": {
             "color": "#2a3f5f"
            },
            "marker": {
             "line": {
              "color": "#E5ECF6",
              "width": 0.5
             },
             "pattern": {
              "fillmode": "overlay",
              "size": 10,
              "solidity": 0.2
             }
            },
            "type": "bar"
           }
          ],
          "barpolar": [
           {
            "marker": {
             "line": {
              "color": "#E5ECF6",
              "width": 0.5
             },
             "pattern": {
              "fillmode": "overlay",
              "size": 10,
              "solidity": 0.2
             }
            },
            "type": "barpolar"
           }
          ],
          "carpet": [
           {
            "aaxis": {
             "endlinecolor": "#2a3f5f",
             "gridcolor": "white",
             "linecolor": "white",
             "minorgridcolor": "white",
             "startlinecolor": "#2a3f5f"
            },
            "baxis": {
             "endlinecolor": "#2a3f5f",
             "gridcolor": "white",
             "linecolor": "white",
             "minorgridcolor": "white",
             "startlinecolor": "#2a3f5f"
            },
            "type": "carpet"
           }
          ],
          "choropleth": [
           {
            "colorbar": {
             "outlinewidth": 0,
             "ticks": ""
            },
            "type": "choropleth"
           }
          ],
          "contour": [
           {
            "colorbar": {
             "outlinewidth": 0,
             "ticks": ""
            },
            "colorscale": [
             [
              0,
              "#0d0887"
             ],
             [
              0.1111111111111111,
              "#46039f"
             ],
             [
              0.2222222222222222,
              "#7201a8"
             ],
             [
              0.3333333333333333,
              "#9c179e"
             ],
             [
              0.4444444444444444,
              "#bd3786"
             ],
             [
              0.5555555555555556,
              "#d8576b"
             ],
             [
              0.6666666666666666,
              "#ed7953"
             ],
             [
              0.7777777777777778,
              "#fb9f3a"
             ],
             [
              0.8888888888888888,
              "#fdca26"
             ],
             [
              1,
              "#f0f921"
             ]
            ],
            "type": "contour"
           }
          ],
          "contourcarpet": [
           {
            "colorbar": {
             "outlinewidth": 0,
             "ticks": ""
            },
            "type": "contourcarpet"
           }
          ],
          "heatmap": [
           {
            "colorbar": {
             "outlinewidth": 0,
             "ticks": ""
            },
            "colorscale": [
             [
              0,
              "#0d0887"
             ],
             [
              0.1111111111111111,
              "#46039f"
             ],
             [
              0.2222222222222222,
              "#7201a8"
             ],
             [
              0.3333333333333333,
              "#9c179e"
             ],
             [
              0.4444444444444444,
              "#bd3786"
             ],
             [
              0.5555555555555556,
              "#d8576b"
             ],
             [
              0.6666666666666666,
              "#ed7953"
             ],
             [
              0.7777777777777778,
              "#fb9f3a"
             ],
             [
              0.8888888888888888,
              "#fdca26"
             ],
             [
              1,
              "#f0f921"
             ]
            ],
            "type": "heatmap"
           }
          ],
          "histogram": [
           {
            "marker": {
             "pattern": {
              "fillmode": "overlay",
              "size": 10,
              "solidity": 0.2
             }
            },
            "type": "histogram"
           }
          ],
          "histogram2d": [
           {
            "colorbar": {
             "outlinewidth": 0,
             "ticks": ""
            },
            "colorscale": [
             [
              0,
              "#0d0887"
             ],
             [
              0.1111111111111111,
              "#46039f"
             ],
             [
              0.2222222222222222,
              "#7201a8"
             ],
             [
              0.3333333333333333,
              "#9c179e"
             ],
             [
              0.4444444444444444,
              "#bd3786"
             ],
             [
              0.5555555555555556,
              "#d8576b"
             ],
             [
              0.6666666666666666,
              "#ed7953"
             ],
             [
              0.7777777777777778,
              "#fb9f3a"
             ],
             [
              0.8888888888888888,
              "#fdca26"
             ],
             [
              1,
              "#f0f921"
             ]
            ],
            "type": "histogram2d"
           }
          ],
          "histogram2dcontour": [
           {
            "colorbar": {
             "outlinewidth": 0,
             "ticks": ""
            },
            "colorscale": [
             [
              0,
              "#0d0887"
             ],
             [
              0.1111111111111111,
              "#46039f"
             ],
             [
              0.2222222222222222,
              "#7201a8"
             ],
             [
              0.3333333333333333,
              "#9c179e"
             ],
             [
              0.4444444444444444,
              "#bd3786"
             ],
             [
              0.5555555555555556,
              "#d8576b"
             ],
             [
              0.6666666666666666,
              "#ed7953"
             ],
             [
              0.7777777777777778,
              "#fb9f3a"
             ],
             [
              0.8888888888888888,
              "#fdca26"
             ],
             [
              1,
              "#f0f921"
             ]
            ],
            "type": "histogram2dcontour"
           }
          ],
          "mesh3d": [
           {
            "colorbar": {
             "outlinewidth": 0,
             "ticks": ""
            },
            "type": "mesh3d"
           }
          ],
          "parcoords": [
           {
            "line": {
             "colorbar": {
              "outlinewidth": 0,
              "ticks": ""
             }
            },
            "type": "parcoords"
           }
          ],
          "pie": [
           {
            "automargin": true,
            "type": "pie"
           }
          ],
          "scatter": [
           {
            "fillpattern": {
             "fillmode": "overlay",
             "size": 10,
             "solidity": 0.2
            },
            "type": "scatter"
           }
          ],
          "scatter3d": [
           {
            "line": {
             "colorbar": {
              "outlinewidth": 0,
              "ticks": ""
             }
            },
            "marker": {
             "colorbar": {
              "outlinewidth": 0,
              "ticks": ""
             }
            },
            "type": "scatter3d"
           }
          ],
          "scattercarpet": [
           {
            "marker": {
             "colorbar": {
              "outlinewidth": 0,
              "ticks": ""
             }
            },
            "type": "scattercarpet"
           }
          ],
          "scattergeo": [
           {
            "marker": {
             "colorbar": {
              "outlinewidth": 0,
              "ticks": ""
             }
            },
            "type": "scattergeo"
           }
          ],
          "scattergl": [
           {
            "marker": {
             "colorbar": {
              "outlinewidth": 0,
              "ticks": ""
             }
            },
            "type": "scattergl"
           }
          ],
          "scattermap": [
           {
            "marker": {
             "colorbar": {
              "outlinewidth": 0,
              "ticks": ""
             }
            },
            "type": "scattermap"
           }
          ],
          "scattermapbox": [
           {
            "marker": {
             "colorbar": {
              "outlinewidth": 0,
              "ticks": ""
             }
            },
            "type": "scattermapbox"
           }
          ],
          "scatterpolar": [
           {
            "marker": {
             "colorbar": {
              "outlinewidth": 0,
              "ticks": ""
             }
            },
            "type": "scatterpolar"
           }
          ],
          "scatterpolargl": [
           {
            "marker": {
             "colorbar": {
              "outlinewidth": 0,
              "ticks": ""
             }
            },
            "type": "scatterpolargl"
           }
          ],
          "scatterternary": [
           {
            "marker": {
             "colorbar": {
              "outlinewidth": 0,
              "ticks": ""
             }
            },
            "type": "scatterternary"
           }
          ],
          "surface": [
           {
            "colorbar": {
             "outlinewidth": 0,
             "ticks": ""
            },
            "colorscale": [
             [
              0,
              "#0d0887"
             ],
             [
              0.1111111111111111,
              "#46039f"
             ],
             [
              0.2222222222222222,
              "#7201a8"
             ],
             [
              0.3333333333333333,
              "#9c179e"
             ],
             [
              0.4444444444444444,
              "#bd3786"
             ],
             [
              0.5555555555555556,
              "#d8576b"
             ],
             [
              0.6666666666666666,
              "#ed7953"
             ],
             [
              0.7777777777777778,
              "#fb9f3a"
             ],
             [
              0.8888888888888888,
              "#fdca26"
             ],
             [
              1,
              "#f0f921"
             ]
            ],
            "type": "surface"
           }
          ],
          "table": [
           {
            "cells": {
             "fill": {
              "color": "#EBF0F8"
             },
             "line": {
              "color": "white"
             }
            },
            "header": {
             "fill": {
              "color": "#C8D4E3"
             },
             "line": {
              "color": "white"
             }
            },
            "type": "table"
           }
          ]
         },
         "layout": {
          "annotationdefaults": {
           "arrowcolor": "#2a3f5f",
           "arrowhead": 0,
           "arrowwidth": 1
          },
          "autotypenumbers": "strict",
          "coloraxis": {
           "colorbar": {
            "outlinewidth": 0,
            "ticks": ""
           }
          },
          "colorscale": {
           "diverging": [
            [
             0,
             "#8e0152"
            ],
            [
             0.1,
             "#c51b7d"
            ],
            [
             0.2,
             "#de77ae"
            ],
            [
             0.3,
             "#f1b6da"
            ],
            [
             0.4,
             "#fde0ef"
            ],
            [
             0.5,
             "#f7f7f7"
            ],
            [
             0.6,
             "#e6f5d0"
            ],
            [
             0.7,
             "#b8e186"
            ],
            [
             0.8,
             "#7fbc41"
            ],
            [
             0.9,
             "#4d9221"
            ],
            [
             1,
             "#276419"
            ]
           ],
           "sequential": [
            [
             0,
             "#0d0887"
            ],
            [
             0.1111111111111111,
             "#46039f"
            ],
            [
             0.2222222222222222,
             "#7201a8"
            ],
            [
             0.3333333333333333,
             "#9c179e"
            ],
            [
             0.4444444444444444,
             "#bd3786"
            ],
            [
             0.5555555555555556,
             "#d8576b"
            ],
            [
             0.6666666666666666,
             "#ed7953"
            ],
            [
             0.7777777777777778,
             "#fb9f3a"
            ],
            [
             0.8888888888888888,
             "#fdca26"
            ],
            [
             1,
             "#f0f921"
            ]
           ],
           "sequentialminus": [
            [
             0,
             "#0d0887"
            ],
            [
             0.1111111111111111,
             "#46039f"
            ],
            [
             0.2222222222222222,
             "#7201a8"
            ],
            [
             0.3333333333333333,
             "#9c179e"
            ],
            [
             0.4444444444444444,
             "#bd3786"
            ],
            [
             0.5555555555555556,
             "#d8576b"
            ],
            [
             0.6666666666666666,
             "#ed7953"
            ],
            [
             0.7777777777777778,
             "#fb9f3a"
            ],
            [
             0.8888888888888888,
             "#fdca26"
            ],
            [
             1,
             "#f0f921"
            ]
           ]
          },
          "colorway": [
           "#636efa",
           "#EF553B",
           "#00cc96",
           "#ab63fa",
           "#FFA15A",
           "#19d3f3",
           "#FF6692",
           "#B6E880",
           "#FF97FF",
           "#FECB52"
          ],
          "font": {
           "color": "#2a3f5f"
          },
          "geo": {
           "bgcolor": "white",
           "lakecolor": "white",
           "landcolor": "#E5ECF6",
           "showlakes": true,
           "showland": true,
           "subunitcolor": "white"
          },
          "hoverlabel": {
           "align": "left"
          },
          "hovermode": "closest",
          "mapbox": {
           "style": "light"
          },
          "paper_bgcolor": "white",
          "plot_bgcolor": "#E5ECF6",
          "polar": {
           "angularaxis": {
            "gridcolor": "white",
            "linecolor": "white",
            "ticks": ""
           },
           "bgcolor": "#E5ECF6",
           "radialaxis": {
            "gridcolor": "white",
            "linecolor": "white",
            "ticks": ""
           }
          },
          "scene": {
           "xaxis": {
            "backgroundcolor": "#E5ECF6",
            "gridcolor": "white",
            "gridwidth": 2,
            "linecolor": "white",
            "showbackground": true,
            "ticks": "",
            "zerolinecolor": "white"
           },
           "yaxis": {
            "backgroundcolor": "#E5ECF6",
            "gridcolor": "white",
            "gridwidth": 2,
            "linecolor": "white",
            "showbackground": true,
            "ticks": "",
            "zerolinecolor": "white"
           },
           "zaxis": {
            "backgroundcolor": "#E5ECF6",
            "gridcolor": "white",
            "gridwidth": 2,
            "linecolor": "white",
            "showbackground": true,
            "ticks": "",
            "zerolinecolor": "white"
           }
          },
          "shapedefaults": {
           "line": {
            "color": "#2a3f5f"
           }
          },
          "ternary": {
           "aaxis": {
            "gridcolor": "white",
            "linecolor": "white",
            "ticks": ""
           },
           "baxis": {
            "gridcolor": "white",
            "linecolor": "white",
            "ticks": ""
           },
           "bgcolor": "#E5ECF6",
           "caxis": {
            "gridcolor": "white",
            "linecolor": "white",
            "ticks": ""
           }
          },
          "title": {
           "x": 0.05
          },
          "xaxis": {
           "automargin": true,
           "gridcolor": "white",
           "linecolor": "white",
           "ticks": "",
           "title": {
            "standoff": 15
           },
           "zerolinecolor": "white",
           "zerolinewidth": 2
          },
          "yaxis": {
           "automargin": true,
           "gridcolor": "white",
           "linecolor": "white",
           "ticks": "",
           "title": {
            "standoff": 15
           },
           "zerolinecolor": "white",
           "zerolinewidth": 2
          }
         }
        },
        "title": {
         "text": "Quick KPIs"
        }
       }
      }
     },
     "metadata": {},
     "output_type": "display_data"
    }
   ],
   "source": [
    "total_sales = train['sales'].sum()\n",
    "median_sales = train['sales'].median()\n",
    "mean_sales = train['sales'].mean()\n",
    "max_sale = train['sales'].max()\n",
    "\n",
    "kpi_fig = go.Figure()\n",
    "kpi_fig.add_trace(go.Indicator(mode=\"number\", value=total_sales, title={\"text\": \"Total Sales\"}, domain={'row': 0, 'column': 0}))\n",
    "kpi_fig.add_trace(go.Indicator(mode=\"number\", value=median_sales, title={\"text\": \"Median Sale\"}, domain={'row': 0, 'column': 1}))\n",
    "kpi_fig.add_trace(go.Indicator(mode=\"number\", value=mean_sales, title={\"text\": \"Mean Sale\"}, domain={'row': 0, 'column': 2}))\n",
    "kpi_fig.add_trace(go.Indicator(mode=\"number\", value=max_sale, title={\"text\": \"Max Sale\"}, domain={'row': 0, 'column': 3}))\n",
    "kpi_fig.update_layout(grid={'rows': 1, 'columns': 4}, title=\"Quick KPIs\")"
   ]
  },
  {
   "cell_type": "markdown",
   "id": "dd6c4481",
   "metadata": {},
   "source": [
    "# Dash App"
   ]
  },
  {
   "cell_type": "code",
   "execution_count": 27,
   "id": "ac4a7126",
   "metadata": {},
   "outputs": [
    {
     "data": {
      "text/html": [
       "\n",
       "        <iframe\n",
       "            width=\"100%\"\n",
       "            height=\"650\"\n",
       "            src=\"http://127.0.0.1:8050/\"\n",
       "            frameborder=\"0\"\n",
       "            allowfullscreen\n",
       "            \n",
       "        ></iframe>\n",
       "        "
      ],
      "text/plain": [
       "<IPython.lib.display.IFrame at 0x1e18376a510>"
      ]
     },
     "metadata": {},
     "output_type": "display_data"
    }
   ],
   "source": [
    "app = dash.Dash(__name__)\n",
    "\n",
    "app.layout = html.Div([\n",
    "    html.H1(\"Sales Analytics Dashboard\", style={'text-align': 'center', 'margin-bottom': '30px'}),\n",
    "\n",
    "    html.Div([html.H2(\"Key Performance Indicators\"), dcc.Graph(id='kpi-chart', figure=kpi_fig)], style={'margin-bottom': '30px'}),\n",
    "    html.Div([html.H2(\"Sales Timeline Analysis\"), dcc.Graph(id='sales-timeline', figure=sales_timeline_fig)], style={'margin-bottom': '30px'}),\n",
    "    html.Div([html.H2(\"Product Family Sales\"), dcc.Graph(id='family-sales', figure=family_sales_fig)], style={'margin-bottom': '30px'}),\n",
    "    html.Div([html.H2(\"Monthly Sales Distribution\"), dcc.Graph(id='monthly-distribution', figure=monthly_box_fig)], style={'margin-bottom': '30px'}),\n",
    "    html.Div([html.H2(\"Weekday Sales Analysis\"), dcc.Graph(id='weekday-analysis', figure=weekday_analysis_fig)], style={'margin-bottom': '30px'}),\n",
    "    html.Div([html.H2(\"Oil Price vs Sales Correlation\"),\n",
    "              html.Div([dcc.Graph(id='oil-scatter', figure=oil_scatter_fig, style={'width': '50%', 'display': 'inline-block'}),\n",
    "                        dcc.Graph(id='oil-timeseries', figure=oil_timeseries_fig, style={'width': '50%', 'display': 'inline-block'})])],\n",
    "             style={'margin-bottom': '30px'}),\n",
    "    html.Div([html.H2(\"Geographic Sales Analysis\"),\n",
    "              html.Div([dcc.Graph(id='city-treemap', figure=city_treemap_fig, style={'width': '50%', 'display': 'inline-block'}),\n",
    "                        dcc.Graph(id='state-bar', figure=state_bar_fig, style={'width': '50%', 'display': 'inline-block'})])],\n",
    "             style={'margin-bottom': '30px'}),\n",
    "    html.Div([html.H2(\"Store Type Performance\"), dcc.Graph(id='store-type-timeline', figure=store_type_fig)], style={'margin-bottom': '30px'}),\n",
    "    html.Div([html.H2(\"Monthly Trends by Year\"), dcc.Graph(id='monthly-trends', figure=monthly_trends_fig)], style={'margin-bottom': '30px'}),\n",
    "    html.Div([html.H2(\"Time Series Metrics\"), dcc.Graph(id='time-series-metrics', figure=time_series_metrics_fig)], style={'margin-bottom': '30px'})\n",
    "], style={'padding': '20px', 'font-family': 'Arial, sans-serif'})\n",
    "\n",
    "if __name__ == \"__main__\":\n",
    "    app.run(debug=True)"
   ]
  }
 ],
 "metadata": {
  "kernelspec": {
   "display_name": "anac",
   "language": "python",
   "name": "python3"
  },
  "language_info": {
   "codemirror_mode": {
    "name": "ipython",
    "version": 3
   },
   "file_extension": ".py",
   "mimetype": "text/x-python",
   "name": "python",
   "nbconvert_exporter": "python",
   "pygments_lexer": "ipython3",
   "version": "3.13.7"
  }
 },
 "nbformat": 4,
 "nbformat_minor": 5
}
